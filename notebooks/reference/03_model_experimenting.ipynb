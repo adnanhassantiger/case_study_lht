{
 "cells": [
  {
   "cell_type": "markdown",
   "metadata": {},
   "source": [
    "# Purpose"
   ]
  },
  {
   "cell_type": "markdown",
   "metadata": {},
   "source": [
    "This notebook demonstrates the model experimentation and finalization. It covers EDA, outlier treatment, transformation, training, model evaluation and comparison across models."
   ]
  },
  {
   "cell_type": "markdown",
   "metadata": {},
   "source": [
    "## Imports"
   ]
  },
  {
   "cell_type": "code",
   "execution_count": 106,
   "metadata": {},
   "outputs": [],
   "source": [
    "import os\n",
    "import os.path as op\n",
    "import shutil\n",
    "\n",
    "# standard third party imports\n",
    "import numpy as np\n",
    "import pandas as pd\n",
    "from matplotlib import pyplot as plt\n",
    "from sklearn.pipeline import Pipeline\n",
    "from sklearn.feature_selection import SelectFromModel\n",
    "from sklearn.model_selection import GridSearchCV\n",
    "from sklearn.preprocessing import FunctionTransformer\n",
    "from sklearn.compose import ColumnTransformer\n",
    "\n",
    "# impute missing values\n",
    "from sklearn.experimental import enable_iterative_imputer  # noqa\n",
    "from sklearn.impute import KNNImputer, IterativeImputer, SimpleImputer\n",
    "from sklearn.tree import DecisionTreeRegressor\n",
    "from category_encoders import TargetEncoder\n"
   ]
  },
  {
   "cell_type": "code",
   "execution_count": 107,
   "metadata": {},
   "outputs": [
    {
     "name": "stdout",
     "output_type": "stream",
     "text": [
      "The autoreload extension is already loaded. To reload it, use:\n",
      "  %reload_ext autoreload\n"
     ]
    }
   ],
   "source": [
    "%load_ext autoreload\n",
    "%autoreload 2"
   ]
  },
  {
   "cell_type": "code",
   "execution_count": 108,
   "metadata": {},
   "outputs": [],
   "source": [
    "import warnings\n",
    "\n",
    "warnings.filterwarnings('ignore', message=\"pandas.Int64Index is deprecated and will be removed from pandas in a future version. Use pandas.Index with the appropriate dtype instead.\",\n",
    "                        category=FutureWarning)\n",
    "warnings.filterwarnings('ignore', message=\"pandas.Float64Index is deprecated and will be removed from pandas in a future version. Use pandas.Index with the appropriate dtype instead.\",\n",
    "                        category=FutureWarning)"
   ]
  },
  {
   "cell_type": "code",
   "execution_count": 109,
   "metadata": {},
   "outputs": [],
   "source": [
    "# standard code-template imports\n",
    "from ta_lib.core.api import (\n",
    "    create_context, get_dataframe, get_feature_names_from_column_transformer, string_cleaning,\n",
    "    get_package_path, display_as_tabs, save_pipeline, load_pipeline, initialize_environment,\n",
    "    load_dataset, save_dataset, DEFAULT_ARTIFACTS_PATH\n",
    ")\n",
    "\n",
    "import ta_lib.eda.api as eda\n",
    "from xgboost import XGBRegressor\n",
    "from ta_lib.regression.api import SKLStatsmodelOLS\n",
    "from ta_lib.regression.api import RegressionComparison, RegressionReport\n",
    "import ta_lib.reports.api as reports\n",
    "from ta_lib.data_processing.api import Outlier\n",
    "\n",
    "initialize_environment(debug=False, hide_warnings=True)"
   ]
  },
  {
   "cell_type": "markdown",
   "metadata": {},
   "source": [
    "# Initialization"
   ]
  },
  {
   "cell_type": "code",
   "execution_count": 110,
   "metadata": {},
   "outputs": [],
   "source": [
    "artifacts_folder = DEFAULT_ARTIFACTS_PATH"
   ]
  },
  {
   "cell_type": "code",
   "execution_count": 111,
   "metadata": {},
   "outputs": [],
   "source": [
    "config_path = op.join('conf', 'config.yml')\n",
    "context = create_context(config_path)"
   ]
  },
  {
   "cell_type": "markdown",
   "metadata": {},
   "source": [
    "# 3 Feature Engineering\n",
    "\n",
    "The focus here is the `Pipeline` and not the model. Though the model would inform the pipeline that is needed to train the model, our focus is to set it up in such a way that it can be saved/loaded, tweaked for different model choices and so on."
   ]
  },
  {
   "cell_type": "markdown",
   "metadata": {},
   "source": [
    "## 3.1 Read the Train and Test Data"
   ]
  },
  {
   "cell_type": "code",
   "execution_count": 112,
   "metadata": {},
   "outputs": [
    {
     "name": "stdout",
     "output_type": "stream",
     "text": [
      "(5527, 11) (5527, 1)\n",
      "(2370, 11) (2370, 1)\n"
     ]
    }
   ],
   "source": [
    "train_X = load_dataset(context, 'train/sales/features')\n",
    "train_y = load_dataset(context, 'train/sales/target')\n",
    "print(train_X.shape, train_y.shape)\n",
    "\n",
    "test_X = load_dataset(context, 'test/sales/features')\n",
    "test_y = load_dataset(context, 'test/sales/target')\n",
    "print(test_X.shape, test_y.shape)"
   ]
  },
  {
   "cell_type": "code",
   "execution_count": 113,
   "metadata": {},
   "outputs": [
    {
     "data": {
      "text/html": [
       "<div>\n",
       "<style scoped>\n",
       "    .dataframe tbody tr th:only-of-type {\n",
       "        vertical-align: middle;\n",
       "    }\n",
       "\n",
       "    .dataframe tbody tr th {\n",
       "        vertical-align: top;\n",
       "    }\n",
       "\n",
       "    .dataframe thead th {\n",
       "        text-align: right;\n",
       "    }\n",
       "</style>\n",
       "<table border=\"1\" class=\"dataframe\">\n",
       "  <thead>\n",
       "    <tr style=\"text-align: right;\">\n",
       "      <th></th>\n",
       "      <th>vendor</th>\n",
       "      <th>theme_id</th>\n",
       "      <th>theme_name</th>\n",
       "      <th>year_month</th>\n",
       "      <th>sales_dollars_value</th>\n",
       "      <th>sales_lbs_value</th>\n",
       "      <th>total_post</th>\n",
       "      <th>search_volume</th>\n",
       "      <th>year</th>\n",
       "      <th>rolling_6mnth_avg</th>\n",
       "      <th>binned_sales_units_value</th>\n",
       "    </tr>\n",
       "  </thead>\n",
       "  <tbody>\n",
       "    <tr>\n",
       "      <th>0</th>\n",
       "      <td>Others</td>\n",
       "      <td>171</td>\n",
       "      <td>cherry</td>\n",
       "      <td>2018-08</td>\n",
       "      <td>29510.0</td>\n",
       "      <td>1328</td>\n",
       "      <td>388.0</td>\n",
       "      <td>0.0</td>\n",
       "      <td>2018</td>\n",
       "      <td>3.462550e+04</td>\n",
       "      <td>1023-32717</td>\n",
       "    </tr>\n",
       "    <tr>\n",
       "      <th>1</th>\n",
       "      <td>Others</td>\n",
       "      <td>385</td>\n",
       "      <td>peanut</td>\n",
       "      <td>2017-09</td>\n",
       "      <td>230135.0</td>\n",
       "      <td>46998</td>\n",
       "      <td>18.0</td>\n",
       "      <td>0.0</td>\n",
       "      <td>2017</td>\n",
       "      <td>2.181087e+05</td>\n",
       "      <td>1023-32717</td>\n",
       "    </tr>\n",
       "    <tr>\n",
       "      <th>2</th>\n",
       "      <td>Others</td>\n",
       "      <td>287</td>\n",
       "      <td>tilapia</td>\n",
       "      <td>2018-09</td>\n",
       "      <td>47812.0</td>\n",
       "      <td>10358</td>\n",
       "      <td>0.0</td>\n",
       "      <td>0.0</td>\n",
       "      <td>2018</td>\n",
       "      <td>1.224157e+05</td>\n",
       "      <td>1023-32717</td>\n",
       "    </tr>\n",
       "    <tr>\n",
       "      <th>3</th>\n",
       "      <td>F</td>\n",
       "      <td>147</td>\n",
       "      <td>american gumbo</td>\n",
       "      <td>2019-02</td>\n",
       "      <td>909336.0</td>\n",
       "      <td>161209</td>\n",
       "      <td>12330.0</td>\n",
       "      <td>0.0</td>\n",
       "      <td>2019</td>\n",
       "      <td>3.268370e+05</td>\n",
       "      <td>32717-1046397</td>\n",
       "    </tr>\n",
       "    <tr>\n",
       "      <th>4</th>\n",
       "      <td>A</td>\n",
       "      <td>75</td>\n",
       "      <td>french bisque</td>\n",
       "      <td>2018-02</td>\n",
       "      <td>120422.0</td>\n",
       "      <td>15425</td>\n",
       "      <td>27693.0</td>\n",
       "      <td>1188028.0</td>\n",
       "      <td>2018</td>\n",
       "      <td>9.996305e+05</td>\n",
       "      <td>32717-1046397</td>\n",
       "    </tr>\n",
       "    <tr>\n",
       "      <th>...</th>\n",
       "      <td>...</td>\n",
       "      <td>...</td>\n",
       "      <td>...</td>\n",
       "      <td>...</td>\n",
       "      <td>...</td>\n",
       "      <td>...</td>\n",
       "      <td>...</td>\n",
       "      <td>...</td>\n",
       "      <td>...</td>\n",
       "      <td>...</td>\n",
       "      <td>...</td>\n",
       "    </tr>\n",
       "    <tr>\n",
       "      <th>5522</th>\n",
       "      <td>Private Label</td>\n",
       "      <td>207</td>\n",
       "      <td>energyalertness</td>\n",
       "      <td>2018-10</td>\n",
       "      <td>394.0</td>\n",
       "      <td>28</td>\n",
       "      <td>2442.0</td>\n",
       "      <td>64839.0</td>\n",
       "      <td>2018</td>\n",
       "      <td>5.306333e+04</td>\n",
       "      <td>32-1023</td>\n",
       "    </tr>\n",
       "    <tr>\n",
       "      <th>5523</th>\n",
       "      <td>Private Label</td>\n",
       "      <td>430</td>\n",
       "      <td>soy foods</td>\n",
       "      <td>2019-10</td>\n",
       "      <td>328591.0</td>\n",
       "      <td>445851</td>\n",
       "      <td>2772.0</td>\n",
       "      <td>2739.0</td>\n",
       "      <td>2019</td>\n",
       "      <td>8.574877e+05</td>\n",
       "      <td>32717-1046397</td>\n",
       "    </tr>\n",
       "    <tr>\n",
       "      <th>5524</th>\n",
       "      <td>D</td>\n",
       "      <td>430</td>\n",
       "      <td>soy foods</td>\n",
       "      <td>2017-08</td>\n",
       "      <td>3354597.0</td>\n",
       "      <td>3207314</td>\n",
       "      <td>2430.0</td>\n",
       "      <td>156636.0</td>\n",
       "      <td>2017</td>\n",
       "      <td>7.921912e+06</td>\n",
       "      <td>32717-1046397</td>\n",
       "    </tr>\n",
       "    <tr>\n",
       "      <th>5525</th>\n",
       "      <td>F</td>\n",
       "      <td>8</td>\n",
       "      <td>low carb</td>\n",
       "      <td>2016-10</td>\n",
       "      <td>68218362.0</td>\n",
       "      <td>21575959</td>\n",
       "      <td>2283165.0</td>\n",
       "      <td>72401699.0</td>\n",
       "      <td>2016</td>\n",
       "      <td>6.138404e+07</td>\n",
       "      <td>1046397-33467285</td>\n",
       "    </tr>\n",
       "    <tr>\n",
       "      <th>5526</th>\n",
       "      <td>Private Label</td>\n",
       "      <td>432</td>\n",
       "      <td>apple cinnamon</td>\n",
       "      <td>2017-12</td>\n",
       "      <td>9525935.0</td>\n",
       "      <td>6169976</td>\n",
       "      <td>0.0</td>\n",
       "      <td>0.0</td>\n",
       "      <td>2017</td>\n",
       "      <td>3.072218e+07</td>\n",
       "      <td>32717-1046397</td>\n",
       "    </tr>\n",
       "  </tbody>\n",
       "</table>\n",
       "<p>5527 rows × 11 columns</p>\n",
       "</div>"
      ],
      "text/plain": [
       "             vendor  theme_id       theme_name year_month  \\\n",
       "0            Others       171           cherry    2018-08   \n",
       "1            Others       385           peanut    2017-09   \n",
       "2            Others       287          tilapia    2018-09   \n",
       "3                 F       147   american gumbo    2019-02   \n",
       "4                 A        75    french bisque    2018-02   \n",
       "...             ...       ...              ...        ...   \n",
       "5522  Private Label       207  energyalertness    2018-10   \n",
       "5523  Private Label       430        soy foods    2019-10   \n",
       "5524              D       430        soy foods    2017-08   \n",
       "5525              F         8         low carb    2016-10   \n",
       "5526  Private Label       432   apple cinnamon    2017-12   \n",
       "\n",
       "      sales_dollars_value  sales_lbs_value  total_post  search_volume  year  \\\n",
       "0                 29510.0             1328       388.0            0.0  2018   \n",
       "1                230135.0            46998        18.0            0.0  2017   \n",
       "2                 47812.0            10358         0.0            0.0  2018   \n",
       "3                909336.0           161209     12330.0            0.0  2019   \n",
       "4                120422.0            15425     27693.0      1188028.0  2018   \n",
       "...                   ...              ...         ...            ...   ...   \n",
       "5522                394.0               28      2442.0        64839.0  2018   \n",
       "5523             328591.0           445851      2772.0         2739.0  2019   \n",
       "5524            3354597.0          3207314      2430.0       156636.0  2017   \n",
       "5525           68218362.0         21575959   2283165.0     72401699.0  2016   \n",
       "5526            9525935.0          6169976         0.0            0.0  2017   \n",
       "\n",
       "      rolling_6mnth_avg binned_sales_units_value  \n",
       "0          3.462550e+04               1023-32717  \n",
       "1          2.181087e+05               1023-32717  \n",
       "2          1.224157e+05               1023-32717  \n",
       "3          3.268370e+05            32717-1046397  \n",
       "4          9.996305e+05            32717-1046397  \n",
       "...                 ...                      ...  \n",
       "5522       5.306333e+04                  32-1023  \n",
       "5523       8.574877e+05            32717-1046397  \n",
       "5524       7.921912e+06            32717-1046397  \n",
       "5525       6.138404e+07         1046397-33467285  \n",
       "5526       3.072218e+07            32717-1046397  \n",
       "\n",
       "[5527 rows x 11 columns]"
      ]
     },
     "execution_count": 113,
     "metadata": {},
     "output_type": "execute_result"
    }
   ],
   "source": [
    "train_X"
   ]
  },
  {
   "cell_type": "code",
   "execution_count": 114,
   "metadata": {},
   "outputs": [],
   "source": [
    "train_X = train_X.drop('theme_id', axis=1)\n",
    "test_X = test_X.drop('theme_id', axis=1)"
   ]
  },
  {
   "cell_type": "markdown",
   "metadata": {},
   "source": [
    "## 3.2 Feature Engineering Pipelines\n"
   ]
  },
  {
   "cell_type": "markdown",
   "metadata": {},
   "source": [
    "**Dev NOTES**\n",
    "\n",
    "For Feature Engineering and Model Building sklearn.pipeline.Pipeline are leveraged because of the following advantages\n",
    "<details>\n",
    "    \n",
    "1. It helps in automating workflows and are easier to read and comprehend.\n",
    "2. Right Sequence can be ensured and (for example always encodes before imputing)\n",
    "3. Reproducibility is very convenient with pipelines\n",
    "4. Pipelines help you prevent data leakage in your test data\n",
    "5. Code is near implementation ready"
   ]
  },
  {
   "cell_type": "markdown",
   "metadata": {},
   "source": [
    "#### General Steps in the Feature Transformation are as follows\n",
    " - Outlier Treatment\n",
    " - Encoding of Categorical Columns\n",
    " - Missing Values Imputation"
   ]
  },
  {
   "cell_type": "code",
   "execution_count": 115,
   "metadata": {},
   "outputs": [],
   "source": [
    "# collecting different types of columns for transformations\n",
    "cat_columns = train_X.select_dtypes('object').columns\n",
    "num_columns = train_X.select_dtypes('number').columns"
   ]
  },
  {
   "cell_type": "markdown",
   "metadata": {},
   "source": [
    "#### Outlier Handling\n",
    "- A Custom Transformer is used to handle outliers. It is not included as part of the pipeline as outliers handling are optional for test data\n",
    "- An option to either drop or cap the outliers can be passed during the transform call\n",
    "- If we want to treat outliers for some columns them we can pass cols argument to the Transformer\n",
    "- This will go into production code"
   ]
  },
  {
   "cell_type": "code",
   "execution_count": 116,
   "metadata": {},
   "outputs": [
    {
     "name": "stdout",
     "output_type": "stream",
     "text": [
      "(5527, 10)\n",
      "(5527, 10)\n"
     ]
    }
   ],
   "source": [
    "outlier_transformer = Outlier(method='mean')\n",
    "print(train_X.shape)\n",
    "train_X = outlier_transformer.fit_transform(train_X)\n",
    "print(train_X.shape)"
   ]
  },
  {
   "cell_type": "markdown",
   "metadata": {},
   "source": [
    "#### Encoding\n"
   ]
  },
  {
   "cell_type": "markdown",
   "metadata": {},
   "source": [
    "Some sample pipelines showcasing how to create column specific pipelines and integrating them overall is presented below\n",
    "\n",
    "- Commonly target encoding is done for categorical variables with too many levels.\n",
    "- We also group sparse levels. For fewer levels one hot encoding/label encoding is preferred.\n",
    "- If there is one dominant level, we can use binary encoding.\n",
    "- This will go into production code"
   ]
  },
  {
   "cell_type": "code",
   "execution_count": 117,
   "metadata": {},
   "outputs": [],
   "source": [
    "tgt_enc_simple_impt = Pipeline([\n",
    "    # ('target_encoding', TargetEncoder(return_df=False)),\n",
    "    ('simple_impute', SimpleImputer(strategy='most_frequent'))\n",
    "])\n",
    "\n",
    "\n",
    "# NOTE: the list of transformations here are not sequential but weighted\n",
    "# (if multiple transforms are specified for a particular column)\n",
    "# for sequential transforms use a pipeline as shown above.\n",
    "features_transformer = ColumnTransformer([\n",
    "\n",
    "    ## categorical columns\n",
    "    # ('tgt_enc', TargetEncoder(return_df=False),\n",
    "    #  list(set(cat_columns))),\n",
    "\n",
    "    # NOTE: if the same column gets repeated, then they are weighed in the final output\n",
    "    # If we want a sequence of operations, then we use a pipeline but that doesen't YET support\n",
    "    # get_feature_names.\n",
    "    # ('tgt_enc_sim_impt', tgt_enc_simple_impt),\n",
    "\n",
    "    ## numeric columns\n",
    "    ('med_enc', SimpleImputer(strategy='median'), num_columns)\n",
    "\n",
    "])\n"
   ]
  },
  {
   "cell_type": "markdown",
   "metadata": {},
   "source": [
    "**Dev notes(Encoding):**\n",
    "<details>\n",
    "\n",
    "    Some common practices followed in Categorical Feature Encoding are\n",
    "    * For categorical variables with too many levels, target encoding can be done.\n",
    "    * For fewer levels, one hot encoding can be done.\n",
    "    * If one very dominant level is observed, binary encoding can be used.\n",
    "    \n",
    "    \n",
    "</details>"
   ]
  },
  {
   "cell_type": "markdown",
   "metadata": {},
   "source": [
    "## 3.2 Feature analysis\n",
    "\n",
    "Using the pipeline above analyze the features and decide on additional features to add/remove from the pipeline. This section will not be part of the production code, unless input data drifts etc. are explicitly demanded in the project.\n",
    "\n",
    "Here we are primarily focused on feature selection/elimination based on business rules, prior knowledge, data analysis.\n",
    "\n",
    "**We are not building any models at this point.**\n"
   ]
  },
  {
   "cell_type": "markdown",
   "metadata": {},
   "source": [
    "- we create some sample data to analyze that we assume represent the population\n",
    "- train the features transformer and do the analysis as below"
   ]
  },
  {
   "cell_type": "code",
   "execution_count": 118,
   "metadata": {},
   "outputs": [],
   "source": [
    "sample_X = train_X.sample(frac=0.1, random_state=context.random_seed)\n",
    "sample_y = train_y.loc[sample_X.index]\n",
    "\n",
    "sample_train_X = get_dataframe(\n",
    "    features_transformer.fit_transform(sample_X, sample_y),\n",
    "    get_feature_names_from_column_transformer(features_transformer)\n",
    ")\n",
    "\n",
    "# nothing to do for target\n",
    "sample_train_y = sample_y"
   ]
  },
  {
   "cell_type": "markdown",
   "metadata": {},
   "source": [
    "Running the features transformer on the complete data"
   ]
  },
  {
   "cell_type": "code",
   "execution_count": 119,
   "metadata": {},
   "outputs": [],
   "source": [
    "train_X = get_dataframe(\n",
    "    features_transformer.fit_transform(train_X, train_y),\n",
    "    get_feature_names_from_column_transformer(features_transformer)\n",
    ")"
   ]
  },
  {
   "cell_type": "markdown",
   "metadata": {},
   "source": [
    "### 3.2.1 Univariate\n",
    "\n",
    "\n",
    "- Look at each variable independently. This is useful if your models have assumptions on the distribution and/or bounds on the features/target"
   ]
  },
  {
   "cell_type": "code",
   "execution_count": 120,
   "metadata": {},
   "outputs": [
    {
     "data": {},
     "metadata": {},
     "output_type": "display_data"
    },
    {
     "data": {
      "application/vnd.holoviews_exec.v0+json": "",
      "text/html": [
       "<div id='43720'>\n",
       "  <div class=\"bk-root\" id=\"bd7865db-e467-4630-922a-de895c902e45\" data-root-id=\"43720\"></div>\n",
       "</div>\n",
       "<script type=\"application/javascript\">(function(root) {\n",
       "  function embed_document(root) {\n",
       "    var docs_json = {\"700f9fa2-007f-449f-b0eb-68d68ee65e46\":{\"defs\":[{\"extends\":null,\"module\":null,\"name\":\"ReactiveHTML1\",\"overrides\":[],\"properties\":[]},{\"extends\":null,\"module\":null,\"name\":\"FlexBox1\",\"overrides\":[],\"properties\":[{\"default\":\"flex-start\",\"kind\":null,\"name\":\"align_content\"},{\"default\":\"flex-start\",\"kind\":null,\"name\":\"align_items\"},{\"default\":\"row\",\"kind\":null,\"name\":\"flex_direction\"},{\"default\":\"wrap\",\"kind\":null,\"name\":\"flex_wrap\"},{\"default\":\"flex-start\",\"kind\":null,\"name\":\"justify_content\"}]},{\"extends\":null,\"module\":null,\"name\":\"GridStack1\",\"overrides\":[],\"properties\":[{\"default\":\"warn\",\"kind\":null,\"name\":\"mode\"},{\"default\":null,\"kind\":null,\"name\":\"ncols\"},{\"default\":null,\"kind\":null,\"name\":\"nrows\"},{\"default\":true,\"kind\":null,\"name\":\"allow_resize\"},{\"default\":true,\"kind\":null,\"name\":\"allow_drag\"},{\"default\":[],\"kind\":null,\"name\":\"state\"}]},{\"extends\":null,\"module\":null,\"name\":\"click1\",\"overrides\":[],\"properties\":[{\"default\":\"\",\"kind\":null,\"name\":\"terminal_output\"},{\"default\":\"\",\"kind\":null,\"name\":\"debug_name\"},{\"default\":0,\"kind\":null,\"name\":\"clears\"}]},{\"extends\":null,\"module\":null,\"name\":\"NotificationAreaBase1\",\"overrides\":[],\"properties\":[{\"default\":\"bottom-right\",\"kind\":null,\"name\":\"position\"},{\"default\":0,\"kind\":null,\"name\":\"_clear\"}]},{\"extends\":null,\"module\":null,\"name\":\"NotificationArea1\",\"overrides\":[],\"properties\":[{\"default\":[],\"kind\":null,\"name\":\"notifications\"},{\"default\":\"bottom-right\",\"kind\":null,\"name\":\"position\"},{\"default\":0,\"kind\":null,\"name\":\"_clear\"},{\"default\":[{\"background\":\"#ffc107\",\"icon\":{\"className\":\"fas fa-exclamation-triangle\",\"color\":\"white\",\"tagName\":\"i\"},\"type\":\"warning\"},{\"background\":\"#007bff\",\"icon\":{\"className\":\"fas fa-info-circle\",\"color\":\"white\",\"tagName\":\"i\"},\"type\":\"info\"}],\"kind\":null,\"name\":\"types\"}]},{\"extends\":null,\"module\":null,\"name\":\"Notification\",\"overrides\":[],\"properties\":[{\"default\":null,\"kind\":null,\"name\":\"background\"},{\"default\":3000,\"kind\":null,\"name\":\"duration\"},{\"default\":null,\"kind\":null,\"name\":\"icon\"},{\"default\":\"\",\"kind\":null,\"name\":\"message\"},{\"default\":null,\"kind\":null,\"name\":\"notification_type\"},{\"default\":false,\"kind\":null,\"name\":\"_destroyed\"}]},{\"extends\":null,\"module\":null,\"name\":\"TemplateActions1\",\"overrides\":[],\"properties\":[{\"default\":0,\"kind\":null,\"name\":\"open_modal\"},{\"default\":0,\"kind\":null,\"name\":\"close_modal\"}]},{\"extends\":null,\"module\":null,\"name\":\"MaterialTemplateActions1\",\"overrides\":[],\"properties\":[{\"default\":0,\"kind\":null,\"name\":\"open_modal\"},{\"default\":0,\"kind\":null,\"name\":\"close_modal\"}]}],\"roots\":{\"references\":[{\"attributes\":{\"children\":[[{\"id\":\"43725\"},0,0],[{\"id\":\"43928\"},1,0]]},\"id\":\"43949\",\"type\":\"GridBox\"},{\"attributes\":{},\"id\":\"43793\",\"type\":\"UnionRenderers\"},{\"attributes\":{\"format\":\"0,0.0[00000]\"},\"id\":\"43923\",\"type\":\"NumberFormatter\"},{\"attributes\":{\"fill_alpha\":0.2,\"fill_color\":\"#30a2da\",\"hatch_alpha\":0.2,\"hatch_color\":\"#30a2da\",\"line_alpha\":0.2,\"x\":{\"field\":\"x\"},\"y\":{\"field\":\"y\"}},\"id\":\"43775\",\"type\":\"Patch\"},{\"attributes\":{},\"id\":\"43730\",\"type\":\"LinearScale\"},{\"attributes\":{\"source\":{\"id\":\"43886\"}},\"id\":\"43930\",\"type\":\"CDSView\"},{\"attributes\":{\"toolbars\":[{\"id\":\"43748\"}],\"tools\":[{\"id\":\"43724\"},{\"id\":\"43742\"},{\"id\":\"43743\"},{\"id\":\"43744\"},{\"id\":\"43745\"},{\"id\":\"43746\"}]},\"id\":\"43950\",\"type\":\"ProxyToolbar\"},{\"attributes\":{},\"id\":\"43887\",\"type\":\"Selection\"},{\"attributes\":{\"fill_alpha\":0.5,\"fill_color\":\"#30a2da\",\"hatch_color\":\"#30a2da\",\"x\":{\"field\":\"x\"},\"y\":{\"field\":\"y\"}},\"id\":\"43778\",\"type\":\"Patch\"},{\"attributes\":{\"data\":{\"x\":{\"__ndarray__\":\"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\",\"dtype\":\"float64\",\"order\":\"little\",\"shape\":[200]},\"y\":{\"__ndarray__\":\"AAAAAAAAAAAAAAAAAAAAAAAAAAAAAAAAAAAAAAAAAAAAAAAAAAAAAAAAAAAAAAAAAAAAAAAAAAAAAAAAAAAAAAAAAAAAAAAAAAAAAAAAAAAAAAAAAAAAAAAAAAAAAAAAAAAAAAAAAAAAAAAAAAAAAAAAAAAAAAAAAAAAAAAAAAAAAAAAAAAAAAAAAAAAAAAAAAAAAAAAAAAAAAAAAAAAAAAAAAAAAAAAAAAAAAAAAAAAAAAAAAAAAAAAAAAAAAAAAAAAAAAAAAAAAAAAAAAAAAAAAAAAAAAAAAAAAAAAAAAAAAAAAAAAAAAAAAAAAAAAAAAAAAAAAAAAAAAAAAAAAAAAAAAAAAAAAAAAAAAAAAAAAAAAAAAAAAAAAAAAAAAAAAAAAAAAAAAAAAAAAAAAAAAAAAAAAAAAAAAAAAAAAAAAAAAAAAAAAAAAAAAAAAAAAAAAAAAAAAAAAAAAAAAAAAAAAAAAAAAAAAAAAAAAAAAAAAAAAAAAAAAAAAAAAAAAAAAAAAAAAAAAAAAAAAAAAAAAAAAAAAAAAAAAAAAAAAAAAAAAAAAAAAAAAAAAAAAAAAAAAAAAAAAAAAAAAAAAAAAAAAAAAAAAAAAAAAAAAAAAAAAAAAAAAAAAAAAAAAAAAAAAAAAAAAAAAAAAAAAAAAAAAAAAAAAAAAAAAAAAAAAAAAAAAAAAAAAAAAAAAAAAAAAAAAAAAAAAAAAAAAAAAAAAAAAAAAAAAAAAAAAAAAAAAAAAAAAAAAAAAAAAAAAAAAAAAAAAAAAAAAAAAAAAAAAAAAAAAAAAAAAAAAAAAAAAAAAAAAAAAAAAAAAAAAAAAAAAAAAAAAAAAAAAAAAAAAAAAAAAAAAAAAAAAAAAAAAAAAAAAAAAAAAAAAAAAAAAAAAAAAAAAAAAAAAAAAAAAAAAAAAAAAAAAAAAAAAAAAAAAAAAAAAAAAAAAAAAAAAAAAAAAAAAAAAAAAAAAAAAAAAAAAAAAAAAAAAAAAAAAAAAAAAAAAAAAAAAAAAAAAAAAAAAAAAAAAAAAAAAAAAAAAAAAAAAAAAAAAAAAAAAAACH+DxbVa3QPddYajBYN+M9e0XQFkxf9D0bwJlzneADPt2rVdpG2xE+mE+a0M+NHT5cDSYg6YsmPrpdDd9uvy8+pLGQnOuoND7FKoi1zug4Ps5znJR66js+fDS0IQQ6PT47TOrfEs08Pnzi8nG8Ajs+2sFBzPB7OD5fhRLgzOE1PmXoH/PatDM+b0lxVSc2Mj4/LKPgpGoxPlCQIgcMLjE+bLAIbdFIMT76Sj5tzoExPksN8XHJqTE+UA1eJcyhMT5UI0PNdF0xPgq+nQYA4jA+QIjzeKRCMD6B8/DQwTUvPuR3OM3PDi4+gJcqfIU9LT6B4jnsd9csPgdXt/Zt2Cw+Beq7JdQrLT5wHjPfn74tPnHbmzQLkC4+cZ+2aq+2Lz4KOtrC7qowPv5HQSlfxDE+jUGrrYUnMz5/1KCZC8M0Ph5kgFDreDY+lwZJG84oOD5k8mnxurs5PjFbxa9hLDs+QDLTnsOIPD7A6+PuTuw9PhoO/9Y1dD8+/J/ijyeZQD6BPV73FJJBPoFm84qBmUI+MHHLm8SeQz6jbi1+j5NEPt0Xa8Y4ckU+UBBU1tE+Rj6Ily6u0AFHPrP9HF3rvkc+eT0rK3htSD4/cZm3aPdIPtaLGACjQEk+lbI0stIzST4m+hV3es5IPnK5M+0SJkg+bgkiRn9jRz4CK9+oGrdGPqAIiQw8S0Y+FhoadUU7Rj7B7shPTZJGPi5icEJLUEc+rm/HSfFxSD4996/+LfdJPj7wqKUO5ks+NJ0aybxJTj6xyNcJSZdQPplfp69vTlI+2MMgbXVKVD4DANJgJ4hWPr3463JFB1k+tPJ3jifZWz44tgF1GDhfPpmq4C8I0WE+pSNeR3D0ZD7bmVhH4JBpPrP3f9qBF3A+dIjepPWJdD6R49sRjfh5PsPgCmqa1X8+8+DcXR2Zgj7iVPGCD3mEPuS9mPaaEYU+xTdrmg0rhD79ZiY1O+aBPtYad5luZH0+Dz+fxclKdj5gC2TmBDRvPq07EYIDI2Q+7aarTbjzVz5vMp+hqT5KPsvnyy1bezo+bAJk/MCZKD5svlLi9ggVPg==\",\"dtype\":\"float64\",\"order\":\"little\",\"shape\":[200]}},\"selected\":{\"id\":\"43771\"},\"selection_policy\":{\"id\":\"43793\"}},\"id\":\"43770\",\"type\":\"ColumnDataSource\"},{\"attributes\":{},\"id\":\"43744\",\"type\":\"WheelZoomTool\"},{\"attributes\":{\"end\":1.5854432068645518e-07},\"id\":\"43779\",\"type\":\"Range1d\"},{\"attributes\":{\"margin\":[5,5,5,5],\"name\":\"HSpacer117515\",\"sizing_mode\":\"stretch_width\"},\"id\":\"43721\",\"type\":\"Spacer\"},{\"attributes\":{\"end\":3489.55,\"reset_end\":3800.499999999994,\"reset_start\":0.0,\"tags\":[[[\"Frequency\",\"Frequency\",null]]]},\"id\":\"43723\",\"type\":\"Range1d\"},{\"attributes\":{},\"id\":\"43756\",\"type\":\"BasicTickFormatter\"},{\"attributes\":{\"end\":43499299.99084109,\"reset_end\":43499299.99084109,\"reset_start\":-7099816.454919675,\"start\":-7099816.454919675,\"tags\":[[[\"x\",\"x\",null]]]},\"id\":\"43722\",\"type\":\"Range1d\"},{\"attributes\":{\"bottom\":{\"value\":0},\"fill_alpha\":{\"value\":0.1},\"fill_color\":{\"value\":\"#00fff0\"},\"hatch_alpha\":{\"value\":0.1},\"hatch_color\":{\"value\":\"#00fff0\"},\"left\":{\"field\":\"left\"},\"line_alpha\":{\"value\":0.1},\"right\":{\"field\":\"right\"},\"top\":{\"field\":\"top\"}},\"id\":\"43765\",\"type\":\"Quad\"},{\"attributes\":{\"data\":{\"left\":{\"__ndarray__\":\"AAAAAAAAAADdgUItRsU7Qd2BQi1GxUtBZuHxofTTVEHdgUItRsVbQSqRSdxLW2FBZuHxofTTZEGhMZpnnUxoQd2BQi1GxWtBGdLq8u49b0EqkUncS1txQUi5HT+gF3NBZuHxofTTdEGECcYESZB2QaExmmedTHhBv1luyvEIekHdgUItRsV7QfupFpCagX1BGdLq8u49f0Ebfd+qIX2AQQ==\",\"dtype\":\"float64\",\"order\":\"little\",\"shape\":[20]},\"right\":{\"__ndarray__\":\"3YFCLUbFO0HdgUItRsVLQWbh8aH001RB3YFCLUbFW0EqkUncS1thQWbh8aH002RBoTGaZ51MaEHdgUItRsVrQRnS6vLuPW9BKpFJ3EtbcUFIuR0/oBdzQWbh8aH003RBhAnGBEmQdkGhMZpnnUx4Qb9ZbsrxCHpB3YFCLUbFe0H7qRaQmoF9QRnS6vLuPX9BG33fqiF9gEEqkUncS1uBQQ==\",\"dtype\":\"float64\",\"order\":\"little\",\"shape\":[20]},\"top\":[3455,347,310,189,131,103,81,145,101,113,69,71,54,26,38,35,41,37,39,142]},\"selected\":{\"id\":\"43762\"},\"selection_policy\":{\"id\":\"43791\"}},\"id\":\"43761\",\"type\":\"ColumnDataSource\"},{\"attributes\":{},\"id\":\"43735\",\"type\":\"BasicTicker\"},{\"attributes\":{\"toolbar\":{\"id\":\"43950\"},\"toolbar_location\":\"above\"},\"id\":\"43951\",\"type\":\"ToolbarBox\"},{\"attributes\":{\"bottom_units\":\"screen\",\"coordinates\":null,\"fill_alpha\":0.5,\"fill_color\":\"lightgrey\",\"group\":null,\"left_units\":\"screen\",\"level\":\"overlay\",\"line_alpha\":1.0,\"line_color\":\"black\",\"line_dash\":[4,4],\"line_width\":2,\"right_units\":\"screen\",\"syncable\":false,\"top_units\":\"screen\"},\"id\":\"43747\",\"type\":\"BoxAnnotation\"},{\"attributes\":{\"axis\":{\"id\":\"43734\"},\"coordinates\":null,\"grid_line_color\":null,\"group\":null,\"ticker\":null},\"id\":\"43737\",\"type\":\"Grid\"},{\"attributes\":{\"columns\":[{\"id\":\"43890\"},{\"id\":\"43895\"},{\"id\":\"43900\"},{\"id\":\"43905\"},{\"id\":\"43910\"},{\"id\":\"43915\"},{\"id\":\"43920\"},{\"id\":\"43925\"}],\"height\":60,\"reorderable\":false,\"source\":{\"id\":\"43886\"},\"view\":{\"id\":\"43930\"}},\"id\":\"43928\",\"type\":\"DataTable\"},{\"attributes\":{},\"id\":\"43947\",\"type\":\"UnionRenderers\"},{\"attributes\":{\"callback\":null,\"renderers\":[{\"id\":\"43776\"}],\"tags\":[\"hv_created\"],\"tooltips\":[[\"sales_lbs_value\",\"@{sales_lbs_value}\"],[\"Density\",\"@{sales_lbs_value_density}\"]]},\"id\":\"43724\",\"type\":\"HoverTool\"},{\"attributes\":{},\"id\":\"43762\",\"type\":\"Selection\"},{\"attributes\":{\"axis_label\":\"sales_lbs_value\",\"coordinates\":null,\"formatter\":{\"id\":\"43756\"},\"group\":null,\"major_label_policy\":{\"id\":\"43757\"},\"ticker\":{\"id\":\"43735\"}},\"id\":\"43734\",\"type\":\"LinearAxis\"},{\"attributes\":{\"below\":[{\"id\":\"43734\"}],\"center\":[{\"id\":\"43737\"},{\"id\":\"43741\"}],\"extra_y_ranges\":{\"twiny\":{\"id\":\"43779\"}},\"height\":300,\"left\":[{\"id\":\"43738\"}],\"margin\":null,\"min_border_bottom\":10,\"min_border_left\":10,\"min_border_right\":10,\"min_border_top\":10,\"renderers\":[{\"id\":\"43767\"},{\"id\":\"43776\"}],\"right\":[{\"id\":\"43780\"}],\"sizing_mode\":\"fixed\",\"title\":{\"id\":\"43726\"},\"toolbar\":{\"id\":\"43748\"},\"toolbar_location\":null,\"x_range\":{\"id\":\"43722\"},\"x_scale\":{\"id\":\"43730\"},\"y_range\":{\"id\":\"43723\"},\"y_scale\":{\"id\":\"43732\"}},\"id\":\"43725\",\"subtype\":\"Figure\",\"type\":\"Plot\"},{\"attributes\":{\"margin\":[5,5,5,5],\"name\":\"HSpacer117516\",\"sizing_mode\":\"stretch_width\"},\"id\":\"44089\",\"type\":\"Spacer\"},{\"attributes\":{\"axis_label\":\"y, sales_lbs_value_density\",\"coordinates\":null,\"formatter\":{\"id\":\"43786\"},\"group\":null,\"major_label_policy\":{\"id\":\"43787\"},\"ticker\":{\"id\":\"43785\"},\"y_range_name\":\"twiny\"},\"id\":\"43780\",\"type\":\"LinearAxis\"},{\"attributes\":{\"format\":\"0,0.0[00000]\"},\"id\":\"43888\",\"type\":\"NumberFormatter\"},{\"attributes\":{},\"id\":\"43757\",\"type\":\"AllLabels\"},{\"attributes\":{\"coordinates\":null,\"group\":null,\"text\":\"Density Plot for sales_lbs_value\",\"text_color\":\"black\",\"text_font_size\":\"12pt\"},\"id\":\"43726\",\"type\":\"Title\"},{\"attributes\":{\"data\":{\"A_25_percent\":{\"__ndarray__\":\"AAAAANDj40A=\",\"dtype\":\"float64\",\"order\":\"little\",\"shape\":[1]},\"A_50_percent\":{\"__ndarray__\":\"AAAAABQcIEE=\",\"dtype\":\"float64\",\"order\":\"little\",\"shape\":[1]},\"A_75_percent\":{\"__ndarray__\":\"AAAAQPTMVUE=\",\"dtype\":\"float64\",\"order\":\"little\",\"shape\":[1]},\"count\":{\"__ndarray__\":\"AAAAAACXtUA=\",\"dtype\":\"float64\",\"order\":\"little\",\"shape\":[1]},\"max\":{\"__ndarray__\":\"hetR3EtbgUE=\",\"dtype\":\"float64\",\"order\":\"little\",\"shape\":[1]},\"mean\":{\"__ndarray__\":\"cT0Kh3bBU0E=\",\"dtype\":\"float64\",\"order\":\"little\",\"shape\":[1]},\"min\":{\"__ndarray__\":\"AAAAAAAAAAA=\",\"dtype\":\"float64\",\"order\":\"little\",\"shape\":[1]},\"std\":{\"__ndarray__\":\"KVyP6v0ZYUE=\",\"dtype\":\"float64\",\"order\":\"little\",\"shape\":[1]}},\"selected\":{\"id\":\"43887\"},\"selection_policy\":{\"id\":\"43947\"}},\"id\":\"43886\",\"type\":\"ColumnDataSource\"},{\"attributes\":{\"children\":[{\"id\":\"43721\"},{\"id\":\"43952\"},{\"id\":\"44089\"}],\"margin\":[0,0,0,0],\"name\":\"Row117511\",\"tags\":[\"embedded\"]},\"id\":\"43720\",\"type\":\"Row\"},{\"attributes\":{\"coordinates\":null,\"data_source\":{\"id\":\"43761\"},\"glyph\":{\"id\":\"43764\"},\"group\":null,\"hover_glyph\":null,\"muted_glyph\":{\"id\":\"43766\"},\"nonselection_glyph\":{\"id\":\"43765\"},\"selection_glyph\":{\"id\":\"43769\"},\"view\":{\"id\":\"43768\"}},\"id\":\"43767\",\"type\":\"GlyphRenderer\"},{\"attributes\":{},\"id\":\"43739\",\"type\":\"BasicTicker\"},{\"attributes\":{\"children\":[{\"id\":\"43951\"},{\"id\":\"43949\"}]},\"id\":\"43952\",\"type\":\"Column\"},{\"attributes\":{\"axis\":{\"id\":\"43738\"},\"coordinates\":null,\"dimension\":1,\"grid_line_color\":null,\"group\":null,\"ticker\":null},\"id\":\"43741\",\"type\":\"Grid\"},{\"attributes\":{\"axis_label\":\"Frequency\",\"coordinates\":null,\"formatter\":{\"id\":\"43759\"},\"group\":null,\"major_label_policy\":{\"id\":\"43760\"},\"ticker\":{\"id\":\"43739\"}},\"id\":\"43738\",\"type\":\"LinearAxis\"},{\"attributes\":{},\"id\":\"43743\",\"type\":\"PanTool\"},{\"attributes\":{\"tools\":[{\"id\":\"43724\"},{\"id\":\"43742\"},{\"id\":\"43743\"},{\"id\":\"43744\"},{\"id\":\"43745\"},{\"id\":\"43746\"}]},\"id\":\"43748\",\"type\":\"Toolbar\"},{\"attributes\":{},\"id\":\"43760\",\"type\":\"AllLabels\"},{\"attributes\":{},\"id\":\"43786\",\"type\":\"BasicTickFormatter\"},{\"attributes\":{\"overlay\":{\"id\":\"43747\"}},\"id\":\"43745\",\"type\":\"BoxZoomTool\"},{\"attributes\":{},\"id\":\"43732\",\"type\":\"LinearScale\"},{\"attributes\":{\"bottom\":{\"value\":0},\"fill_alpha\":{\"value\":1.0},\"fill_color\":{\"value\":\"#00fff0\"},\"hatch_alpha\":{\"value\":1.0},\"hatch_color\":{\"value\":\"#00fff0\"},\"hatch_scale\":{\"value\":12.0},\"hatch_weight\":{\"value\":1.0},\"left\":{\"field\":\"left\"},\"line_alpha\":{\"value\":1.0},\"line_cap\":{\"value\":\"butt\"},\"line_color\":{\"value\":\"black\"},\"line_dash\":{\"value\":[]},\"line_dash_offset\":{\"value\":0},\"line_join\":{\"value\":\"bevel\"},\"line_width\":{\"value\":1},\"right\":{\"field\":\"right\"},\"top\":{\"field\":\"top\"}},\"id\":\"43769\",\"type\":\"Quad\"},{\"attributes\":{},\"id\":\"43787\",\"type\":\"AllLabels\"},{\"attributes\":{},\"id\":\"43742\",\"type\":\"SaveTool\"},{\"attributes\":{},\"id\":\"43746\",\"type\":\"ResetTool\"},{\"attributes\":{},\"id\":\"43771\",\"type\":\"Selection\"},{\"attributes\":{},\"id\":\"43785\",\"type\":\"BasicTicker\"},{\"attributes\":{\"source\":{\"id\":\"43761\"}},\"id\":\"43768\",\"type\":\"CDSView\"},{\"attributes\":{\"editor\":{\"id\":\"43889\"},\"field\":\"count\",\"formatter\":{\"id\":\"43888\"},\"title\":\"count\"},\"id\":\"43890\",\"type\":\"TableColumn\"},{\"attributes\":{},\"id\":\"43889\",\"type\":\"NumberEditor\"},{\"attributes\":{},\"id\":\"43894\",\"type\":\"NumberEditor\"},{\"attributes\":{\"fill_alpha\":0.5,\"fill_color\":\"#30a2da\",\"hatch_color\":\"#30a2da\",\"x\":{\"field\":\"x\"},\"y\":{\"field\":\"y\"}},\"id\":\"43773\",\"type\":\"Patch\"},{\"attributes\":{},\"id\":\"43899\",\"type\":\"NumberEditor\"},{\"attributes\":{\"source\":{\"id\":\"43770\"}},\"id\":\"43777\",\"type\":\"CDSView\"},{\"attributes\":{\"format\":\"0,0.0[00000]\"},\"id\":\"43893\",\"type\":\"NumberFormatter\"},{\"attributes\":{\"editor\":{\"id\":\"43894\"},\"field\":\"mean\",\"formatter\":{\"id\":\"43893\"},\"title\":\"mean\"},\"id\":\"43895\",\"type\":\"TableColumn\"},{\"attributes\":{\"editor\":{\"id\":\"43899\"},\"field\":\"std\",\"formatter\":{\"id\":\"43898\"},\"title\":\"std\"},\"id\":\"43900\",\"type\":\"TableColumn\"},{\"attributes\":{\"bottom\":{\"value\":0},\"fill_alpha\":{\"value\":0.2},\"fill_color\":{\"value\":\"#00fff0\"},\"hatch_alpha\":{\"value\":0.2},\"hatch_color\":{\"value\":\"#00fff0\"},\"left\":{\"field\":\"left\"},\"line_alpha\":{\"value\":0.2},\"right\":{\"field\":\"right\"},\"top\":{\"field\":\"top\"}},\"id\":\"43766\",\"type\":\"Quad\"},{\"attributes\":{},\"id\":\"43904\",\"type\":\"NumberEditor\"},{\"attributes\":{},\"id\":\"43791\",\"type\":\"UnionRenderers\"},{\"attributes\":{\"format\":\"0,0.0[00000]\"},\"id\":\"43898\",\"type\":\"NumberFormatter\"},{\"attributes\":{\"editor\":{\"id\":\"43904\"},\"field\":\"min\",\"formatter\":{\"id\":\"43903\"},\"title\":\"min\"},\"id\":\"43905\",\"type\":\"TableColumn\"},{\"attributes\":{},\"id\":\"43759\",\"type\":\"BasicTickFormatter\"},{\"attributes\":{},\"id\":\"43909\",\"type\":\"NumberEditor\"},{\"attributes\":{\"format\":\"0,0.0[00000]\"},\"id\":\"43903\",\"type\":\"NumberFormatter\"},{\"attributes\":{\"editor\":{\"id\":\"43909\"},\"field\":\"A_25_percent\",\"formatter\":{\"id\":\"43908\"},\"title\":\"25%\"},\"id\":\"43910\",\"type\":\"TableColumn\"},{\"attributes\":{},\"id\":\"43914\",\"type\":\"NumberEditor\"},{\"attributes\":{\"bottom\":{\"value\":0},\"fill_color\":{\"value\":\"#00fff0\"},\"hatch_color\":{\"value\":\"#00fff0\"},\"left\":{\"field\":\"left\"},\"right\":{\"field\":\"right\"},\"top\":{\"field\":\"top\"}},\"id\":\"43764\",\"type\":\"Quad\"},{\"attributes\":{\"format\":\"0,0.0[00000]\"},\"id\":\"43908\",\"type\":\"NumberFormatter\"},{\"attributes\":{\"fill_alpha\":0.5,\"fill_color\":\"#30a2da\",\"hatch_alpha\":0.1,\"hatch_color\":\"#30a2da\",\"line_alpha\":1,\"x\":{\"field\":\"x\"},\"y\":{\"field\":\"y\"}},\"id\":\"43774\",\"type\":\"Patch\"},{\"attributes\":{\"editor\":{\"id\":\"43914\"},\"field\":\"A_50_percent\",\"formatter\":{\"id\":\"43913\"},\"title\":\"50%\"},\"id\":\"43915\",\"type\":\"TableColumn\"},{\"attributes\":{},\"id\":\"43919\",\"type\":\"NumberEditor\"},{\"attributes\":{\"format\":\"0,0.0[00000]\"},\"id\":\"43913\",\"type\":\"NumberFormatter\"},{\"attributes\":{\"editor\":{\"id\":\"43919\"},\"field\":\"A_75_percent\",\"formatter\":{\"id\":\"43918\"},\"title\":\"75%\"},\"id\":\"43920\",\"type\":\"TableColumn\"},{\"attributes\":{},\"id\":\"43924\",\"type\":\"NumberEditor\"},{\"attributes\":{\"format\":\"0,0.0[00000]\"},\"id\":\"43918\",\"type\":\"NumberFormatter\"},{\"attributes\":{\"editor\":{\"id\":\"43924\"},\"field\":\"max\",\"formatter\":{\"id\":\"43923\"},\"title\":\"max\"},\"id\":\"43925\",\"type\":\"TableColumn\"},{\"attributes\":{\"coordinates\":null,\"data_source\":{\"id\":\"43770\"},\"glyph\":{\"id\":\"43773\"},\"group\":null,\"hover_glyph\":null,\"muted_glyph\":{\"id\":\"43775\"},\"nonselection_glyph\":{\"id\":\"43774\"},\"selection_glyph\":{\"id\":\"43778\"},\"view\":{\"id\":\"43777\"},\"y_range_name\":\"twiny\"},\"id\":\"43776\",\"type\":\"GlyphRenderer\"}],\"root_ids\":[\"43720\"]},\"title\":\"Bokeh Application\",\"version\":\"2.4.3\"}};\n",
       "    var render_items = [{\"docid\":\"700f9fa2-007f-449f-b0eb-68d68ee65e46\",\"root_ids\":[\"43720\"],\"roots\":{\"43720\":\"bd7865db-e467-4630-922a-de895c902e45\"}}];\n",
       "    root.Bokeh.embed.embed_items_notebook(docs_json, render_items);\n",
       "  }\n",
       "  if (root.Bokeh !== undefined && root.Bokeh.Panel !== undefined) {\n",
       "    embed_document(root);\n",
       "  } else {\n",
       "    var attempts = 0;\n",
       "    var timer = setInterval(function(root) {\n",
       "      if (root.Bokeh !== undefined && root.Bokeh.Panel !== undefined) {\n",
       "        clearInterval(timer);\n",
       "        embed_document(root);\n",
       "      } else if (document.readyState == \"complete\") {\n",
       "        attempts++;\n",
       "        if (attempts > 200) {\n",
       "          clearInterval(timer);\n",
       "          console.log(\"Bokeh: ERROR: Unable to run BokehJS code because BokehJS library is missing\");\n",
       "        }\n",
       "      }\n",
       "    }, 25, root)\n",
       "  }\n",
       "})(window);</script>"
      ],
      "text/plain": [
       ":Layout\n",
       "   .Overlay.I :Overlay\n",
       "      .Histogram.I    :Histogram   [x]   (Frequency)\n",
       "      .Distribution.I :Distribution   [sales_lbs_value]   (Density)\n",
       "   .Table.I   :Table   [count,mean,std,min,25%,50%,75%,max]"
      ]
     },
     "execution_count": 120,
     "metadata": {
      "application/vnd.holoviews_exec.v0+json": {
       "id": "43720"
      }
     },
     "output_type": "execute_result"
    }
   ],
   "source": [
    "out = eda.get_density_plots(train_X, cols=['sales_dollar_value', 'sales_lbs_value'])\n",
    "out"
   ]
  },
  {
   "cell_type": "code",
   "execution_count": 121,
   "metadata": {},
   "outputs": [],
   "source": [
    "# save the plots are html\n",
    "reports.create_report({'univariate': out}, name='feature_analysis_univariate')"
   ]
  },
  {
   "cell_type": "markdown",
   "metadata": {},
   "source": [
    "A report containing the above plot is available [here](https://drive.google.com/file/d/16ntqUc_zvpg0at5pTtO-ljBjw5UVGFnp/view?usp=sharing)\n"
   ]
  },
  {
   "cell_type": "markdown",
   "metadata": {},
   "source": [
    "Alternatively, the above plots can be generated as a single html as below. The output from this is available [here](https://drive.google.com/file/d/1vUaCcs1PJ4IYo1em9-eZIEj9WuDsnFKT/view?usp=sharing)"
   ]
  },
  {
   "cell_type": "code",
   "execution_count": 122,
   "metadata": {},
   "outputs": [
    {
     "name": "stderr",
     "output_type": "stream",
     "text": [
      "p-value may not be accurate for N > 5000.\n"
     ]
    }
   ],
   "source": [
    "reports.feature_analysis(train_X,'./feature_analysis_report.html')"
   ]
  },
  {
   "cell_type": "markdown",
   "metadata": {},
   "source": [
    "### 3.2.2 Bivariate - mutual interactions"
   ]
  },
  {
   "cell_type": "markdown",
   "metadata": {},
   "source": [
    "- Find columns with high correlations and drop them"
   ]
  },
  {
   "cell_type": "code",
   "execution_count": 123,
   "metadata": {},
   "outputs": [
    {
     "data": {
      "text/html": [
       "<div>\n",
       "<style scoped>\n",
       "    .dataframe tbody tr th:only-of-type {\n",
       "        vertical-align: middle;\n",
       "    }\n",
       "\n",
       "    .dataframe tbody tr th {\n",
       "        vertical-align: top;\n",
       "    }\n",
       "\n",
       "    .dataframe thead th {\n",
       "        text-align: right;\n",
       "    }\n",
       "</style>\n",
       "<table border=\"1\" class=\"dataframe\">\n",
       "  <thead>\n",
       "    <tr style=\"text-align: right;\">\n",
       "      <th></th>\n",
       "      <th>Variable 1</th>\n",
       "      <th>Variable 2</th>\n",
       "      <th>Corr Coef</th>\n",
       "      <th>Abs Corr Coef</th>\n",
       "    </tr>\n",
       "  </thead>\n",
       "  <tbody>\n",
       "    <tr>\n",
       "      <th>0</th>\n",
       "      <td>sales_dollars_value</td>\n",
       "      <td>sales_lbs_value</td>\n",
       "      <td>0.943183</td>\n",
       "      <td>0.943183</td>\n",
       "    </tr>\n",
       "    <tr>\n",
       "      <th>1</th>\n",
       "      <td>search_volume</td>\n",
       "      <td>total_post</td>\n",
       "      <td>0.912838</td>\n",
       "      <td>0.912838</td>\n",
       "    </tr>\n",
       "    <tr>\n",
       "      <th>2</th>\n",
       "      <td>rolling_6mnth_avg</td>\n",
       "      <td>sales_dollars_value</td>\n",
       "      <td>0.743639</td>\n",
       "      <td>0.743639</td>\n",
       "    </tr>\n",
       "    <tr>\n",
       "      <th>3</th>\n",
       "      <td>rolling_6mnth_avg</td>\n",
       "      <td>sales_lbs_value</td>\n",
       "      <td>0.672720</td>\n",
       "      <td>0.672720</td>\n",
       "    </tr>\n",
       "  </tbody>\n",
       "</table>\n",
       "</div>"
      ],
      "text/plain": [
       "            Variable 1           Variable 2  Corr Coef  Abs Corr Coef\n",
       "0  sales_dollars_value      sales_lbs_value   0.943183       0.943183\n",
       "1        search_volume           total_post   0.912838       0.912838\n",
       "2    rolling_6mnth_avg  sales_dollars_value   0.743639       0.743639\n",
       "3    rolling_6mnth_avg      sales_lbs_value   0.672720       0.672720"
      ]
     },
     "execution_count": 123,
     "metadata": {},
     "output_type": "execute_result"
    }
   ],
   "source": [
    "out = eda.get_correlation_table(train_X)\n",
    "out[out[\"Abs Corr Coef\"] > 0.6]"
   ]
  },
  {
   "cell_type": "code",
   "execution_count": 124,
   "metadata": {},
   "outputs": [
    {
     "data": {
      "text/html": [
       "<div>\n",
       "<style scoped>\n",
       "    .dataframe tbody tr th:only-of-type {\n",
       "        vertical-align: middle;\n",
       "    }\n",
       "\n",
       "    .dataframe tbody tr th {\n",
       "        vertical-align: top;\n",
       "    }\n",
       "\n",
       "    .dataframe thead th {\n",
       "        text-align: right;\n",
       "    }\n",
       "</style>\n",
       "<table border=\"1\" class=\"dataframe\">\n",
       "  <thead>\n",
       "    <tr style=\"text-align: right;\">\n",
       "      <th></th>\n",
       "      <th>Variable 1</th>\n",
       "      <th>Variable 2</th>\n",
       "      <th>Corr Coef</th>\n",
       "      <th>Abs Corr Coef</th>\n",
       "    </tr>\n",
       "  </thead>\n",
       "  <tbody>\n",
       "    <tr>\n",
       "      <th>0</th>\n",
       "      <td>sales_dollars_value</td>\n",
       "      <td>sales_lbs_value</td>\n",
       "      <td>0.943183</td>\n",
       "      <td>0.943183</td>\n",
       "    </tr>\n",
       "    <tr>\n",
       "      <th>1</th>\n",
       "      <td>search_volume</td>\n",
       "      <td>total_post</td>\n",
       "      <td>0.912838</td>\n",
       "      <td>0.912838</td>\n",
       "    </tr>\n",
       "    <tr>\n",
       "      <th>2</th>\n",
       "      <td>rolling_6mnth_avg</td>\n",
       "      <td>sales_dollars_value</td>\n",
       "      <td>0.743639</td>\n",
       "      <td>0.743639</td>\n",
       "    </tr>\n",
       "    <tr>\n",
       "      <th>3</th>\n",
       "      <td>rolling_6mnth_avg</td>\n",
       "      <td>sales_lbs_value</td>\n",
       "      <td>0.672720</td>\n",
       "      <td>0.672720</td>\n",
       "    </tr>\n",
       "  </tbody>\n",
       "</table>\n",
       "</div>"
      ],
      "text/plain": [
       "            Variable 1           Variable 2  Corr Coef  Abs Corr Coef\n",
       "0  sales_dollars_value      sales_lbs_value   0.943183       0.943183\n",
       "1        search_volume           total_post   0.912838       0.912838\n",
       "2    rolling_6mnth_avg  sales_dollars_value   0.743639       0.743639\n",
       "3    rolling_6mnth_avg      sales_lbs_value   0.672720       0.672720"
      ]
     },
     "execution_count": 124,
     "metadata": {},
     "output_type": "execute_result"
    }
   ],
   "source": [
    "# channel and source_channel highly correlated. So discarding source_channel\n",
    "# brand and manufacturer are almost same so discarding manufacturer.\n",
    "# Similarly keeping sku between inventory and sku\n",
    "# Similarly keeping condition between conditions and ext_grade\n",
    "# Similarly keeping model_family between platforms, ext_model_family and model_family\n",
    "# Discarding selling price & selling cost as they are multiples of unit price/cost & quantity.\n",
    "# Discarding gp as it is the of selling price and selling cost\n",
    "# order_no, line, invoice_no & customername cannot be IDVs\n",
    "curated_columns = list(\n",
    "    set(train_X.columns.to_list())\n",
    "    - set(['manufacturer', 'inventory_id', 'ext_grade', 'source_channel',\n",
    "           'tgt_enc_iter_impt_platforms', 'ext_model_family',\n",
    "           'order_no', 'line', 'inventory_id',\n",
    "           'gp', 'selling_price', 'selling_cost','invoice_no','customername'])\n",
    ")\n",
    "\n",
    "train_X = train_X[curated_columns]\n",
    "\n",
    "out = eda.get_correlation_table(train_X)\n",
    "out[out[\"Abs Corr Coef\"] > 0.6]"
   ]
  },
  {
   "cell_type": "code",
   "execution_count": 125,
   "metadata": {},
   "outputs": [
    {
     "name": "stdout",
     "output_type": "stream",
     "text": [
      "CPU times: user 1.3 s, sys: 30 ms, total: 1.33 s\n",
      "Wall time: 1.33 s\n"
     ]
    }
   ],
   "source": [
    "%%time\n",
    "# create reports as needed\n",
    "cols = train_X.columns.to_list()\n",
    "all_plots = {}\n",
    "for ii, col1 in enumerate(cols):\n",
    "    for jj in range(ii+1, len(cols)):\n",
    "        col2 = cols[jj]\n",
    "        out = eda.get_bivariate_plots(train_X, x_cols=[col1], y_cols=[col2])\n",
    "        all_plots.update({f'{col2} vs {col1}': out})\n",
    "\n",
    "reports.create_report(all_plots, name='feature_analysis_bivariate')"
   ]
  },
  {
   "cell_type": "markdown",
   "metadata": {},
   "source": [
    "A report containing the bivariate plot is available [here](https://drive.google.com/file/d/1WSGT3586tY-rOmZ57xGILbmL5ll9cSVT/view?usp=sharing)\n",
    "\n",
    "Alternatively, the above plots can be generated as a single html as below. The output from this is available [here](https://drive.google.com/file/d/1A2fz_bjYv8I3iaFDT75JQSDKeJEXxCtp/view?usp=sharing)"
   ]
  },
  {
   "cell_type": "code",
   "execution_count": 126,
   "metadata": {},
   "outputs": [],
   "source": [
    "reports.feature_interactions(train_X,'./feature_interaction_report.html')"
   ]
  },
  {
   "cell_type": "markdown",
   "metadata": {},
   "source": [
    "### 3.2.3 Key Drivers - Interaction with Target variable"
   ]
  },
  {
   "cell_type": "code",
   "execution_count": 127,
   "metadata": {},
   "outputs": [
    {
     "data": {
      "text/html": [
       "<div>\n",
       "<style scoped>\n",
       "    .dataframe tbody tr th:only-of-type {\n",
       "        vertical-align: middle;\n",
       "    }\n",
       "\n",
       "    .dataframe tbody tr th {\n",
       "        vertical-align: top;\n",
       "    }\n",
       "\n",
       "    .dataframe thead th {\n",
       "        text-align: right;\n",
       "    }\n",
       "</style>\n",
       "<table border=\"1\" class=\"dataframe\">\n",
       "  <thead>\n",
       "    <tr style=\"text-align: right;\">\n",
       "      <th></th>\n",
       "      <th>sales_lbs_value</th>\n",
       "      <th>search_volume</th>\n",
       "      <th>sales_dollars_value</th>\n",
       "      <th>rolling_6mnth_avg</th>\n",
       "      <th>total_post</th>\n",
       "    </tr>\n",
       "  </thead>\n",
       "  <tbody>\n",
       "    <tr>\n",
       "      <th>0</th>\n",
       "      <td>1328.0</td>\n",
       "      <td>0.0</td>\n",
       "      <td>29510.0</td>\n",
       "      <td>3.462550e+04</td>\n",
       "      <td>388.0</td>\n",
       "    </tr>\n",
       "    <tr>\n",
       "      <th>1</th>\n",
       "      <td>46998.0</td>\n",
       "      <td>0.0</td>\n",
       "      <td>230135.0</td>\n",
       "      <td>2.181087e+05</td>\n",
       "      <td>18.0</td>\n",
       "    </tr>\n",
       "    <tr>\n",
       "      <th>2</th>\n",
       "      <td>10358.0</td>\n",
       "      <td>0.0</td>\n",
       "      <td>47812.0</td>\n",
       "      <td>1.224157e+05</td>\n",
       "      <td>0.0</td>\n",
       "    </tr>\n",
       "    <tr>\n",
       "      <th>3</th>\n",
       "      <td>161209.0</td>\n",
       "      <td>0.0</td>\n",
       "      <td>909336.0</td>\n",
       "      <td>3.268370e+05</td>\n",
       "      <td>12330.0</td>\n",
       "    </tr>\n",
       "    <tr>\n",
       "      <th>4</th>\n",
       "      <td>15425.0</td>\n",
       "      <td>1188028.0</td>\n",
       "      <td>120422.0</td>\n",
       "      <td>9.996305e+05</td>\n",
       "      <td>27693.0</td>\n",
       "    </tr>\n",
       "    <tr>\n",
       "      <th>...</th>\n",
       "      <td>...</td>\n",
       "      <td>...</td>\n",
       "      <td>...</td>\n",
       "      <td>...</td>\n",
       "      <td>...</td>\n",
       "    </tr>\n",
       "    <tr>\n",
       "      <th>5522</th>\n",
       "      <td>28.0</td>\n",
       "      <td>64839.0</td>\n",
       "      <td>394.0</td>\n",
       "      <td>5.306333e+04</td>\n",
       "      <td>2442.0</td>\n",
       "    </tr>\n",
       "    <tr>\n",
       "      <th>5523</th>\n",
       "      <td>445851.0</td>\n",
       "      <td>2739.0</td>\n",
       "      <td>328591.0</td>\n",
       "      <td>8.574877e+05</td>\n",
       "      <td>2772.0</td>\n",
       "    </tr>\n",
       "    <tr>\n",
       "      <th>5524</th>\n",
       "      <td>3207314.0</td>\n",
       "      <td>156636.0</td>\n",
       "      <td>3354597.0</td>\n",
       "      <td>7.921912e+06</td>\n",
       "      <td>2430.0</td>\n",
       "    </tr>\n",
       "    <tr>\n",
       "      <th>5525</th>\n",
       "      <td>21575959.0</td>\n",
       "      <td>72401699.0</td>\n",
       "      <td>68218362.0</td>\n",
       "      <td>6.138404e+07</td>\n",
       "      <td>2283165.0</td>\n",
       "    </tr>\n",
       "    <tr>\n",
       "      <th>5526</th>\n",
       "      <td>6169976.0</td>\n",
       "      <td>0.0</td>\n",
       "      <td>9525935.0</td>\n",
       "      <td>3.072218e+07</td>\n",
       "      <td>0.0</td>\n",
       "    </tr>\n",
       "  </tbody>\n",
       "</table>\n",
       "<p>5527 rows × 5 columns</p>\n",
       "</div>"
      ],
      "text/plain": [
       "      sales_lbs_value  search_volume  sales_dollars_value  rolling_6mnth_avg  \\\n",
       "0              1328.0            0.0              29510.0       3.462550e+04   \n",
       "1             46998.0            0.0             230135.0       2.181087e+05   \n",
       "2             10358.0            0.0              47812.0       1.224157e+05   \n",
       "3            161209.0            0.0             909336.0       3.268370e+05   \n",
       "4             15425.0      1188028.0             120422.0       9.996305e+05   \n",
       "...               ...            ...                  ...                ...   \n",
       "5522             28.0        64839.0                394.0       5.306333e+04   \n",
       "5523         445851.0         2739.0             328591.0       8.574877e+05   \n",
       "5524        3207314.0       156636.0            3354597.0       7.921912e+06   \n",
       "5525       21575959.0     72401699.0           68218362.0       6.138404e+07   \n",
       "5526        6169976.0            0.0            9525935.0       3.072218e+07   \n",
       "\n",
       "      total_post  \n",
       "0          388.0  \n",
       "1           18.0  \n",
       "2            0.0  \n",
       "3        12330.0  \n",
       "4        27693.0  \n",
       "...          ...  \n",
       "5522      2442.0  \n",
       "5523      2772.0  \n",
       "5524      2430.0  \n",
       "5525   2283165.0  \n",
       "5526         0.0  \n",
       "\n",
       "[5527 rows x 5 columns]"
      ]
     },
     "execution_count": 127,
     "metadata": {},
     "output_type": "execute_result"
    }
   ],
   "source": [
    "train_X"
   ]
  },
  {
   "cell_type": "code",
   "execution_count": 128,
   "metadata": {},
   "outputs": [
    {
     "data": {},
     "metadata": {},
     "output_type": "display_data"
    },
    {
     "data": {},
     "metadata": {},
     "output_type": "display_data"
    },
    {
     "data": {
      "application/vnd.holoviews_exec.v0+json": "",
      "text/html": [
       "<div id='51883'>\n",
       "  <div class=\"bk-root\" id=\"0871b913-1cbe-4f5f-9bdb-6f20b5ffbc7a\" data-root-id=\"51883\"></div>\n",
       "</div>\n",
       "<script type=\"application/javascript\">(function(root) {\n",
       "  function embed_document(root) {\n",
       "    var docs_json = {\"d7289f03-d852-4a75-906b-e08c7b6429e7\":{\"defs\":[{\"extends\":null,\"module\":null,\"name\":\"ReactiveHTML1\",\"overrides\":[],\"properties\":[]},{\"extends\":null,\"module\":null,\"name\":\"FlexBox1\",\"overrides\":[],\"properties\":[{\"default\":\"flex-start\",\"kind\":null,\"name\":\"align_content\"},{\"default\":\"flex-start\",\"kind\":null,\"name\":\"align_items\"},{\"default\":\"row\",\"kind\":null,\"name\":\"flex_direction\"},{\"default\":\"wrap\",\"kind\":null,\"name\":\"flex_wrap\"},{\"default\":\"flex-start\",\"kind\":null,\"name\":\"justify_content\"}]},{\"extends\":null,\"module\":null,\"name\":\"GridStack1\",\"overrides\":[],\"properties\":[{\"default\":\"warn\",\"kind\":null,\"name\":\"mode\"},{\"default\":null,\"kind\":null,\"name\":\"ncols\"},{\"default\":null,\"kind\":null,\"name\":\"nrows\"},{\"default\":true,\"kind\":null,\"name\":\"allow_resize\"},{\"default\":true,\"kind\":null,\"name\":\"allow_drag\"},{\"default\":[],\"kind\":null,\"name\":\"state\"}]},{\"extends\":null,\"module\":null,\"name\":\"click1\",\"overrides\":[],\"properties\":[{\"default\":\"\",\"kind\":null,\"name\":\"terminal_output\"},{\"default\":\"\",\"kind\":null,\"name\":\"debug_name\"},{\"default\":0,\"kind\":null,\"name\":\"clears\"}]},{\"extends\":null,\"module\":null,\"name\":\"NotificationAreaBase1\",\"overrides\":[],\"properties\":[{\"default\":\"bottom-right\",\"kind\":null,\"name\":\"position\"},{\"default\":0,\"kind\":null,\"name\":\"_clear\"}]},{\"extends\":null,\"module\":null,\"name\":\"NotificationArea1\",\"overrides\":[],\"properties\":[{\"default\":[],\"kind\":null,\"name\":\"notifications\"},{\"default\":\"bottom-right\",\"kind\":null,\"name\":\"position\"},{\"default\":0,\"kind\":null,\"name\":\"_clear\"},{\"default\":[{\"background\":\"#ffc107\",\"icon\":{\"className\":\"fas fa-exclamation-triangle\",\"color\":\"white\",\"tagName\":\"i\"},\"type\":\"warning\"},{\"background\":\"#007bff\",\"icon\":{\"className\":\"fas fa-info-circle\",\"color\":\"white\",\"tagName\":\"i\"},\"type\":\"info\"}],\"kind\":null,\"name\":\"types\"}]},{\"extends\":null,\"module\":null,\"name\":\"Notification\",\"overrides\":[],\"properties\":[{\"default\":null,\"kind\":null,\"name\":\"background\"},{\"default\":3000,\"kind\":null,\"name\":\"duration\"},{\"default\":null,\"kind\":null,\"name\":\"icon\"},{\"default\":\"\",\"kind\":null,\"name\":\"message\"},{\"default\":null,\"kind\":null,\"name\":\"notification_type\"},{\"default\":false,\"kind\":null,\"name\":\"_destroyed\"}]},{\"extends\":null,\"module\":null,\"name\":\"TemplateActions1\",\"overrides\":[],\"properties\":[{\"default\":0,\"kind\":null,\"name\":\"open_modal\"},{\"default\":0,\"kind\":null,\"name\":\"close_modal\"}]},{\"extends\":null,\"module\":null,\"name\":\"MaterialTemplateActions1\",\"overrides\":[],\"properties\":[{\"default\":0,\"kind\":null,\"name\":\"open_modal\"},{\"default\":0,\"kind\":null,\"name\":\"close_modal\"}]}],\"roots\":{\"references\":[{\"attributes\":{\"margin\":[0,0,0,0],\"tabs\":[{\"id\":\"51941\"}]},\"id\":\"51883\",\"type\":\"panel.models.tabs.Tabs\"},{\"attributes\":{},\"id\":\"51894\",\"type\":\"CategoricalScale\"},{\"attributes\":{\"bottom_units\":\"screen\",\"coordinates\":null,\"fill_alpha\":0.5,\"fill_color\":\"lightgrey\",\"group\":null,\"left_units\":\"screen\",\"level\":\"overlay\",\"line_alpha\":1.0,\"line_color\":\"black\",\"line_dash\":[4,4],\"line_width\":2,\"right_units\":\"screen\",\"syncable\":false,\"top_units\":\"screen\"},\"id\":\"51908\",\"type\":\"BoxAnnotation\"},{\"attributes\":{},\"id\":\"51929\",\"type\":\"CategoricalTickFormatter\"},{\"attributes\":{},\"id\":\"51892\",\"type\":\"LinearScale\"},{\"attributes\":{},\"id\":\"51897\",\"type\":\"BasicTicker\"},{\"attributes\":{\"below\":[{\"id\":\"51896\"}],\"center\":[{\"id\":\"51899\"},{\"id\":\"51902\"}],\"height\":300,\"left\":[{\"id\":\"51900\"}],\"margin\":[5,5,5,5],\"min_border_bottom\":10,\"min_border_left\":10,\"min_border_right\":10,\"min_border_top\":10,\"renderers\":[{\"id\":\"51922\"}],\"sizing_mode\":\"fixed\",\"title\":{\"id\":\"51888\"},\"toolbar\":{\"id\":\"51909\"},\"width\":700,\"x_range\":{\"id\":\"51884\"},\"x_scale\":{\"id\":\"51892\"},\"y_range\":{\"id\":\"51885\"},\"y_scale\":{\"id\":\"51894\"}},\"id\":\"51887\",\"subtype\":\"Figure\",\"type\":\"Plot\"},{\"attributes\":{\"overlay\":{\"id\":\"51908\"}},\"id\":\"51906\",\"type\":\"BoxZoomTool\"},{\"attributes\":{\"coordinates\":null,\"group\":null,\"text\":\"Feature Correlation with Target Function\",\"text_color\":\"black\",\"text_font_size\":\"12pt\"},\"id\":\"51888\",\"type\":\"Title\"},{\"attributes\":{\"fill_alpha\":{\"value\":0.1},\"fill_color\":{\"value\":\"#30a2da\"},\"hatch_alpha\":{\"value\":0.1},\"hatch_color\":{\"value\":\"#30a2da\"},\"height\":{\"value\":0.8},\"line_alpha\":{\"value\":0.1},\"right\":{\"field\":\"Pearson_correlation_with_Target\"},\"y\":{\"field\":\"index\"}},\"id\":\"51920\",\"type\":\"HBar\"},{\"attributes\":{\"axis_label\":\"Pearson_correlation_with_Target\",\"coordinates\":null,\"formatter\":{\"id\":\"51926\"},\"group\":null,\"major_label_policy\":{\"id\":\"51927\"},\"ticker\":{\"id\":\"51897\"}},\"id\":\"51896\",\"type\":\"LinearAxis\"},{\"attributes\":{},\"id\":\"51927\",\"type\":\"AllLabels\"},{\"attributes\":{\"axis\":{\"id\":\"51896\"},\"coordinates\":null,\"grid_line_color\":null,\"group\":null,\"ticker\":null},\"id\":\"51899\",\"type\":\"Grid\"},{\"attributes\":{\"tools\":[{\"id\":\"51886\"},{\"id\":\"51903\"},{\"id\":\"51904\"},{\"id\":\"51905\"},{\"id\":\"51906\"},{\"id\":\"51907\"}]},\"id\":\"51909\",\"type\":\"Toolbar\"},{\"attributes\":{},\"id\":\"51926\",\"type\":\"BasicTickFormatter\"},{\"attributes\":{\"fill_alpha\":{\"value\":1.0},\"fill_color\":{\"value\":\"#30a2da\"},\"hatch_alpha\":{\"value\":1.0},\"hatch_color\":{\"value\":\"#30a2da\"},\"hatch_scale\":{\"value\":12.0},\"hatch_weight\":{\"value\":1.0},\"height\":{\"value\":0.8},\"left\":{\"value\":0},\"line_alpha\":{\"value\":1.0},\"line_cap\":{\"value\":\"butt\"},\"line_color\":{\"value\":\"black\"},\"line_dash\":{\"value\":[]},\"line_dash_offset\":{\"value\":0},\"line_join\":{\"value\":\"bevel\"},\"line_width\":{\"value\":1},\"right\":{\"field\":\"Pearson_correlation_with_Target\"},\"y\":{\"field\":\"index\"}},\"id\":\"51924\",\"type\":\"HBar\"},{\"attributes\":{\"child\":{\"id\":\"51887\"},\"name\":\"feature_correlation\",\"title\":\"feature_correlation\"},\"id\":\"51941\",\"type\":\"Panel\"},{\"attributes\":{\"factors\":[\"search_volume\",\"rolling_6mnth_avg\",\"total_post\",\"sales_lbs_value\",\"sales_dollars_value\"],\"tags\":[[[\"index\",\"index\",null]]]},\"id\":\"51885\",\"type\":\"FactorRange\"},{\"attributes\":{\"client_comm_id\":\"e69c68978e4846e8bd7774a468a7f462\",\"comm_id\":\"bf913dd468ee478e82ed7219f6177f6a\",\"plot_id\":\"51883\"},\"id\":\"51972\",\"type\":\"panel.models.comm_manager.CommManager\"},{\"attributes\":{},\"id\":\"51903\",\"type\":\"SaveTool\"},{\"attributes\":{\"fill_alpha\":{\"value\":0.2},\"fill_color\":{\"value\":\"#30a2da\"},\"hatch_alpha\":{\"value\":0.2},\"hatch_color\":{\"value\":\"#30a2da\"},\"height\":{\"value\":0.8},\"line_alpha\":{\"value\":0.2},\"right\":{\"field\":\"Pearson_correlation_with_Target\"},\"y\":{\"field\":\"index\"}},\"id\":\"51921\",\"type\":\"HBar\"},{\"attributes\":{\"fill_color\":{\"value\":\"#30a2da\"},\"hatch_color\":{\"value\":\"#30a2da\"},\"height\":{\"value\":0.8},\"right\":{\"field\":\"Pearson_correlation_with_Target\"},\"y\":{\"field\":\"index\"}},\"id\":\"51919\",\"type\":\"HBar\"},{\"attributes\":{\"end\":0.8571955434708202,\"reset_end\":0.8571955434708202,\"reset_start\":0.0,\"tags\":[[[\"Pearson_correlation_with_Target\",\"Pearson_correlation_with_Target\",null]]]},\"id\":\"51884\",\"type\":\"Range1d\"},{\"attributes\":{},\"id\":\"51917\",\"type\":\"Selection\"},{\"attributes\":{},\"id\":\"51907\",\"type\":\"ResetTool\"},{\"attributes\":{\"coordinates\":null,\"data_source\":{\"id\":\"51916\"},\"glyph\":{\"id\":\"51919\"},\"group\":null,\"hover_glyph\":null,\"muted_glyph\":{\"id\":\"51921\"},\"nonselection_glyph\":{\"id\":\"51920\"},\"selection_glyph\":{\"id\":\"51924\"},\"view\":{\"id\":\"51923\"}},\"id\":\"51922\",\"type\":\"GlyphRenderer\"},{\"attributes\":{\"callback\":null,\"renderers\":[{\"id\":\"51922\"}],\"tags\":[\"hv_created\"],\"tooltips\":[[\"index\",\"@{index}\"],[\"Pearson_correlation_with_Target\",\"@{Pearson_correlation_with_Target}\"]]},\"id\":\"51886\",\"type\":\"HoverTool\"},{\"attributes\":{},\"id\":\"51905\",\"type\":\"WheelZoomTool\"},{\"attributes\":{\"data\":{\"Pearson_correlation_with_Target\":{\"__ndarray__\":\"iebjNXQL5j9w/7SdhGjmP9OgOC0ImOc/Daa6lQZH6D+B5D9tz/DqPw==\",\"dtype\":\"float64\",\"order\":\"little\",\"shape\":[5]},\"index\":[\"search_volume\",\"rolling_6mnth_avg\",\"total_post\",\"sales_lbs_value\",\"sales_dollars_value\"]},\"selected\":{\"id\":\"51917\"},\"selection_policy\":{\"id\":\"51938\"}},\"id\":\"51916\",\"type\":\"ColumnDataSource\"},{\"attributes\":{},\"id\":\"51930\",\"type\":\"AllLabels\"},{\"attributes\":{},\"id\":\"51938\",\"type\":\"UnionRenderers\"},{\"attributes\":{},\"id\":\"51904\",\"type\":\"PanTool\"},{\"attributes\":{\"axis_label\":\"\",\"coordinates\":null,\"formatter\":{\"id\":\"51929\"},\"group\":null,\"major_label_policy\":{\"id\":\"51930\"},\"ticker\":{\"id\":\"51901\"}},\"id\":\"51900\",\"type\":\"CategoricalAxis\"},{\"attributes\":{},\"id\":\"51901\",\"type\":\"CategoricalTicker\"},{\"attributes\":{\"source\":{\"id\":\"51916\"}},\"id\":\"51923\",\"type\":\"CDSView\"},{\"attributes\":{\"axis\":{\"id\":\"51900\"},\"coordinates\":null,\"dimension\":1,\"grid_line_color\":null,\"group\":null,\"ticker\":null},\"id\":\"51902\",\"type\":\"Grid\"}],\"root_ids\":[\"51883\",\"51972\"]},\"title\":\"Bokeh Application\",\"version\":\"2.4.3\"}};\n",
       "    var render_items = [{\"docid\":\"d7289f03-d852-4a75-906b-e08c7b6429e7\",\"root_ids\":[\"51883\"],\"roots\":{\"51883\":\"0871b913-1cbe-4f5f-9bdb-6f20b5ffbc7a\"}}];\n",
       "    root.Bokeh.embed.embed_items_notebook(docs_json, render_items);\n",
       "  }\n",
       "  if (root.Bokeh !== undefined && root.Bokeh.Panel !== undefined) {\n",
       "    embed_document(root);\n",
       "  } else {\n",
       "    var attempts = 0;\n",
       "    var timer = setInterval(function(root) {\n",
       "      if (root.Bokeh !== undefined && root.Bokeh.Panel !== undefined) {\n",
       "        clearInterval(timer);\n",
       "        embed_document(root);\n",
       "      } else if (document.readyState == \"complete\") {\n",
       "        attempts++;\n",
       "        if (attempts > 200) {\n",
       "          clearInterval(timer);\n",
       "          console.log(\"Bokeh: ERROR: Unable to run BokehJS code because BokehJS library is missing\");\n",
       "        }\n",
       "      }\n",
       "    }, 25, root)\n",
       "  }\n",
       "})(window);</script>"
      ],
      "text/plain": [
       "Tabs\n",
       "    [0] HoloViews(Bars, name='feature_correlation')"
      ]
     },
     "execution_count": 128,
     "metadata": {
      "application/vnd.holoviews_exec.v0+json": {
       "id": "51883"
      }
     },
     "output_type": "execute_result"
    }
   ],
   "source": [
    "out = eda.get_target_correlation(train_X, train_y, y_continuous=True)\n",
    "display_as_tabs([(k, v) for k,v in out.items()])"
   ]
  },
  {
   "cell_type": "code",
   "execution_count": 129,
   "metadata": {},
   "outputs": [
    {
     "data": {},
     "metadata": {},
     "output_type": "display_data"
    },
    {
     "data": {},
     "metadata": {},
     "output_type": "display_data"
    },
    {
     "data": {
      "application/vnd.holoviews_exec.v0+json": "",
      "text/html": [
       "<div id='52023'>\n",
       "  <div class=\"bk-root\" id=\"d425e129-1f27-4a93-aebc-a4af7bcb8556\" data-root-id=\"52023\"></div>\n",
       "</div>\n",
       "<script type=\"application/javascript\">(function(root) {\n",
       "  function embed_document(root) {\n",
       "    var docs_json = {\"40e6f6e8-dc71-4841-8af9-7c0779f91e1e\":{\"defs\":[{\"extends\":null,\"module\":null,\"name\":\"ReactiveHTML1\",\"overrides\":[],\"properties\":[]},{\"extends\":null,\"module\":null,\"name\":\"FlexBox1\",\"overrides\":[],\"properties\":[{\"default\":\"flex-start\",\"kind\":null,\"name\":\"align_content\"},{\"default\":\"flex-start\",\"kind\":null,\"name\":\"align_items\"},{\"default\":\"row\",\"kind\":null,\"name\":\"flex_direction\"},{\"default\":\"wrap\",\"kind\":null,\"name\":\"flex_wrap\"},{\"default\":\"flex-start\",\"kind\":null,\"name\":\"justify_content\"}]},{\"extends\":null,\"module\":null,\"name\":\"GridStack1\",\"overrides\":[],\"properties\":[{\"default\":\"warn\",\"kind\":null,\"name\":\"mode\"},{\"default\":null,\"kind\":null,\"name\":\"ncols\"},{\"default\":null,\"kind\":null,\"name\":\"nrows\"},{\"default\":true,\"kind\":null,\"name\":\"allow_resize\"},{\"default\":true,\"kind\":null,\"name\":\"allow_drag\"},{\"default\":[],\"kind\":null,\"name\":\"state\"}]},{\"extends\":null,\"module\":null,\"name\":\"click1\",\"overrides\":[],\"properties\":[{\"default\":\"\",\"kind\":null,\"name\":\"terminal_output\"},{\"default\":\"\",\"kind\":null,\"name\":\"debug_name\"},{\"default\":0,\"kind\":null,\"name\":\"clears\"}]},{\"extends\":null,\"module\":null,\"name\":\"NotificationAreaBase1\",\"overrides\":[],\"properties\":[{\"default\":\"bottom-right\",\"kind\":null,\"name\":\"position\"},{\"default\":0,\"kind\":null,\"name\":\"_clear\"}]},{\"extends\":null,\"module\":null,\"name\":\"NotificationArea1\",\"overrides\":[],\"properties\":[{\"default\":[],\"kind\":null,\"name\":\"notifications\"},{\"default\":\"bottom-right\",\"kind\":null,\"name\":\"position\"},{\"default\":0,\"kind\":null,\"name\":\"_clear\"},{\"default\":[{\"background\":\"#ffc107\",\"icon\":{\"className\":\"fas fa-exclamation-triangle\",\"color\":\"white\",\"tagName\":\"i\"},\"type\":\"warning\"},{\"background\":\"#007bff\",\"icon\":{\"className\":\"fas fa-info-circle\",\"color\":\"white\",\"tagName\":\"i\"},\"type\":\"info\"}],\"kind\":null,\"name\":\"types\"}]},{\"extends\":null,\"module\":null,\"name\":\"Notification\",\"overrides\":[],\"properties\":[{\"default\":null,\"kind\":null,\"name\":\"background\"},{\"default\":3000,\"kind\":null,\"name\":\"duration\"},{\"default\":null,\"kind\":null,\"name\":\"icon\"},{\"default\":\"\",\"kind\":null,\"name\":\"message\"},{\"default\":null,\"kind\":null,\"name\":\"notification_type\"},{\"default\":false,\"kind\":null,\"name\":\"_destroyed\"}]},{\"extends\":null,\"module\":null,\"name\":\"TemplateActions1\",\"overrides\":[],\"properties\":[{\"default\":0,\"kind\":null,\"name\":\"open_modal\"},{\"default\":0,\"kind\":null,\"name\":\"close_modal\"}]},{\"extends\":null,\"module\":null,\"name\":\"MaterialTemplateActions1\",\"overrides\":[],\"properties\":[{\"default\":0,\"kind\":null,\"name\":\"open_modal\"},{\"default\":0,\"kind\":null,\"name\":\"close_modal\"}]}],\"roots\":{\"references\":[{\"attributes\":{\"tools\":[{\"id\":\"52026\"},{\"id\":\"52043\"},{\"id\":\"52044\"},{\"id\":\"52045\"},{\"id\":\"52046\"},{\"id\":\"52047\"}]},\"id\":\"52049\",\"type\":\"Toolbar\"},{\"attributes\":{\"fill_alpha\":{\"value\":0.2},\"fill_color\":{\"value\":\"#30a2da\"},\"hatch_alpha\":{\"value\":0.2},\"hatch_color\":{\"value\":\"#30a2da\"},\"height\":{\"value\":0.8},\"line_alpha\":{\"value\":0.2},\"right\":{\"field\":\"importance\"},\"y\":{\"field\":\"index\"}},\"id\":\"52061\",\"type\":\"HBar\"},{\"attributes\":{},\"id\":\"52034\",\"type\":\"CategoricalScale\"},{\"attributes\":{\"client_comm_id\":\"3894331a28c24c9b85cd15fd91fd94bd\",\"comm_id\":\"e59ad0eb63eb4040b8f2d559e204ce32\",\"plot_id\":\"52023\"},\"id\":\"52114\",\"type\":\"panel.models.comm_manager.CommManager\"},{\"attributes\":{\"axis_label\":\"Feature Importance [determined by coeff * mean(x)]\",\"coordinates\":null,\"formatter\":{\"id\":\"52066\"},\"group\":null,\"major_label_policy\":{\"id\":\"52067\"},\"ticker\":{\"id\":\"52037\"}},\"id\":\"52036\",\"type\":\"LinearAxis\"},{\"attributes\":{\"fill_alpha\":{\"value\":1.0},\"fill_color\":{\"value\":\"#30a2da\"},\"hatch_alpha\":{\"value\":1.0},\"hatch_color\":{\"value\":\"#30a2da\"},\"hatch_scale\":{\"value\":12.0},\"hatch_weight\":{\"value\":1.0},\"height\":{\"value\":0.8},\"left\":{\"value\":0},\"line_alpha\":{\"value\":1.0},\"line_cap\":{\"value\":\"butt\"},\"line_color\":{\"value\":\"black\"},\"line_dash\":{\"value\":[]},\"line_dash_offset\":{\"value\":0},\"line_join\":{\"value\":\"bevel\"},\"line_width\":{\"value\":1},\"right\":{\"field\":\"importance\"},\"y\":{\"field\":\"index\"}},\"id\":\"52064\",\"type\":\"HBar\"},{\"attributes\":{},\"id\":\"52057\",\"type\":\"Selection\"},{\"attributes\":{\"data\":{\"importance\":{\"__ndarray__\":\"iArwBkqUc8GzmFvrN2ZjQYi6MucV/XJBd/VeXvDAfUEO+8OxwQ6lQQ==\",\"dtype\":\"float64\",\"order\":\"little\",\"shape\":[5]},\"index\":[\"sales_lbs_value\",\"search_volume\",\"rolling_6mnth_avg\",\"total_post\",\"sales_dollars_value\"]},\"selected\":{\"id\":\"52057\"},\"selection_policy\":{\"id\":\"52078\"}},\"id\":\"52056\",\"type\":\"ColumnDataSource\"},{\"attributes\":{\"overlay\":{\"id\":\"52048\"}},\"id\":\"52046\",\"type\":\"BoxZoomTool\"},{\"attributes\":{},\"id\":\"52037\",\"type\":\"BasicTicker\"},{\"attributes\":{},\"id\":\"52070\",\"type\":\"AllLabels\"},{\"attributes\":{\"height\":350,\"margin\":[5,5,5,5],\"name\":\"shap_values\",\"text\":\"&lt;img src=&quot;data:image/png;base64,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&quot; width=&quot;800px&quot; height=&quot;350px&quot; alt=&quot;&quot;&gt;&lt;/img&gt;\",\"width\":800},\"id\":\"52082\",\"type\":\"panel.models.markup.HTML\"},{\"attributes\":{\"below\":[{\"id\":\"52036\"}],\"center\":[{\"id\":\"52039\"},{\"id\":\"52042\"}],\"height\":300,\"left\":[{\"id\":\"52040\"}],\"margin\":[5,5,5,5],\"min_border_bottom\":10,\"min_border_left\":10,\"min_border_right\":10,\"min_border_top\":10,\"renderers\":[{\"id\":\"52062\"}],\"sizing_mode\":\"fixed\",\"title\":{\"id\":\"52028\"},\"toolbar\":{\"id\":\"52049\"},\"width\":700,\"x_range\":{\"id\":\"52024\"},\"x_scale\":{\"id\":\"52032\"},\"y_range\":{\"id\":\"52025\"},\"y_scale\":{\"id\":\"52034\"}},\"id\":\"52027\",\"subtype\":\"Figure\",\"type\":\"Plot\"},{\"attributes\":{},\"id\":\"52041\",\"type\":\"CategoricalTicker\"},{\"attributes\":{},\"id\":\"52078\",\"type\":\"UnionRenderers\"},{\"attributes\":{\"child\":{\"id\":\"52082\"},\"name\":\"shap_values\",\"title\":\"shap_values\"},\"id\":\"52083\",\"type\":\"Panel\"},{\"attributes\":{\"fill_alpha\":{\"value\":0.1},\"fill_color\":{\"value\":\"#30a2da\"},\"hatch_alpha\":{\"value\":0.1},\"hatch_color\":{\"value\":\"#30a2da\"},\"height\":{\"value\":0.8},\"line_alpha\":{\"value\":0.1},\"right\":{\"field\":\"importance\"},\"y\":{\"field\":\"index\"}},\"id\":\"52060\",\"type\":\"HBar\"},{\"attributes\":{},\"id\":\"52047\",\"type\":\"ResetTool\"},{\"attributes\":{\"coordinates\":null,\"data_source\":{\"id\":\"52056\"},\"glyph\":{\"id\":\"52059\"},\"group\":null,\"hover_glyph\":null,\"muted_glyph\":{\"id\":\"52061\"},\"nonselection_glyph\":{\"id\":\"52060\"},\"selection_glyph\":{\"id\":\"52064\"},\"view\":{\"id\":\"52063\"}},\"id\":\"52062\",\"type\":\"GlyphRenderer\"},{\"attributes\":{},\"id\":\"52067\",\"type\":\"AllLabels\"},{\"attributes\":{},\"id\":\"52043\",\"type\":\"SaveTool\"},{\"attributes\":{},\"id\":\"52069\",\"type\":\"CategoricalTickFormatter\"},{\"attributes\":{\"source\":{\"id\":\"52056\"}},\"id\":\"52063\",\"type\":\"CDSView\"},{\"attributes\":{\"axis_label\":\"Features\",\"coordinates\":null,\"formatter\":{\"id\":\"52069\"},\"group\":null,\"major_label_policy\":{\"id\":\"52070\"},\"ticker\":{\"id\":\"52041\"}},\"id\":\"52040\",\"type\":\"CategoricalAxis\"},{\"attributes\":{},\"id\":\"52032\",\"type\":\"LinearScale\"},{\"attributes\":{\"axis\":{\"id\":\"52040\"},\"coordinates\":null,\"dimension\":1,\"grid_line_color\":null,\"group\":null,\"ticker\":null},\"id\":\"52042\",\"type\":\"Grid\"},{\"attributes\":{\"bottom_units\":\"screen\",\"coordinates\":null,\"fill_alpha\":0.5,\"fill_color\":\"lightgrey\",\"group\":null,\"left_units\":\"screen\",\"level\":\"overlay\",\"line_alpha\":1.0,\"line_color\":\"black\",\"line_dash\":[4,4],\"line_width\":2,\"right_units\":\"screen\",\"syncable\":false,\"top_units\":\"screen\"},\"id\":\"52048\",\"type\":\"BoxAnnotation\"},{\"attributes\":{\"factors\":[\"sales_lbs_value\",\"search_volume\",\"rolling_6mnth_avg\",\"total_post\",\"sales_dollars_value\"],\"tags\":[[[\"index\",\"index\",null]]]},\"id\":\"52025\",\"type\":\"FactorRange\"},{\"attributes\":{\"coordinates\":null,\"group\":null,\"text\":\"Feature Importances from LassoCV\",\"text_color\":\"black\",\"text_font_size\":\"12pt\"},\"id\":\"52028\",\"type\":\"Title\"},{\"attributes\":{},\"id\":\"52066\",\"type\":\"BasicTickFormatter\"},{\"attributes\":{},\"id\":\"52044\",\"type\":\"PanTool\"},{\"attributes\":{\"end\":196361777.81441262,\"reset_end\":196361777.81441262,\"reset_start\":-40247801.36524165,\"start\":-40247801.36524165,\"tags\":[[[\"importance\",\"importance\",null]]]},\"id\":\"52024\",\"type\":\"Range1d\"},{\"attributes\":{\"callback\":null,\"renderers\":[{\"id\":\"52062\"}],\"tags\":[\"hv_created\"],\"tooltips\":[[\"index\",\"@{index}\"],[\"importance\",\"@{importance}\"]]},\"id\":\"52026\",\"type\":\"HoverTool\"},{\"attributes\":{\"axis\":{\"id\":\"52036\"},\"coordinates\":null,\"grid_line_color\":null,\"group\":null,\"ticker\":null},\"id\":\"52039\",\"type\":\"Grid\"},{\"attributes\":{},\"id\":\"52045\",\"type\":\"WheelZoomTool\"},{\"attributes\":{\"child\":{\"id\":\"52027\"},\"name\":\"from_model\",\"title\":\"from_model\"},\"id\":\"52081\",\"type\":\"Panel\"},{\"attributes\":{\"fill_color\":{\"value\":\"#30a2da\"},\"hatch_color\":{\"value\":\"#30a2da\"},\"height\":{\"value\":0.8},\"right\":{\"field\":\"importance\"},\"y\":{\"field\":\"index\"}},\"id\":\"52059\",\"type\":\"HBar\"},{\"attributes\":{\"margin\":[0,0,0,0],\"tabs\":[{\"id\":\"52081\"},{\"id\":\"52083\"}]},\"id\":\"52023\",\"type\":\"panel.models.tabs.Tabs\"}],\"root_ids\":[\"52023\",\"52114\"]},\"title\":\"Bokeh Application\",\"version\":\"2.4.3\"}};\n",
       "    var render_items = [{\"docid\":\"40e6f6e8-dc71-4841-8af9-7c0779f91e1e\",\"root_ids\":[\"52023\"],\"roots\":{\"52023\":\"d425e129-1f27-4a93-aebc-a4af7bcb8556\"}}];\n",
       "    root.Bokeh.embed.embed_items_notebook(docs_json, render_items);\n",
       "  }\n",
       "  if (root.Bokeh !== undefined && root.Bokeh.Panel !== undefined) {\n",
       "    embed_document(root);\n",
       "  } else {\n",
       "    var attempts = 0;\n",
       "    var timer = setInterval(function(root) {\n",
       "      if (root.Bokeh !== undefined && root.Bokeh.Panel !== undefined) {\n",
       "        clearInterval(timer);\n",
       "        embed_document(root);\n",
       "      } else if (document.readyState == \"complete\") {\n",
       "        attempts++;\n",
       "        if (attempts > 200) {\n",
       "          clearInterval(timer);\n",
       "          console.log(\"Bokeh: ERROR: Unable to run BokehJS code because BokehJS library is missing\");\n",
       "        }\n",
       "      }\n",
       "    }, 25, root)\n",
       "  }\n",
       "})(window);</script>"
      ],
      "text/plain": [
       "Tabs\n",
       "    [0] HoloViews(Bars, name='from_model')\n",
       "    [1] Matplotlib(Figure, name='shap_values')"
      ]
     },
     "execution_count": 129,
     "metadata": {
      "application/vnd.holoviews_exec.v0+json": {
       "id": "52023"
      }
     },
     "output_type": "execute_result"
    }
   ],
   "source": [
    "out = eda.get_feature_importances(train_X, train_y, y_continuous=True)\n",
    "display_as_tabs([(k, v) for k,v in out.items()])"
   ]
  },
  {
   "cell_type": "markdown",
   "metadata": {},
   "source": [
    "Key drivers report like feature importance, bivariate plots can be obtained as below"
   ]
  },
  {
   "cell_type": "code",
   "execution_count": 130,
   "metadata": {},
   "outputs": [],
   "source": [
    "reports.key_drivers(train_X,train_y, './key_drivers_report.html', y_continuous=True)"
   ]
  },
  {
   "cell_type": "markdown",
   "metadata": {},
   "source": [
    "**Dev Notes**\n",
    "<details>\n",
    "    \n",
    "- The SHAP plots and bivariate plots in key drivers reports can be obtained by including quick=False as a parameter to key_drivers function call. \n",
    "- SHAP plots and bivariate plots often take long depending on data shape.\n",
    "- The plot with shap is present [here](https://drive.google.com/file/d/1JOTMBLiv3LEqZ-kxZz0RokW9v5UyiGva/view?usp=sharing)\n",
    "\n",
    "</details>"
   ]
  },
  {
   "cell_type": "markdown",
   "metadata": {},
   "source": [
    "\n",
    "All the plots like feature analysis, interaction, key drivers can be obtained as a single plot using data exploration method as shown below. The output from this is available [here](https://drive.google.com/file/d/1209MzmSSEhiTYuPfHpaVXFXUVbkaJm0B/view?usp=sharing)"
   ]
  },
  {
   "cell_type": "code",
   "execution_count": 131,
   "metadata": {},
   "outputs": [
    {
     "name": "stderr",
     "output_type": "stream",
     "text": [
      "p-value may not be accurate for N > 5000.\n"
     ]
    }
   ],
   "source": [
    "reports.data_exploration(train_X,train_y,'./data_exploration_report.html', y_continuous=True)"
   ]
  },
  {
   "cell_type": "code",
   "execution_count": 132,
   "metadata": {},
   "outputs": [],
   "source": [
    "# saving the list of relevant columns\n",
    "save_pipeline(curated_columns, op.abspath(op.join(artifacts_folder, 'curated_columns.joblib')))\n",
    "\n",
    "# save the feature pipeline\n",
    "save_pipeline(features_transformer, op.abspath(op.join(artifacts_folder, 'features.joblib')))"
   ]
  },
  {
   "cell_type": "markdown",
   "metadata": {},
   "source": [
    "# 4 Modelling"
   ]
  },
  {
   "cell_type": "markdown",
   "metadata": {},
   "source": [
    "## 4.1 Modelling - Linear Regression"
   ]
  },
  {
   "cell_type": "markdown",
   "metadata": {},
   "source": [
    "### 4.1.1 Feature Selection(Specific to Regression)\n",
    "\n",
    "- Selecting Features specific to regression\n",
    "- VIF : measure of the amount of multi-collinearity in a set of multiple regressor variables. \n",
    "- On a case to case basis VIF thresholds change. Generally 5 or 10 are acceptable levels.\n",
    "- Usually on a recursive basis when removing the most collinear variable, there can be shuffle in VIF. \n",
    "- Often this section will not be part of the production code."
   ]
  },
  {
   "cell_type": "code",
   "execution_count": 133,
   "metadata": {},
   "outputs": [],
   "source": [
    "cols = list(train_X.columns)\n",
    "vif = eda.calc_vif(train_X)\n",
    "while max(vif.VIF) > 15:\n",
    "    #removing the largest variable from VIF\n",
    "    cols.remove(vif[(vif.VIF==vif.VIF.max())].variables.tolist()[0])\n",
    "    vif = eda.calc_vif(train_X[cols])"
   ]
  },
  {
   "cell_type": "code",
   "execution_count": 134,
   "metadata": {},
   "outputs": [],
   "source": [
    "reg_vars = vif.query('VIF < 15').variables\n",
    "reg_vars = list(reg_vars)"
   ]
  },
  {
   "cell_type": "markdown",
   "metadata": {},
   "source": [
    "### 4.1.2 Data transformations"
   ]
  },
  {
   "cell_type": "code",
   "execution_count": 135,
   "metadata": {},
   "outputs": [],
   "source": [
    "# Custom Transformations like these can be utilised\n",
    "def _custom_data_transform(df, cols2keep=None):\n",
    "    \"\"\"Transformation to drop some columns in the data\n",
    "\n",
    "    Parameters\n",
    "    ----------\n",
    "        df - pd.DataFrame\n",
    "        cols2keep - columns to keep in the dataframe\n",
    "    \"\"\"\n",
    "    cols2keep = cols2keep or []\n",
    "    if len(cols2keep):\n",
    "        return (df\n",
    "                .select_columns(cols2keep))\n",
    "    else:\n",
    "        return df"
   ]
  },
  {
   "cell_type": "markdown",
   "metadata": {},
   "source": [
    "### 4.1.3 Model training pipeline\n",
    "\n",
    "- Here we focus on creating a collection of pipelines that can be used for training respective models.\n",
    "- Each model pipeline will essentially be of the form\n",
    "```\n",
    "[\n",
    "('preprocessing', preprocessing_pipeline),\n",
    "('feature_selection', feature_selection_pipeline),\n",
    "('estimator', estimator),\n",
    "]\n",
    "```"
   ]
  },
  {
   "cell_type": "markdown",
   "metadata": {},
   "source": [
    "### 4.1.4 Model Pipeline Build\n",
    "\n",
    "- This will be part of the production code (training only)."
   ]
  },
  {
   "cell_type": "code",
   "execution_count": 136,
   "metadata": {},
   "outputs": [
    {
     "data": {
      "text/html": [
       "<style>#sk-container-id-4 {color: black;background-color: white;}#sk-container-id-4 pre{padding: 0;}#sk-container-id-4 div.sk-toggleable {background-color: white;}#sk-container-id-4 label.sk-toggleable__label {cursor: pointer;display: block;width: 100%;margin-bottom: 0;padding: 0.3em;box-sizing: border-box;text-align: center;}#sk-container-id-4 label.sk-toggleable__label-arrow:before {content: \"▸\";float: left;margin-right: 0.25em;color: #696969;}#sk-container-id-4 label.sk-toggleable__label-arrow:hover:before {color: black;}#sk-container-id-4 div.sk-estimator:hover label.sk-toggleable__label-arrow:before {color: black;}#sk-container-id-4 div.sk-toggleable__content {max-height: 0;max-width: 0;overflow: hidden;text-align: left;background-color: #f0f8ff;}#sk-container-id-4 div.sk-toggleable__content pre {margin: 0.2em;color: black;border-radius: 0.25em;background-color: #f0f8ff;}#sk-container-id-4 input.sk-toggleable__control:checked~div.sk-toggleable__content {max-height: 200px;max-width: 100%;overflow: auto;}#sk-container-id-4 input.sk-toggleable__control:checked~label.sk-toggleable__label-arrow:before {content: \"▾\";}#sk-container-id-4 div.sk-estimator input.sk-toggleable__control:checked~label.sk-toggleable__label {background-color: #d4ebff;}#sk-container-id-4 div.sk-label input.sk-toggleable__control:checked~label.sk-toggleable__label {background-color: #d4ebff;}#sk-container-id-4 input.sk-hidden--visually {border: 0;clip: rect(1px 1px 1px 1px);clip: rect(1px, 1px, 1px, 1px);height: 1px;margin: -1px;overflow: hidden;padding: 0;position: absolute;width: 1px;}#sk-container-id-4 div.sk-estimator {font-family: monospace;background-color: #f0f8ff;border: 1px dotted black;border-radius: 0.25em;box-sizing: border-box;margin-bottom: 0.5em;}#sk-container-id-4 div.sk-estimator:hover {background-color: #d4ebff;}#sk-container-id-4 div.sk-parallel-item::after {content: \"\";width: 100%;border-bottom: 1px solid gray;flex-grow: 1;}#sk-container-id-4 div.sk-label:hover label.sk-toggleable__label {background-color: #d4ebff;}#sk-container-id-4 div.sk-serial::before {content: \"\";position: absolute;border-left: 1px solid gray;box-sizing: border-box;top: 0;bottom: 0;left: 50%;z-index: 0;}#sk-container-id-4 div.sk-serial {display: flex;flex-direction: column;align-items: center;background-color: white;padding-right: 0.2em;padding-left: 0.2em;position: relative;}#sk-container-id-4 div.sk-item {position: relative;z-index: 1;}#sk-container-id-4 div.sk-parallel {display: flex;align-items: stretch;justify-content: center;background-color: white;position: relative;}#sk-container-id-4 div.sk-item::before, #sk-container-id-4 div.sk-parallel-item::before {content: \"\";position: absolute;border-left: 1px solid gray;box-sizing: border-box;top: 0;bottom: 0;left: 50%;z-index: -1;}#sk-container-id-4 div.sk-parallel-item {display: flex;flex-direction: column;z-index: 1;position: relative;background-color: white;}#sk-container-id-4 div.sk-parallel-item:first-child::after {align-self: flex-end;width: 50%;}#sk-container-id-4 div.sk-parallel-item:last-child::after {align-self: flex-start;width: 50%;}#sk-container-id-4 div.sk-parallel-item:only-child::after {width: 0;}#sk-container-id-4 div.sk-dashed-wrapped {border: 1px dashed gray;margin: 0 0.4em 0.5em 0.4em;box-sizing: border-box;padding-bottom: 0.4em;background-color: white;}#sk-container-id-4 div.sk-label label {font-family: monospace;font-weight: bold;display: inline-block;line-height: 1.2em;}#sk-container-id-4 div.sk-label-container {text-align: center;}#sk-container-id-4 div.sk-container {/* jupyter's `normalize.less` sets `[hidden] { display: none; }` but bootstrap.min.css set `[hidden] { display: none !important; }` so we also need the `!important` here to be able to override the default hidden behavior on the sphinx rendered scikit-learn.org. See: https://github.com/scikit-learn/scikit-learn/issues/21755 */display: inline-block !important;position: relative;}#sk-container-id-4 div.sk-text-repr-fallback {display: none;}</style><div id=\"sk-container-id-4\" class=\"sk-top-container\"><div class=\"sk-text-repr-fallback\"><pre>Pipeline(steps=[(&#x27;&#x27;,\n",
       "                 FunctionTransformer(func=&lt;function _custom_data_transform at 0x7f4db718caf0&gt;,\n",
       "                                     kw_args={&#x27;cols2keep&#x27;: [&#x27;sales_lbs_value&#x27;,\n",
       "                                                            &#x27;search_volume&#x27;,\n",
       "                                                            &#x27;rolling_6mnth_avg&#x27;,\n",
       "                                                            &#x27;total_post&#x27;]})),\n",
       "                (&#x27;estimator&#x27;, SKLStatsmodelOLS())])</pre><b>In a Jupyter environment, please rerun this cell to show the HTML representation or trust the notebook. <br />On GitHub, the HTML representation is unable to render, please try loading this page with nbviewer.org.</b></div><div class=\"sk-container\" hidden><div class=\"sk-item sk-dashed-wrapped\"><div class=\"sk-label-container\"><div class=\"sk-label sk-toggleable\"><input class=\"sk-toggleable__control sk-hidden--visually\" id=\"sk-estimator-id-9\" type=\"checkbox\" ><label for=\"sk-estimator-id-9\" class=\"sk-toggleable__label sk-toggleable__label-arrow\">Pipeline</label><div class=\"sk-toggleable__content\"><pre>Pipeline(steps=[(&#x27;&#x27;,\n",
       "                 FunctionTransformer(func=&lt;function _custom_data_transform at 0x7f4db718caf0&gt;,\n",
       "                                     kw_args={&#x27;cols2keep&#x27;: [&#x27;sales_lbs_value&#x27;,\n",
       "                                                            &#x27;search_volume&#x27;,\n",
       "                                                            &#x27;rolling_6mnth_avg&#x27;,\n",
       "                                                            &#x27;total_post&#x27;]})),\n",
       "                (&#x27;estimator&#x27;, SKLStatsmodelOLS())])</pre></div></div></div><div class=\"sk-serial\"><div class=\"sk-item\"><div class=\"sk-estimator sk-toggleable\"><input class=\"sk-toggleable__control sk-hidden--visually\" id=\"sk-estimator-id-10\" type=\"checkbox\" ><label for=\"sk-estimator-id-10\" class=\"sk-toggleable__label sk-toggleable__label-arrow\">FunctionTransformer</label><div class=\"sk-toggleable__content\"><pre>FunctionTransformer(func=&lt;function _custom_data_transform at 0x7f4db718caf0&gt;,\n",
       "                    kw_args={&#x27;cols2keep&#x27;: [&#x27;sales_lbs_value&#x27;, &#x27;search_volume&#x27;,\n",
       "                                           &#x27;rolling_6mnth_avg&#x27;, &#x27;total_post&#x27;]})</pre></div></div></div><div class=\"sk-item\"><div class=\"sk-estimator sk-toggleable\"><input class=\"sk-toggleable__control sk-hidden--visually\" id=\"sk-estimator-id-11\" type=\"checkbox\" ><label for=\"sk-estimator-id-11\" class=\"sk-toggleable__label sk-toggleable__label-arrow\">SKLStatsmodelOLS</label><div class=\"sk-toggleable__content\"><pre>SKLStatsmodelOLS()</pre></div></div></div></div></div></div></div>"
      ],
      "text/plain": [
       "Pipeline(steps=[('',\n",
       "                 FunctionTransformer(func=<function _custom_data_transform at 0x7f4db718caf0>,\n",
       "                                     kw_args={'cols2keep': ['sales_lbs_value',\n",
       "                                                            'search_volume',\n",
       "                                                            'rolling_6mnth_avg',\n",
       "                                                            'total_post']})),\n",
       "                ('estimator', SKLStatsmodelOLS())])"
      ]
     },
     "execution_count": 136,
     "metadata": {},
     "output_type": "execute_result"
    }
   ],
   "source": [
    "reg_ppln_ols = Pipeline([\n",
    "    ('',FunctionTransformer(_custom_data_transform, kw_args={'cols2keep':reg_vars})),\n",
    "    ('estimator', SKLStatsmodelOLS())\n",
    "])\n",
    "reg_ppln_ols.fit(train_X, train_y.values.ravel())\n"
   ]
  },
  {
   "cell_type": "code",
   "execution_count": 137,
   "metadata": {},
   "outputs": [
    {
     "data": {
      "text/html": [
       "<table class=\"simpletable\">\n",
       "<caption>OLS Regression Results</caption>\n",
       "<tr>\n",
       "  <th>Dep. Variable:</th>            <td>y</td>        <th>  R-squared:         </th> <td>   0.830</td> \n",
       "</tr>\n",
       "<tr>\n",
       "  <th>Model:</th>                   <td>OLS</td>       <th>  Adj. R-squared:    </th> <td>   0.830</td> \n",
       "</tr>\n",
       "<tr>\n",
       "  <th>Method:</th>             <td>Least Squares</td>  <th>  F-statistic:       </th> <td>   6728.</td> \n",
       "</tr>\n",
       "<tr>\n",
       "  <th>Date:</th>             <td>Fri, 08 Mar 2024</td> <th>  Prob (F-statistic):</th>  <td>  0.00</td>  \n",
       "</tr>\n",
       "<tr>\n",
       "  <th>Time:</th>                 <td>13:22:57</td>     <th>  Log-Likelihood:    </th> <td> -85429.</td> \n",
       "</tr>\n",
       "<tr>\n",
       "  <th>No. Observations:</th>      <td>  5527</td>      <th>  AIC:               </th> <td>1.709e+05</td>\n",
       "</tr>\n",
       "<tr>\n",
       "  <th>Df Residuals:</th>          <td>  5522</td>      <th>  BIC:               </th> <td>1.709e+05</td>\n",
       "</tr>\n",
       "<tr>\n",
       "  <th>Df Model:</th>              <td>     4</td>      <th>                     </th>     <td> </td>    \n",
       "</tr>\n",
       "<tr>\n",
       "  <th>Covariance Type:</th>      <td>nonrobust</td>    <th>                     </th>     <td> </td>    \n",
       "</tr>\n",
       "</table>\n",
       "<table class=\"simpletable\">\n",
       "<tr>\n",
       "          <td></td>             <th>coef</th>     <th>std err</th>      <th>t</th>      <th>P>|t|</th>  <th>[0.025</th>    <th>0.975]</th>  \n",
       "</tr>\n",
       "<tr>\n",
       "  <th>intercept</th>         <td>-2.459e+05</td> <td> 2.13e+04</td> <td>  -11.572</td> <td> 0.000</td> <td>-2.88e+05</td> <td>-2.04e+05</td>\n",
       "</tr>\n",
       "<tr>\n",
       "  <th>sales_lbs_value</th>   <td>    0.1549</td> <td>    0.003</td> <td>   60.611</td> <td> 0.000</td> <td>    0.150</td> <td>    0.160</td>\n",
       "</tr>\n",
       "<tr>\n",
       "  <th>search_volume</th>     <td>   -0.0005</td> <td>    0.001</td> <td>   -0.592</td> <td> 0.554</td> <td>   -0.002</td> <td>    0.001</td>\n",
       "</tr>\n",
       "<tr>\n",
       "  <th>rolling_6mnth_avg</th> <td>    0.0333</td> <td>    0.001</td> <td>   22.324</td> <td> 0.000</td> <td>    0.030</td> <td>    0.036</td>\n",
       "</tr>\n",
       "<tr>\n",
       "  <th>total_post</th>        <td>    0.9873</td> <td>    0.027</td> <td>   35.958</td> <td> 0.000</td> <td>    0.933</td> <td>    1.041</td>\n",
       "</tr>\n",
       "</table>\n",
       "<table class=\"simpletable\">\n",
       "<tr>\n",
       "  <th>Omnibus:</th>       <td>1544.179</td> <th>  Durbin-Watson:     </th> <td>   1.980</td> \n",
       "</tr>\n",
       "<tr>\n",
       "  <th>Prob(Omnibus):</th>  <td> 0.000</td>  <th>  Jarque-Bera (JB):  </th> <td>63416.987</td>\n",
       "</tr>\n",
       "<tr>\n",
       "  <th>Skew:</th>           <td> 0.607</td>  <th>  Prob(JB):          </th> <td>    0.00</td> \n",
       "</tr>\n",
       "<tr>\n",
       "  <th>Kurtosis:</th>       <td>19.550</td>  <th>  Cond. No.          </th> <td>6.64e+07</td> \n",
       "</tr>\n",
       "</table><br/><br/>Notes:<br/>[1] Standard Errors assume that the covariance matrix of the errors is correctly specified.<br/>[2] The condition number is large, 6.64e+07. This might indicate that there are<br/>strong multicollinearity or other numerical problems."
      ],
      "text/plain": [
       "<class 'statsmodels.iolib.summary.Summary'>\n",
       "\"\"\"\n",
       "                            OLS Regression Results                            \n",
       "==============================================================================\n",
       "Dep. Variable:                      y   R-squared:                       0.830\n",
       "Model:                            OLS   Adj. R-squared:                  0.830\n",
       "Method:                 Least Squares   F-statistic:                     6728.\n",
       "Date:                Fri, 08 Mar 2024   Prob (F-statistic):               0.00\n",
       "Time:                        13:22:57   Log-Likelihood:                -85429.\n",
       "No. Observations:                5527   AIC:                         1.709e+05\n",
       "Df Residuals:                    5522   BIC:                         1.709e+05\n",
       "Df Model:                           4                                         \n",
       "Covariance Type:            nonrobust                                         \n",
       "=====================================================================================\n",
       "                        coef    std err          t      P>|t|      [0.025      0.975]\n",
       "-------------------------------------------------------------------------------------\n",
       "intercept         -2.459e+05   2.13e+04    -11.572      0.000   -2.88e+05   -2.04e+05\n",
       "sales_lbs_value       0.1549      0.003     60.611      0.000       0.150       0.160\n",
       "search_volume        -0.0005      0.001     -0.592      0.554      -0.002       0.001\n",
       "rolling_6mnth_avg     0.0333      0.001     22.324      0.000       0.030       0.036\n",
       "total_post            0.9873      0.027     35.958      0.000       0.933       1.041\n",
       "==============================================================================\n",
       "Omnibus:                     1544.179   Durbin-Watson:                   1.980\n",
       "Prob(Omnibus):                  0.000   Jarque-Bera (JB):            63416.987\n",
       "Skew:                           0.607   Prob(JB):                         0.00\n",
       "Kurtosis:                      19.550   Cond. No.                     6.64e+07\n",
       "==============================================================================\n",
       "\n",
       "Notes:\n",
       "[1] Standard Errors assume that the covariance matrix of the errors is correctly specified.\n",
       "[2] The condition number is large, 6.64e+07. This might indicate that there are\n",
       "strong multicollinearity or other numerical problems.\n",
       "\"\"\""
      ]
     },
     "execution_count": 137,
     "metadata": {},
     "output_type": "execute_result"
    }
   ],
   "source": [
    "reg_ppln_ols['estimator'].summary()"
   ]
  },
  {
   "cell_type": "markdown",
   "metadata": {},
   "source": [
    "### 4.1.5 Model Evaluation(Linear Model)\n",
    "\n",
    "This will be part of the production code."
   ]
  },
  {
   "cell_type": "code",
   "execution_count": 138,
   "metadata": {},
   "outputs": [],
   "source": [
    "reg_ppln = Pipeline([\n",
    "    ('', FunctionTransformer(_custom_data_transform, kw_args={'cols2keep':reg_vars})),\n",
    "    ('Linear Regression', SKLStatsmodelOLS())\n",
    "])\n",
    "\n",
    "test_X = get_dataframe(\n",
    "    features_transformer.transform(test_X),\n",
    "    get_feature_names_from_column_transformer(features_transformer)\n",
    ")\n",
    "test_X = test_X[curated_columns]"
   ]
  },
  {
   "cell_type": "code",
   "execution_count": 139,
   "metadata": {},
   "outputs": [],
   "source": [
    "reg_linear_report = RegressionReport(model=reg_ppln, x_train=train_X, y_train=train_y, x_test= test_X, y_test= test_y, refit=True)\n",
    "reg_linear_report.get_report(include_shap=False, file_path='regression_linear_model_report')"
   ]
  },
  {
   "cell_type": "markdown",
   "metadata": {},
   "source": [
    "**Dev Notes**\n",
    "Use SHAP for variable interpretability.\n",
    "<details>\n",
    "\n",
    "    1. Use SHAP=True to generate variable interpretability plots in the report\n",
    "    2. SHAP is recommended for non parameteric models such as RF, xgboost.\n",
    "    3. However, SHAP reports are time consuming depending on no.of records and model complexity.\n",
    "    \n",
    "A sample of regerssion report with SHAP can be found [here](https://drive.google.com/file/d/18RlQTsT1ze09Cgz-qpb4ha_cvyWbN5F5/view?usp=sharing).\n",
    "</details>"
   ]
  },
  {
   "cell_type": "markdown",
   "metadata": {},
   "source": [
    "### 4.1.6 Residual Analysis\n",
    "- After scoring the model, it is recommended to do a residual analysis to know the distribution of errors\n",
    "- we took a threshold of 30% above which it is marked as over prediction or underprediction\n",
    "- This will not be part of the production code."
   ]
  },
  {
   "cell_type": "code",
   "execution_count": 140,
   "metadata": {},
   "outputs": [],
   "source": [
    "threshold=0.3\n",
    "residual_analysis = test_X.copy()\n",
    "residual_analysis['prediction'] = reg_ppln_ols.predict(test_X)\n",
    "residual_analysis['actuals'] = test_y.reset_index(drop = True).iloc[:,0].values\n",
    "residual_analysis['forecast_flag'] = 'good'\n",
    "residual_analysis.loc[((residual_analysis['prediction'] > (1+threshold) * residual_analysis['actuals'])\\\n",
    "                       & (residual_analysis['actuals']>100)),'forecast_flag'] = 'over predict'\n",
    "residual_analysis.loc[((residual_analysis['prediction'] < (1-threshold) * residual_analysis['actuals'])\\\n",
    "                       & (residual_analysis['actuals']>100)),'forecast_flag'] = 'under predict'"
   ]
  },
  {
   "cell_type": "code",
   "execution_count": 141,
   "metadata": {},
   "outputs": [
    {
     "data": {},
     "metadata": {},
     "output_type": "display_data"
    },
    {
     "data": {
      "application/vnd.holoviews_exec.v0+json": "",
      "text/html": [
       "<div id='67698'>\n",
       "  <div class=\"bk-root\" id=\"36c99fc0-7af0-4e1a-9309-fe9f6d69337e\" data-root-id=\"67698\"></div>\n",
       "</div>\n",
       "<script type=\"application/javascript\">(function(root) {\n",
       "  function embed_document(root) {\n",
       "    var docs_json = {\"cc2d3dad-7fec-43e1-bf56-ad2422aea27e\":{\"defs\":[{\"extends\":null,\"module\":null,\"name\":\"ReactiveHTML1\",\"overrides\":[],\"properties\":[]},{\"extends\":null,\"module\":null,\"name\":\"FlexBox1\",\"overrides\":[],\"properties\":[{\"default\":\"flex-start\",\"kind\":null,\"name\":\"align_content\"},{\"default\":\"flex-start\",\"kind\":null,\"name\":\"align_items\"},{\"default\":\"row\",\"kind\":null,\"name\":\"flex_direction\"},{\"default\":\"wrap\",\"kind\":null,\"name\":\"flex_wrap\"},{\"default\":\"flex-start\",\"kind\":null,\"name\":\"justify_content\"}]},{\"extends\":null,\"module\":null,\"name\":\"GridStack1\",\"overrides\":[],\"properties\":[{\"default\":\"warn\",\"kind\":null,\"name\":\"mode\"},{\"default\":null,\"kind\":null,\"name\":\"ncols\"},{\"default\":null,\"kind\":null,\"name\":\"nrows\"},{\"default\":true,\"kind\":null,\"name\":\"allow_resize\"},{\"default\":true,\"kind\":null,\"name\":\"allow_drag\"},{\"default\":[],\"kind\":null,\"name\":\"state\"}]},{\"extends\":null,\"module\":null,\"name\":\"click1\",\"overrides\":[],\"properties\":[{\"default\":\"\",\"kind\":null,\"name\":\"terminal_output\"},{\"default\":\"\",\"kind\":null,\"name\":\"debug_name\"},{\"default\":0,\"kind\":null,\"name\":\"clears\"}]},{\"extends\":null,\"module\":null,\"name\":\"NotificationAreaBase1\",\"overrides\":[],\"properties\":[{\"default\":\"bottom-right\",\"kind\":null,\"name\":\"position\"},{\"default\":0,\"kind\":null,\"name\":\"_clear\"}]},{\"extends\":null,\"module\":null,\"name\":\"NotificationArea1\",\"overrides\":[],\"properties\":[{\"default\":[],\"kind\":null,\"name\":\"notifications\"},{\"default\":\"bottom-right\",\"kind\":null,\"name\":\"position\"},{\"default\":0,\"kind\":null,\"name\":\"_clear\"},{\"default\":[{\"background\":\"#ffc107\",\"icon\":{\"className\":\"fas fa-exclamation-triangle\",\"color\":\"white\",\"tagName\":\"i\"},\"type\":\"warning\"},{\"background\":\"#007bff\",\"icon\":{\"className\":\"fas fa-info-circle\",\"color\":\"white\",\"tagName\":\"i\"},\"type\":\"info\"}],\"kind\":null,\"name\":\"types\"}]},{\"extends\":null,\"module\":null,\"name\":\"Notification\",\"overrides\":[],\"properties\":[{\"default\":null,\"kind\":null,\"name\":\"background\"},{\"default\":3000,\"kind\":null,\"name\":\"duration\"},{\"default\":null,\"kind\":null,\"name\":\"icon\"},{\"default\":\"\",\"kind\":null,\"name\":\"message\"},{\"default\":null,\"kind\":null,\"name\":\"notification_type\"},{\"default\":false,\"kind\":null,\"name\":\"_destroyed\"}]},{\"extends\":null,\"module\":null,\"name\":\"TemplateActions1\",\"overrides\":[],\"properties\":[{\"default\":0,\"kind\":null,\"name\":\"open_modal\"},{\"default\":0,\"kind\":null,\"name\":\"close_modal\"}]},{\"extends\":null,\"module\":null,\"name\":\"MaterialTemplateActions1\",\"overrides\":[],\"properties\":[{\"default\":0,\"kind\":null,\"name\":\"open_modal\"},{\"default\":0,\"kind\":null,\"name\":\"close_modal\"}]}],\"roots\":{\"references\":[{\"attributes\":{},\"id\":\"67712\",\"type\":\"LinearScale\"},{\"attributes\":{},\"id\":\"67756\",\"type\":\"UnionRenderers\"},{\"attributes\":{\"end\":1.3199266985306773e-06,\"reset_end\":1.3199266985306773e-06,\"reset_start\":0.0,\"tags\":[[[\"prediction_density\",\"Density\",null]]]},\"id\":\"67701\",\"type\":\"Range1d\"},{\"attributes\":{},\"id\":\"67719\",\"type\":\"BasicTicker\"},{\"attributes\":{},\"id\":\"67737\",\"type\":\"AllLabels\"},{\"attributes\":{\"source\":{\"id\":\"67741\"}},\"id\":\"67748\",\"type\":\"CDSView\"},{\"attributes\":{\"fill_alpha\":0.5,\"fill_color\":\"#30a2da\",\"hatch_alpha\":0.7,\"hatch_color\":\"#30a2da\",\"line_alpha\":0.7,\"x\":{\"field\":\"x\"},\"y\":{\"field\":\"y\"}},\"id\":\"67744\",\"type\":\"Patch\"},{\"attributes\":{\"coordinates\":null,\"data_source\":{\"id\":\"67784\"},\"glyph\":{\"id\":\"67787\"},\"group\":null,\"hover_glyph\":null,\"muted_glyph\":{\"id\":\"67789\"},\"nonselection_glyph\":{\"id\":\"67788\"},\"selection_glyph\":{\"id\":\"67807\"},\"view\":{\"id\":\"67791\"}},\"id\":\"67790\",\"type\":\"GlyphRenderer\"},{\"attributes\":{\"axis\":{\"id\":\"67714\"},\"coordinates\":null,\"grid_line_color\":null,\"group\":null,\"ticker\":null},\"id\":\"67717\",\"type\":\"Grid\"},{\"attributes\":{\"children\":[{\"id\":\"67699\"},{\"id\":\"67705\"},{\"id\":\"67920\"}],\"margin\":[0,0,0,0],\"name\":\"Row174928\",\"tags\":[\"embedded\"]},\"id\":\"67698\",\"type\":\"Row\"},{\"attributes\":{\"axis_label\":\"density\",\"coordinates\":null,\"formatter\":{\"id\":\"67739\"},\"group\":null,\"major_label_policy\":{\"id\":\"67740\"},\"ticker\":{\"id\":\"67719\"}},\"id\":\"67718\",\"type\":\"LinearAxis\"},{\"attributes\":{\"label\":{\"value\":\"over predict\"},\"renderers\":[{\"id\":\"67747\"}]},\"id\":\"67760\",\"type\":\"LegendItem\"},{\"attributes\":{},\"id\":\"67803\",\"type\":\"UnionRenderers\"},{\"attributes\":{\"fill_alpha\":0.2,\"fill_color\":\"#30a2da\",\"hatch_alpha\":0.2,\"hatch_color\":\"#30a2da\",\"line_alpha\":0.2,\"x\":{\"field\":\"x\"},\"y\":{\"field\":\"y\"}},\"id\":\"67746\",\"type\":\"Patch\"},{\"attributes\":{\"coordinates\":null,\"data_source\":{\"id\":\"67741\"},\"glyph\":{\"id\":\"67744\"},\"group\":null,\"hover_glyph\":null,\"muted_glyph\":{\"id\":\"67746\"},\"nonselection_glyph\":{\"id\":\"67745\"},\"selection_glyph\":{\"id\":\"67761\"},\"view\":{\"id\":\"67748\"}},\"id\":\"67747\",\"type\":\"GlyphRenderer\"},{\"attributes\":{},\"id\":\"67739\",\"type\":\"BasicTickFormatter\"},{\"attributes\":{\"fill_alpha\":0.5,\"fill_color\":\"#30a2da\",\"hatch_alpha\":0.1,\"hatch_color\":\"#30a2da\",\"line_alpha\":0.7,\"x\":{\"field\":\"x\"},\"y\":{\"field\":\"y\"}},\"id\":\"67745\",\"type\":\"Patch\"},{\"attributes\":{\"callback\":null,\"renderers\":[{\"id\":\"67747\"},{\"id\":\"67768\"},{\"id\":\"67790\"}],\"tags\":[\"hv_created\"],\"tooltips\":[[\"forecast_flag\",\"@{forecast_flag}\"],[\"prediction\",\"@{prediction}\"],[\"Density\",\"@{prediction_density}\"]]},\"id\":\"67702\",\"type\":\"HoverTool\"},{\"attributes\":{},\"id\":\"67736\",\"type\":\"BasicTickFormatter\"},{\"attributes\":{\"overlay\":{\"id\":\"67727\"}},\"id\":\"67725\",\"type\":\"BoxZoomTool\"},{\"attributes\":{},\"id\":\"67742\",\"type\":\"Selection\"},{\"attributes\":{},\"id\":\"67726\",\"type\":\"ResetTool\"},{\"attributes\":{\"fill_alpha\":0.5,\"fill_color\":\"#e5ae38\",\"hatch_alpha\":0.7,\"hatch_color\":\"#e5ae38\",\"line_alpha\":0.7,\"x\":{\"field\":\"x\"},\"y\":{\"field\":\"y\"}},\"id\":\"67807\",\"type\":\"Patch\"},{\"attributes\":{},\"id\":\"67722\",\"type\":\"SaveTool\"},{\"attributes\":{},\"id\":\"67740\",\"type\":\"AllLabels\"},{\"attributes\":{\"tools\":[{\"id\":\"67702\"},{\"id\":\"67722\"},{\"id\":\"67723\"},{\"id\":\"67724\"},{\"id\":\"67725\"},{\"id\":\"67726\"}]},\"id\":\"67728\",\"type\":\"Toolbar\"},{\"attributes\":{},\"id\":\"67724\",\"type\":\"WheelZoomTool\"},{\"attributes\":{\"bottom_units\":\"screen\",\"coordinates\":null,\"fill_alpha\":0.5,\"fill_color\":\"lightgrey\",\"group\":null,\"left_units\":\"screen\",\"level\":\"overlay\",\"line_alpha\":1.0,\"line_color\":\"black\",\"line_dash\":[4,4],\"line_width\":2,\"right_units\":\"screen\",\"syncable\":false,\"top_units\":\"screen\"},\"id\":\"67727\",\"type\":\"BoxAnnotation\"},{\"attributes\":{\"data\":{\"x\":{\"__ndarray__\":\"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\",\"dtype\":\"float64\",\"order\":\"little\",\"shape\":[200]},\"y\":{\"__ndarray__\":\"AAAAAAAAAAAAAAAAAAAAAAAAAAAAAAAAAAAAAAAAAAAAAAAAAAAAAAAAAAAAAAAAAAAAAAAAAAAAAAAAAAAAAAAAAAAAAAAAAAAAAAAAAAAAAAAAAAAAAAAAAAAAAAAAAAAAAAAAAAAAAAAAAAAAAAAAAAAAAAAAAAAAAAAAAAAAAAAAAAAAAAAAAAAAAAAAAAAAAAAAAAAAAAAAAAAAAAAAAAAAAAAAAAAAAAAAAAAAAAAAAAAAAAAAAAAAAAAAAAAAAAAAAAAAAAAAAAAAAAAAAAAAAAAAAAAAAAAAAAAAAAAAAAAAAAAAAAAAAAAAAAAAAAAAAAAAAAAAAAAAAAAAAAAAAAAAAAAAAAAAAAAAAAAAAAAAAAAAAAAAAAAAAAAAAAAAAAAAAAAAAAAAAAAAAAAAAAAAAAAAAAAAAAAAAAAAAAAAAAAAAAAAAAAAAAAAAAAAAAAAAAAAAAAAAAAAAAAAAAAAAAAAAAAAAAAAAAAAAAAAAAAAAAAAAAAAAAAAAAAAAAAAAAAAAAAAAAAAAAAAAAAAAAAAAAAAAAAAAAAAAAAAAAAAAAAAAAAAAAAAAAAAAAAAAAAAAAAAAAAAAAAAAAAAAAAAAAAAAAAAAAAAAAAAAAAAAAAAAAAAAAAAAAAAAAAAAAAAAAAAAAAAAAAAAAAAAAAAAAAAAAAAAAAAAAAAAAAAAAAAAAAAAAAAAAAAAAAAAAAAAAAAAAAAAAAAAAAAAAAAAAAAAAAAAAAAAAAAAAAAAAAAAAAAAAAAAAAAAAAAAAAAAAAAAAAAAAAAAAAAAAAAAAAAAAAAAAAAAAAAAAAAAAAAAAAAAAAAAAAAAAAAAAAAAAAAAAAAAAAAAAAAAAAAAAAAAAAAAAAAAAAAAAAAAAAAAAAAAAAAAAAAAAAAAAAAAAAAAAAAAAAAAAAAAAAAAAAAAAAAAAAAAAAAAAAAAAAAAAAAAAAAAAAAAAAAAAAAAAAAAAAAAAAAAAAAAAAAAAAAAAAAAAAAAAAAAAAAAAAAAAAAAAAAAAAAAAAAAAAAAAAAAAAAAAAAAAAAAAAAAAAAAAAdvFc/T6/JPXFUDxjMveA9X7CjcbGv8z3t/KW8xOQEPk2dXtPKBxQ+n+XfZp5dIT4t4h51fkYrPiIaITU8czM+RYe33otHOT7Kh3SDwRk+PmbAZb5qi0A+FGyc3UL5QD6fnn7vrXxAPms4HF0t2j4+9zBDEBJQPD4jbrRM6eM5Pu3lJRvc4Dc+WJEnMT1tNj4hYVsaA6M1PnMarcgNjjU+CmDsBM4UNj4BAPOKRuc2PtSrcjjujTc+iOcoQnaYNz5BTifKrdE2PlrXbmw0WDU+hHlJonCPMz5SHbVOCPgxPvnL/HMKDDE+t9UaOzAwMT5o4mys3LQyPlxSzRYu1DU+fjd1x4uiOj79HQvTBX5APqOBgD9IQkQ+c0aMnQNiSD57UOHlAKdMPvGGOmEDdlA+KPwCRiONUj4EN6Ub3JFUPjzNDZ7AhFY+mDfXzkN3WD42Mt7hQZBaPgQtDMNG/lw+Oh05io7VXz7l8yUaP3VhPuWxVA7Q4WI+t8PVX1TaYz5GtoClgg1kPtsgsSoHT2M+4bOOw/yoYT6TA6zhYq5ePsKuHVHXYVk+LtFA2/UaVD5YF7eLAr5OPiaLjTRi80Y+dGt3pqsHQT7oBe12JdU5Pls5Zj0F1zQ+ZF2tm4GYMj7adk6twY8yPtjUSh1RMzQ+bv4/sB8VNz651bMW0f46PhNuwzxg8z8+bU0jBhQCQz4xSmRXW4NGPrM1rORUK0o+jYI31iZqTT7qkEiggptPPmUlkgOdJ1A+pNpl2KSTTz6K00bchB9OPouTNOWeRk0+DpLM/lS9Tj4ZMnVBiSNSPtbSDbDIvFc+sAzhNx9yYD4nbLb/60VnPk70btXToXA+GF61Y+wkeD6VQfIqgeyBPhAhnBrvGos+Wq9SbqiBlD7gRXeOjUyePny9VpmlXaU+rvbosvlDrD54081t7FOxPskI3HojiLM+Qjk1r6whtD7uZp4+Q+eyPmoSN/7TILA+qr2XGU31qD5eUmzfz3yhPoK0mdnDKpY+gooLKf5kiT47ytRXEUZ6PnZCR9hIiWg+xy6AcEesVD5edFXA3Wo/Pg==\",\"dtype\":\"float64\",\"order\":\"little\",\"shape\":[200]}},\"selected\":{\"id\":\"67763\"},\"selection_policy\":{\"id\":\"67779\"}},\"id\":\"67762\",\"type\":\"ColumnDataSource\"},{\"attributes\":{\"fill_alpha\":0.5,\"fill_color\":\"#30a2da\",\"hatch_alpha\":0.7,\"hatch_color\":\"#30a2da\",\"line_alpha\":0.7,\"x\":{\"field\":\"x\"},\"y\":{\"field\":\"y\"}},\"id\":\"67761\",\"type\":\"Patch\"},{\"attributes\":{\"label\":{\"value\":\"good\"},\"renderers\":[{\"id\":\"67790\"}]},\"id\":\"67806\",\"type\":\"LegendItem\"},{\"attributes\":{\"fill_alpha\":0.2,\"fill_color\":\"#e5ae38\",\"hatch_alpha\":0.2,\"hatch_color\":\"#e5ae38\",\"line_alpha\":0.2,\"x\":{\"field\":\"x\"},\"y\":{\"field\":\"y\"}},\"id\":\"67789\",\"type\":\"Patch\"},{\"attributes\":{\"fill_alpha\":0.5,\"fill_color\":\"#fc4f30\",\"hatch_alpha\":0.7,\"hatch_color\":\"#fc4f30\",\"line_alpha\":0.7,\"x\":{\"field\":\"x\"},\"y\":{\"field\":\"y\"}},\"id\":\"67765\",\"type\":\"Patch\"},{\"attributes\":{\"source\":{\"id\":\"67762\"}},\"id\":\"67769\",\"type\":\"CDSView\"},{\"attributes\":{\"fill_alpha\":0.5,\"fill_color\":\"#fc4f30\",\"hatch_alpha\":0.1,\"hatch_color\":\"#fc4f30\",\"line_alpha\":0.7,\"x\":{\"field\":\"x\"},\"y\":{\"field\":\"y\"}},\"id\":\"67766\",\"type\":\"Patch\"},{\"attributes\":{\"fill_alpha\":0.5,\"fill_color\":\"#e5ae38\",\"hatch_alpha\":0.7,\"hatch_color\":\"#e5ae38\",\"line_alpha\":0.7,\"x\":{\"field\":\"x\"},\"y\":{\"field\":\"y\"}},\"id\":\"67787\",\"type\":\"Patch\"},{\"attributes\":{},\"id\":\"67723\",\"type\":\"PanTool\"},{\"attributes\":{\"coordinates\":null,\"data_source\":{\"id\":\"67762\"},\"glyph\":{\"id\":\"67765\"},\"group\":null,\"hover_glyph\":null,\"muted_glyph\":{\"id\":\"67767\"},\"nonselection_glyph\":{\"id\":\"67766\"},\"selection_glyph\":{\"id\":\"67783\"},\"view\":{\"id\":\"67769\"}},\"id\":\"67768\",\"type\":\"GlyphRenderer\"},{\"attributes\":{\"below\":[{\"id\":\"67714\"}],\"center\":[{\"id\":\"67717\"},{\"id\":\"67721\"},{\"id\":\"67759\"}],\"height\":400,\"left\":[{\"id\":\"67718\"}],\"margin\":[5,5,5,5],\"min_border_bottom\":10,\"min_border_left\":10,\"min_border_right\":10,\"min_border_top\":10,\"renderers\":[{\"id\":\"67747\"},{\"id\":\"67768\"},{\"id\":\"67790\"}],\"sizing_mode\":\"fixed\",\"title\":{\"id\":\"67706\"},\"toolbar\":{\"id\":\"67728\"},\"width\":800,\"x_range\":{\"id\":\"67700\"},\"x_scale\":{\"id\":\"67710\"},\"y_range\":{\"id\":\"67701\"},\"y_scale\":{\"id\":\"67712\"}},\"id\":\"67705\",\"subtype\":\"Figure\",\"type\":\"Plot\"},{\"attributes\":{\"data\":{\"x\":{\"__ndarray__\":\"vYD6ZlGIRcFj6DOXjOlDwQhQbcfHSkLBrrem9wKsQMGoPsBPfBo+wfQNM7Dy3DrBP92lEGmfN8GKrBhx32E0wdZ7i9FVJDHBRJb8Y5jNK8HcNOIkhVIlweCmj8vjrh3BEORaTb24EMEACjF5thTuwDBDHV4fZwJBaGRDLbYpFkGcE7xV7o8hQQR11pQBCyhBbNbw0xSGLkHsm4UJlIAyQZ7MEqkdvjVBVv2fSKf7OEEKLi3oMDk8Qb5euoe6dj9BucejEyJaQUETYGrj5vhCQW34MLOrl0RBx5D3gnA2RkEjKb5SNdVHQX3BhCL6c0lB11lL8r4SS0Ex8hHCg7FMQYuK2JFIUE5B5SKfYQ3vT0Gg3bIY6cZQQcwploBLllFB+nV56K1lUkEowlxQEDVTQVQOQLhyBFRBglojINXTVEGupgaIN6NVQdzy6e+ZclZBCj/NV/xBV0E2i7C/XhFYQWTXkyfB4FhBkCN3jyOwWUG+b1r3hX9aQeq7PV/oTltBGAghx0oeXEFGVAQvre1cQXKg55YPvV1BoOzK/nGMXkHMOK5m1FtfQX3CSGebFWBBk2g6m0x9YEGqDizP/eRgQcG0HQOvTGFB11oPN2C0YUHuAAFrERxiQQSn8p7Cg2JBG03k0nPrYkEx89UGJVNjQUiZxzrWumNBXj+5bociZEF15aqiOIpkQYyLnNbp8WRBojGOCptZZUG5138+TMFlQc99cXL9KGZB5iNjpq6QZkH8yVTaX/hmQRNwRg4RYGdBKRY4QsLHZ0FAvCl2cy9oQVdiG6okl2hBbQgN3tX+aEGErv4Rh2ZpQZpU8EU4zmlBsfrheek1akHHoNOtmp1qQd1GxeFLBWtB9ey2Ff1sa0ELk6hJrtRrQSE5mn1fPGxBOd+LsRCkbEFPhX3lwQttQWUrbxlzc21Be9FgTSTbbUGTd1KB1UJuQakdRLWGqm5Bv8M16TcSb0HXaScd6XlvQe0PGVGa4W9BAVuFwqUkcEEMLn5cflhwQRgBd/ZWjHBBI9RvkC/AcEEup2gqCPRwQTp6YcTgJ3FBRU1aXrlbcUFFTVpeuVtxQTp6YcTgJ3FBLqdoKgj0cEEj1G+QL8BwQRgBd/ZWjHBBDC5+XH5YcEEBW4XCpSRwQe0PGVGa4W9B12knHel5b0G/wzXpNxJvQakdRLWGqm5Bk3dSgdVCbkF70WBNJNttQWUrbxlzc21BT4V95cELbUE534uxEKRsQSE5mn1fPGxBC5OoSa7Ua0H17LYV/WxrQd1GxeFLBWtBx6DTrZqdakGx+uF56TVqQZpU8EU4zmlBhK7+EYdmaUFtCA3e1f5oQVdiG6okl2hBQLwpdnMvaEEpFjhCwsdnQRNwRg4RYGdB/MlU2l/4ZkHmI2OmrpBmQc99cXL9KGZBudd/PkzBZUGiMY4Km1llQYyLnNbp8WRBdeWqojiKZEFeP7luhyJkQUiZxzrWumNBMfPVBiVTY0EbTeTSc+tiQQSn8p7Cg2JB7gABaxEcYkHXWg83YLRhQcG0HQOvTGFBqg4sz/3kYEGTaDqbTH1gQX3CSGebFWBBzDiuZtRbX0Gg7Mr+cYxeQXKg55YPvV1BRlQEL63tXEEYCCHHSh5cQeq7PV/oTltBvm9a94V/WkGQI3ePI7BZQWTXkyfB4FhBNouwv14RWEEKP81X/EFXQdzy6e+ZclZBrqYGiDejVUGCWiMg1dNUQVQOQLhyBFRBKMJcUBA1U0H6dXnorWVSQcwploBLllFBoN2yGOnGUEHlIp9hDe9PQYuK2JFIUE5BMfIRwoOxTEHXWUvyvhJLQX3BhCL6c0lBIym+UjXVR0HHkPeCcDZGQW34MLOrl0RBE2Bq4+b4QkG5x6MTIlpBQb5euoe6dj9BCi4t6DA5PEFW/Z9Ip/s4QZ7MEqkdvjVB7JuFCZSAMkFs1vDTFIYuQQR11pQBCyhBnBO8Ve6PIUFoZEMttikWQTBDHV4fZwJBAAoxebYU7sAQ5FpNvbgQweCmj8vjrh3B3DTiJIVSJcFElvxjmM0rwdZ7i9FVJDHBiqwYcd9hNME/3aUQaZ83wfQNM7Dy3DrBqD7AT3waPsGut6b3AqxAwQhQbcfHSkLBY+gzl4zpQ8G9gPpmUYhFwQ==\",\"dtype\":\"float64\",\"order\":\"little\",\"shape\":[200]},\"y\":{\"__ndarray__\":\"AAAAAAAAAAAAAAAAAAAAAAAAAAAAAAAAAAAAAAAAAAAAAAAAAAAAAAAAAAAAAAAAAAAAAAAAAAAAAAAAAAAAAAAAAAAAAAAAAAAAAAAAAAAAAAAAAAAAAAAAAAAAAAAAAAAAAAAAAAAAAAAAAAAAAAAAAAAAAAAAAAAAAAAAAAAAAAAAAAAAAAAAAAAAAAAAAAAAAAAAAAAAAAAAAAAAAAAAAAAAAAAAAAAAAAAAAAAAAAAAAAAAAAAAAAAAAAAAAAAAAAAAAAAAAAAAAAAAAAAAAAAAAAAAAAAAAAAAAAAAAAAAAAAAAAAAAAAAAAAAAAAAAAAAAAAAAAAAAAAAAAAAAAAAAAAAAAAAAAAAAAAAAAAAAAAAAAAAAAAAAAAAAAAAAAAAAAAAAAAAAAAAAAAAAAAAAAAAAAAAAAAAAAAAAAAAAAAAAAAAAAAAAAAAAAAAAAAAAAAAAAAAAAAAAAAAAAAAAAAAAAAAAAAAAAAAAAAAAAAAAAAAAAAAAAAAAAAAAAAAAAAAAAAAAAAAAAAAAAAAAAAAAAAAAAAAAAAAAAAAAAAAAAAAAAAAAAAAAAAAAAAAAAAAAAAAAAAAAAAAAAAAAAAAAAAAAAAAAAAAAAAAAAAAAAAAAAAAAAAAAAAAAAAAAAAAAAAAAAAAAAAAAAAAAAAAAAAAAAAAAAAAAAAAAAAAAAAAAAAAAAAAAAAAAAAAAAAAAAAAAAAAAAAAAAAAAAAAAAAAAAAAAAAAAAAAAAAAAAAAAAAAAAAAAAAAAAAAAAAAAAAAAAAAAAAAAAAAAAAAAAAAAAAAAAAAAAAAAAAAAAAAAAAAAAAAAAAAAAAAAAAAAAAAAAAAAAAAAAAAAAAAAAAAAAAAAAAAAAAAAAAAAAAAAAAAAAAAAAAAAAAAAAAAAAAAAAAAAAAAAAAAAAAAAAAAAAAAAAAAAAAAAAAAAAAAAAAAAAAAAAAAAAAAAAAAAAAAAAAAAAAAAAAAAAAAAAAAAAAAAAAAAAAAAAAAAAAAAAAAAAAAAAAAAAAAAAAAAAAAAAAAAAAAAAAAAAAAAAAAAAAAAADkesQTEbCwPQbE94MJ/sA9+GdZrrhG0D028L6I1VTdPR0D4ZeK3Og928DE6qzS8z0vqN0Oerz9PQtO4SMQ+wQ+M8y0cLLZCz7ZU9JHa2MRPpBcWUrObBQ+JrHGqa2RFj4gFhHJiHUXPiqu6aEu8BY+KHzqnF8ZFT78mhGKBEISPuP5mVqGuw0+M3+EWGzLBj5XJW9Sq30APgO084UMr/Y9IBMtjDhh7j3Sjb7LLTTlPR/dKBXEs+E9ha51bFzI4z3/7ySIs5brPW53NHrNuPQ9eef55fLL/j3ZQIV69/cFPsxRBxMD4A0+BUDynG1kEz7JJTrqzysYPlkpSmzOLR0+/27RE+Q/IT4TotmonDkkPiYTVg0EySc+nd9M3HpELD4ubmObXAIxPlvoXiw0rDQ+9kOKtw1AOT5cnGof9tk+PmrMDp6wy0I+hnukyPLNRj7Gv+MSlohLPiqvCKbph1A+GRi7Vw24Uz4YH9WReFJXPvHK2yZMSFs+A6gmBcl7Xz7UX1DKieBhPpBa7i4N8WM+QzU2oWHSZT7oTRnM/mhnPqaeE35Bnmg+G978PFNjaT5rwi0Cg7NpPjKxUSf0lWk+rglnKFMeaT4ML8b/FmxoPnqalAjxp2c+h4iezXP/Zj5AQiVXf59mPvtlgc9nrmY+v+uLtOJGZz4ZF4Ifh3RoPlFZFEE6Mmo+zj+HontqbD5NrTntavluPhrUXvpO2HA+ZcZkQ5cucj7KJI3PLGhzPlxxeZ0odXQ+0ZChv9RSdT7a/lmIVhB2Pm7gn+/E0HY+bZXZmHPJdz7XgfJG3Tt5PpEieuJKa3s+L3Xq1/uOfj460CHtKGGBPla7AS6/+oM+AVNNjyfxhj50KeMvuASKPuY7ELYB3ow+LktENpEZjz5tqalAuiyQPn8BjcR7LJA+G0DArlz9jj4SPoMMPV6MPvsJJSFDwog+saf8gJSQhD5LBgQTFTuAPmROHRoNUHg+Ay2p9aVCcT61vEgeBTVnPrOkA7yshV0+FupfqN3AUT6bD277qyxEPiTIGGw3pjU+5MjxvIbtJT5gQS+/YfQUPg==\",\"dtype\":\"float64\",\"order\":\"little\",\"shape\":[200]}},\"selected\":{\"id\":\"67785\"},\"selection_policy\":{\"id\":\"67803\"}},\"id\":\"67784\",\"type\":\"ColumnDataSource\"},{\"attributes\":{},\"id\":\"67763\",\"type\":\"Selection\"},{\"attributes\":{\"fill_alpha\":0.2,\"fill_color\":\"#fc4f30\",\"hatch_alpha\":0.2,\"hatch_color\":\"#fc4f30\",\"line_alpha\":0.2,\"x\":{\"field\":\"x\"},\"y\":{\"field\":\"y\"}},\"id\":\"67767\",\"type\":\"Patch\"},{\"attributes\":{\"fill_alpha\":0.5,\"fill_color\":\"#e5ae38\",\"hatch_alpha\":0.1,\"hatch_color\":\"#e5ae38\",\"line_alpha\":0.7,\"x\":{\"field\":\"x\"},\"y\":{\"field\":\"y\"}},\"id\":\"67788\",\"type\":\"Patch\"},{\"attributes\":{\"coordinates\":null,\"group\":null,\"text\":\"sales_units_value(density)\",\"text_color\":\"black\",\"text_font_size\":\"12pt\"},\"id\":\"67706\",\"type\":\"Title\"},{\"attributes\":{\"end\":60952266.3852768,\"reset_end\":60952266.3852768,\"reset_start\":-2915750.611139824,\"start\":-2915750.611139824,\"tags\":[[[\"prediction\",\"prediction\",null]]]},\"id\":\"67700\",\"type\":\"Range1d\"},{\"attributes\":{},\"id\":\"67779\",\"type\":\"UnionRenderers\"},{\"attributes\":{},\"id\":\"67715\",\"type\":\"BasicTicker\"},{\"attributes\":{},\"id\":\"67785\",\"type\":\"Selection\"},{\"attributes\":{\"axis\":{\"id\":\"67718\"},\"coordinates\":null,\"dimension\":1,\"grid_line_color\":null,\"group\":null,\"ticker\":null},\"id\":\"67721\",\"type\":\"Grid\"},{\"attributes\":{\"axis_label\":\"prediction\",\"coordinates\":null,\"formatter\":{\"id\":\"67736\"},\"group\":null,\"major_label_policy\":{\"id\":\"67737\"},\"ticker\":{\"id\":\"67715\"}},\"id\":\"67714\",\"type\":\"LinearAxis\"},{\"attributes\":{\"data\":{\"x\":{\"__ndarray__\":\"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\",\"dtype\":\"float64\",\"order\":\"little\",\"shape\":[200]},\"y\":{\"__ndarray__\":\"AAAAAAAAAAAAAAAAAAAAAAAAAAAAAAAAAAAAAAAAAAAAAAAAAAAAAAAAAAAAAAAAAAAAAAAAAAAAAAAAAAAAAAAAAAAAAAAAAAAAAAAAAAAAAAAAAAAAAAAAAAAAAAAAAAAAAAAAAAAAAAAAAAAAAAAAAAAAAAAAAAAAAAAAAAAAAAAAAAAAAAAAAAAAAAAAAAAAAAAAAAAAAAAAAAAAAAAAAAAAAAAAAAAAAAAAAAAAAAAAAAAAAAAAAAAAAAAAAAAAAAAAAAAAAAAAAAAAAAAAAAAAAAAAAAAAAAAAAAAAAAAAAAAAAAAAAAAAAAAAAAAAAAAAAAAAAAAAAAAAAAAAAAAAAAAAAAAAAAAAAAAAAAAAAAAAAAAAAAAAAAAAAAAAAAAAAAAAAAAAAAAAAAAAAAAAAAAAAAAAAAAAAAAAAAAAAAAAAAAAAAAAAAAAAAAAAAAAAAAAAAAAAAAAAAAAAAAAAAAAAAAAAAAAAAAAAAAAAAAAAAAAAAAAAAAAAAAAAAAAAAAAAAAAAAAAAAAAAAAAAAAAAAAAAAAAAAAAAAAAAAAAAAAAAAAAAAAAAAAAAAAAAAAAAAAAAAAAAAAAAAAAAAAAAAAAAAAAAAAAAAAAAAAAAAAAAAAAAAAAAAAAAAAAAAAAAAAAAAAAAAAAAAAAAAAAAAAAAAAAAAAAAAAAAAAAAAAAAAAAAAAAAAAAAAAAAAAAAAAAAAAAAAAAAAAAAAAAAAAAAAAAAAAAAAAAAAAAAAAAAAAAAAAAAAAAAAAAAAAAAAAAAAAAAAAAAAAAAAAAAAAAAAAAAAAAAAAAAAAAAAAAAAAAAAAAAAAAAAAAAAAAAAAAAAAAAAAAAAAAAAAAAAAAAAAAAAAAAAAAAAAAAAAAAAAAAAAAAAAAAAAAAAAAAAAAAAAAAAAAAAAAAAAAAAAAAAAAAAAAAAAAAAAAAAAAAAAAAAAAAAAAAAAAAAAAAAAAAAAAAAAAAAAAAAAAAAAAAAAAAAAAAAAAAAAAAAAAAAAAAAAAAAAAAAAAAAAAAAAAAAAAAAAAAAAAAAAAAAAAAAAAAAAvsUmMV5iWPc6x3JgJcMA9fI0V/zb13j25RS3QH97yPfJhx1f9xP09L7oyQ1dm/j1Zc354dBf0Pf1d2A87MOE9sA9iw7sIwz3SUXU0QUubPVVgH2jaBWs9OMfDTeMRaT1rhpJYymSZPXNJKHz6/sE9A7aPaQWE4D0FvMyZrJ7zPceLax1nK/49ZZsp7H0G/j2rqImZAVfzPUpw1pTzH+A9R8YD+AlnwT2qpKP+ok+YPTbUoG8T+2U98EN3f6C5KT137OOxWnzjPCGdsVDzGpM8pqVgQFU/ODzkHOfCvOrTO+2HLSs1LWU7Qdrwjuol7TqofJldt5OjOmG/DlsV0yA7Ar+jrVBolDvqWYoHTQUAPASp3KKiR2A80uLja+5ptTwpq6AT2DoCPTyPu/CrFkQ9iq1gu4GnfD0/E6eiAXSqPRuaEoF5nM89Blt+v+5y6D35xbZmWnv4PRC5Z3/1y/892n9ztFxE+z3zfWEC8BzyPVOYpWlnhPI9aUxNRy0CAT7i7mB1WBULPkRCGhKGAw4+/5Ll/pUBBz7oV/jajeT7PRl3b/R+gfY9ikAKHuCw/D0dJmDZhur/PeVd+TqcE/g94bp/HWmn5z1m4D6gthrOPW5PQXm2zKg9vQoG4dx0ej274rXsOIhEPdQclMc8t1I91RMlhICDhz0rvTDbn6azPfauHW6VQtU9LDvqm37G7T1E3U6LwQH7PVKE3gW44f89Iu9i4x9/+T2QiEZApxnyPT926Z+yHvY9L1ltqaWRAz4x4vn1q3sPPpezzkuIKxY+nmuJhz6VGz6X5p0M7IcdPp+gq5oy1xs+wbTLLKD4GT5QdvvnFf8aPs7raAwwcyA+3AI5ymMtKj4DAwASIak5PoAuSewzUkg+if4EEWsEVD6fsIVoc8pcPmkDx2qXtWI+n64E3Kp9Zj7rdZwauoFpPiVCLUb+Km0+w5qrvia0cj4l4KTneU17PszLylf+cYQ+6yo9lK4+jD5ttjBNfJ+QPq/Vl55g9Y4+MyoLe4VShT7houR15Kl0PhPr1P0HS1s+5CJzt6AbOD4lEl7w1isMPg==\",\"dtype\":\"float64\",\"order\":\"little\",\"shape\":[200]}},\"selected\":{\"id\":\"67742\"},\"selection_policy\":{\"id\":\"67756\"}},\"id\":\"67741\",\"type\":\"ColumnDataSource\"},{\"attributes\":{\"margin\":[5,5,5,5],\"name\":\"HSpacer174933\",\"sizing_mode\":\"stretch_width\"},\"id\":\"67920\",\"type\":\"Spacer\"},{\"attributes\":{\"fill_alpha\":0.5,\"fill_color\":\"#fc4f30\",\"hatch_alpha\":0.7,\"hatch_color\":\"#fc4f30\",\"line_alpha\":0.7,\"x\":{\"field\":\"x\"},\"y\":{\"field\":\"y\"}},\"id\":\"67783\",\"type\":\"Patch\"},{\"attributes\":{},\"id\":\"67710\",\"type\":\"LinearScale\"},{\"attributes\":{\"source\":{\"id\":\"67784\"}},\"id\":\"67791\",\"type\":\"CDSView\"},{\"attributes\":{\"margin\":[5,5,5,5],\"name\":\"HSpacer174932\",\"sizing_mode\":\"stretch_width\"},\"id\":\"67699\",\"type\":\"Spacer\"},{\"attributes\":{\"click_policy\":\"mute\",\"coordinates\":null,\"group\":null,\"items\":[{\"id\":\"67760\"},{\"id\":\"67782\"},{\"id\":\"67806\"}],\"title\":\"forecast_flag\"},\"id\":\"67759\",\"type\":\"Legend\"},{\"attributes\":{\"label\":{\"value\":\"under predict\"},\"renderers\":[{\"id\":\"67768\"}]},\"id\":\"67782\",\"type\":\"LegendItem\"}],\"root_ids\":[\"67698\"]},\"title\":\"Bokeh Application\",\"version\":\"2.4.3\"}};\n",
       "    var render_items = [{\"docid\":\"cc2d3dad-7fec-43e1-bf56-ad2422aea27e\",\"root_ids\":[\"67698\"],\"roots\":{\"67698\":\"36c99fc0-7af0-4e1a-9309-fe9f6d69337e\"}}];\n",
       "    root.Bokeh.embed.embed_items_notebook(docs_json, render_items);\n",
       "  }\n",
       "  if (root.Bokeh !== undefined && root.Bokeh.Panel !== undefined) {\n",
       "    embed_document(root);\n",
       "  } else {\n",
       "    var attempts = 0;\n",
       "    var timer = setInterval(function(root) {\n",
       "      if (root.Bokeh !== undefined && root.Bokeh.Panel !== undefined) {\n",
       "        clearInterval(timer);\n",
       "        embed_document(root);\n",
       "      } else if (document.readyState == \"complete\") {\n",
       "        attempts++;\n",
       "        if (attempts > 200) {\n",
       "          clearInterval(timer);\n",
       "          console.log(\"Bokeh: ERROR: Unable to run BokehJS code because BokehJS library is missing\");\n",
       "        }\n",
       "      }\n",
       "    }, 25, root)\n",
       "  }\n",
       "})(window);</script>"
      ],
      "text/plain": [
       ":NdOverlay   [forecast_flag]\n",
       "   :Distribution   [prediction]   (Density)"
      ]
     },
     "execution_count": 141,
     "metadata": {
      "application/vnd.holoviews_exec.v0+json": {
       "id": "67698"
      }
     },
     "output_type": "execute_result"
    }
   ],
   "source": [
    "residual_analysis.hvplot.kde(y=\"prediction\",by=\"forecast_flag\", ## Grouping by Predictions\n",
    "                                width=800, height=400,\n",
    "                                alpha=0.7,\n",
    "                                ylabel=\"density\",\n",
    "                                xlabel=\"prediction\",\n",
    "                                title=f'sales_units_value(density)',legend='top_right')"
   ]
  },
  {
   "cell_type": "markdown",
   "metadata": {},
   "source": [
    "- From the above plot we can infer that the higher \"over predictions\" are happening for unit_cost > 200.\n",
    "- similarly, the higher \"under predictions\" are happening for unit_cost is zero.\n",
    "\n",
    "This can help us tune the model by a separate model for unit_cost > 200\n"
   ]
  },
  {
   "cell_type": "markdown",
   "metadata": {},
   "source": [
    "# 4.2 Modelling - XGBoost"
   ]
  },
  {
   "cell_type": "markdown",
   "metadata": {},
   "source": [
    "## 4.2.1 Model training pipeline\n",
    "\n",
    "Here we focus on creating a collection of pipelines that can be used for tranining respective models.\n",
    "\n",
    "Each model pipeline will essentially be of the form\n",
    "```\n",
    "[\n",
    "('preprocessing', preprocessing_pipeline),\n",
    "('feature_selection', feature_selection_pipeline),\n",
    "('estimator', estimator),\n",
    "]\n",
    "```"
   ]
  },
  {
   "cell_type": "markdown",
   "metadata": {},
   "source": [
    "### 4.2.2 Model Pipeline Build"
   ]
  },
  {
   "cell_type": "code",
   "execution_count": 142,
   "metadata": {},
   "outputs": [
    {
     "data": {
      "text/html": [
       "<style>#sk-container-id-5 {color: black;background-color: white;}#sk-container-id-5 pre{padding: 0;}#sk-container-id-5 div.sk-toggleable {background-color: white;}#sk-container-id-5 label.sk-toggleable__label {cursor: pointer;display: block;width: 100%;margin-bottom: 0;padding: 0.3em;box-sizing: border-box;text-align: center;}#sk-container-id-5 label.sk-toggleable__label-arrow:before {content: \"▸\";float: left;margin-right: 0.25em;color: #696969;}#sk-container-id-5 label.sk-toggleable__label-arrow:hover:before {color: black;}#sk-container-id-5 div.sk-estimator:hover label.sk-toggleable__label-arrow:before {color: black;}#sk-container-id-5 div.sk-toggleable__content {max-height: 0;max-width: 0;overflow: hidden;text-align: left;background-color: #f0f8ff;}#sk-container-id-5 div.sk-toggleable__content pre {margin: 0.2em;color: black;border-radius: 0.25em;background-color: #f0f8ff;}#sk-container-id-5 input.sk-toggleable__control:checked~div.sk-toggleable__content {max-height: 200px;max-width: 100%;overflow: auto;}#sk-container-id-5 input.sk-toggleable__control:checked~label.sk-toggleable__label-arrow:before {content: \"▾\";}#sk-container-id-5 div.sk-estimator input.sk-toggleable__control:checked~label.sk-toggleable__label {background-color: #d4ebff;}#sk-container-id-5 div.sk-label input.sk-toggleable__control:checked~label.sk-toggleable__label {background-color: #d4ebff;}#sk-container-id-5 input.sk-hidden--visually {border: 0;clip: rect(1px 1px 1px 1px);clip: rect(1px, 1px, 1px, 1px);height: 1px;margin: -1px;overflow: hidden;padding: 0;position: absolute;width: 1px;}#sk-container-id-5 div.sk-estimator {font-family: monospace;background-color: #f0f8ff;border: 1px dotted black;border-radius: 0.25em;box-sizing: border-box;margin-bottom: 0.5em;}#sk-container-id-5 div.sk-estimator:hover {background-color: #d4ebff;}#sk-container-id-5 div.sk-parallel-item::after {content: \"\";width: 100%;border-bottom: 1px solid gray;flex-grow: 1;}#sk-container-id-5 div.sk-label:hover label.sk-toggleable__label {background-color: #d4ebff;}#sk-container-id-5 div.sk-serial::before {content: \"\";position: absolute;border-left: 1px solid gray;box-sizing: border-box;top: 0;bottom: 0;left: 50%;z-index: 0;}#sk-container-id-5 div.sk-serial {display: flex;flex-direction: column;align-items: center;background-color: white;padding-right: 0.2em;padding-left: 0.2em;position: relative;}#sk-container-id-5 div.sk-item {position: relative;z-index: 1;}#sk-container-id-5 div.sk-parallel {display: flex;align-items: stretch;justify-content: center;background-color: white;position: relative;}#sk-container-id-5 div.sk-item::before, #sk-container-id-5 div.sk-parallel-item::before {content: \"\";position: absolute;border-left: 1px solid gray;box-sizing: border-box;top: 0;bottom: 0;left: 50%;z-index: -1;}#sk-container-id-5 div.sk-parallel-item {display: flex;flex-direction: column;z-index: 1;position: relative;background-color: white;}#sk-container-id-5 div.sk-parallel-item:first-child::after {align-self: flex-end;width: 50%;}#sk-container-id-5 div.sk-parallel-item:last-child::after {align-self: flex-start;width: 50%;}#sk-container-id-5 div.sk-parallel-item:only-child::after {width: 0;}#sk-container-id-5 div.sk-dashed-wrapped {border: 1px dashed gray;margin: 0 0.4em 0.5em 0.4em;box-sizing: border-box;padding-bottom: 0.4em;background-color: white;}#sk-container-id-5 div.sk-label label {font-family: monospace;font-weight: bold;display: inline-block;line-height: 1.2em;}#sk-container-id-5 div.sk-label-container {text-align: center;}#sk-container-id-5 div.sk-container {/* jupyter's `normalize.less` sets `[hidden] { display: none; }` but bootstrap.min.css set `[hidden] { display: none !important; }` so we also need the `!important` here to be able to override the default hidden behavior on the sphinx rendered scikit-learn.org. See: https://github.com/scikit-learn/scikit-learn/issues/21755 */display: inline-block !important;position: relative;}#sk-container-id-5 div.sk-text-repr-fallback {display: none;}</style><div id=\"sk-container-id-5\" class=\"sk-top-container\"><div class=\"sk-text-repr-fallback\"><pre>Pipeline(steps=[(&#x27;XGBoost&#x27;,\n",
       "                 XGBRegressor(base_score=0.5, booster=&#x27;gbtree&#x27;,\n",
       "                              colsample_bylevel=1, colsample_bynode=1,\n",
       "                              colsample_bytree=1, enable_categorical=False,\n",
       "                              gamma=0, gpu_id=-1, importance_type=None,\n",
       "                              interaction_constraints=&#x27;&#x27;,\n",
       "                              learning_rate=0.300000012, max_delta_step=0,\n",
       "                              max_depth=6, min_child_weight=1, missing=nan,\n",
       "                              monotone_constraints=&#x27;()&#x27;, n_estimators=100,\n",
       "                              n_jobs=8, num_parallel_tree=1, predictor=&#x27;auto&#x27;,\n",
       "                              random_state=0, reg_alpha=0, reg_lambda=1,\n",
       "                              scale_pos_weight=1, subsample=1,\n",
       "                              tree_method=&#x27;exact&#x27;, validate_parameters=1,\n",
       "                              verbosity=None))])</pre><b>In a Jupyter environment, please rerun this cell to show the HTML representation or trust the notebook. <br />On GitHub, the HTML representation is unable to render, please try loading this page with nbviewer.org.</b></div><div class=\"sk-container\" hidden><div class=\"sk-item sk-dashed-wrapped\"><div class=\"sk-label-container\"><div class=\"sk-label sk-toggleable\"><input class=\"sk-toggleable__control sk-hidden--visually\" id=\"sk-estimator-id-12\" type=\"checkbox\" ><label for=\"sk-estimator-id-12\" class=\"sk-toggleable__label sk-toggleable__label-arrow\">Pipeline</label><div class=\"sk-toggleable__content\"><pre>Pipeline(steps=[(&#x27;XGBoost&#x27;,\n",
       "                 XGBRegressor(base_score=0.5, booster=&#x27;gbtree&#x27;,\n",
       "                              colsample_bylevel=1, colsample_bynode=1,\n",
       "                              colsample_bytree=1, enable_categorical=False,\n",
       "                              gamma=0, gpu_id=-1, importance_type=None,\n",
       "                              interaction_constraints=&#x27;&#x27;,\n",
       "                              learning_rate=0.300000012, max_delta_step=0,\n",
       "                              max_depth=6, min_child_weight=1, missing=nan,\n",
       "                              monotone_constraints=&#x27;()&#x27;, n_estimators=100,\n",
       "                              n_jobs=8, num_parallel_tree=1, predictor=&#x27;auto&#x27;,\n",
       "                              random_state=0, reg_alpha=0, reg_lambda=1,\n",
       "                              scale_pos_weight=1, subsample=1,\n",
       "                              tree_method=&#x27;exact&#x27;, validate_parameters=1,\n",
       "                              verbosity=None))])</pre></div></div></div><div class=\"sk-serial\"><div class=\"sk-item\"><div class=\"sk-estimator sk-toggleable\"><input class=\"sk-toggleable__control sk-hidden--visually\" id=\"sk-estimator-id-13\" type=\"checkbox\" ><label for=\"sk-estimator-id-13\" class=\"sk-toggleable__label sk-toggleable__label-arrow\">XGBRegressor</label><div class=\"sk-toggleable__content\"><pre>XGBRegressor(base_score=0.5, booster=&#x27;gbtree&#x27;, colsample_bylevel=1,\n",
       "             colsample_bynode=1, colsample_bytree=1, enable_categorical=False,\n",
       "             gamma=0, gpu_id=-1, importance_type=None,\n",
       "             interaction_constraints=&#x27;&#x27;, learning_rate=0.300000012,\n",
       "             max_delta_step=0, max_depth=6, min_child_weight=1, missing=nan,\n",
       "             monotone_constraints=&#x27;()&#x27;, n_estimators=100, n_jobs=8,\n",
       "             num_parallel_tree=1, predictor=&#x27;auto&#x27;, random_state=0, reg_alpha=0,\n",
       "             reg_lambda=1, scale_pos_weight=1, subsample=1, tree_method=&#x27;exact&#x27;,\n",
       "             validate_parameters=1, verbosity=None)</pre></div></div></div></div></div></div></div>"
      ],
      "text/plain": [
       "Pipeline(steps=[('XGBoost',\n",
       "                 XGBRegressor(base_score=0.5, booster='gbtree',\n",
       "                              colsample_bylevel=1, colsample_bynode=1,\n",
       "                              colsample_bytree=1, enable_categorical=False,\n",
       "                              gamma=0, gpu_id=-1, importance_type=None,\n",
       "                              interaction_constraints='',\n",
       "                              learning_rate=0.300000012, max_delta_step=0,\n",
       "                              max_depth=6, min_child_weight=1, missing=nan,\n",
       "                              monotone_constraints='()', n_estimators=100,\n",
       "                              n_jobs=8, num_parallel_tree=1, predictor='auto',\n",
       "                              random_state=0, reg_alpha=0, reg_lambda=1,\n",
       "                              scale_pos_weight=1, subsample=1,\n",
       "                              tree_method='exact', validate_parameters=1,\n",
       "                              verbosity=None))])"
      ]
     },
     "execution_count": 142,
     "metadata": {},
     "output_type": "execute_result"
    }
   ],
   "source": [
    "# let's find features for some decent defaults\n",
    "estimator = XGBRegressor()\n",
    "xgb_training_pipe_init = Pipeline([\n",
    "    ('XGBoost', XGBRegressor())\n",
    "])\n",
    "xgb_training_pipe_init.fit(train_X, train_y)"
   ]
  },
  {
   "cell_type": "markdown",
   "metadata": {},
   "source": [
    "### 4.2.3 Model Tuning"
   ]
  },
  {
   "cell_type": "code",
   "execution_count": 143,
   "metadata": {},
   "outputs": [
    {
     "data": {
      "text/plain": [
       "<AxesSubplot:>"
      ]
     },
     "execution_count": 143,
     "metadata": {},
     "output_type": "execute_result"
    },
    {
     "data": {
      "image/png": "[encoded data removed]",
      "text/plain": [
       "<Figure size 640x480 with 1 Axes>"
      ]
     },
     "metadata": {},
     "output_type": "display_data"
    }
   ],
   "source": [
    "# Understanding the Feature Importance\n",
    "%matplotlib inline\n",
    "imp = pd.DataFrame({'importance': xgb_training_pipe_init['XGBoost'].feature_importances_})\n",
    "imp.index = train_X.columns\n",
    "imp.sort_values('importance',inplace=True)\n",
    "imp.plot(kind='barh')"
   ]
  },
  {
   "cell_type": "markdown",
   "metadata": {},
   "source": [
    "'condition','model_family','days_since_last_purchase','first_time_customer','sales_person', are considered to be important and in grid search"
   ]
  },
  {
   "cell_type": "markdown",
   "metadata": {},
   "source": [
    "##### Pipeline build based on new importance features"
   ]
  },
  {
   "cell_type": "code",
   "execution_count": 144,
   "metadata": {},
   "outputs": [],
   "source": [
    "# let's find features for some decent defaults\n",
    "imp_features = ['sales_dollars_value', 'search_volume']\n",
    "\n",
    "estimator = XGBRegressor()\n",
    "xgb_training_pipe2 = Pipeline([\n",
    "    ('', FunctionTransformer(_custom_data_transform, kw_args={'cols2keep':imp_features})),\n",
    "    ('XGBoost', XGBRegressor())\n",
    "])"
   ]
  },
  {
   "cell_type": "markdown",
   "metadata": {},
   "source": [
    "#### Grid Search of the Estimator"
   ]
  },
  {
   "cell_type": "code",
   "execution_count": 145,
   "metadata": {},
   "outputs": [
    {
     "name": "stdout",
     "output_type": "stream",
     "text": [
      "Fitting 2 folds for each of 1 candidates, totalling 2 fits\n"
     ]
    },
    {
     "name": "stderr",
     "output_type": "stream",
     "text": [
      "/home/adnan_tiger/miniconda3/envs/ta-lib-dev/lib/python3.10/site-packages/xgboost/compat.py:36: FutureWarning: pandas.Int64Index is deprecated and will be removed from pandas in a future version. Use pandas.Index with the appropriate dtype instead.\n",
      "  from pandas import MultiIndex, Int64Index\n",
      "/home/adnan_tiger/miniconda3/envs/ta-lib-dev/lib/python3.10/site-packages/xgboost/compat.py:36: FutureWarning: pandas.Int64Index is deprecated and will be removed from pandas in a future version. Use pandas.Index with the appropriate dtype instead.\n",
      "  from pandas import MultiIndex, Int64Index\n",
      "/home/adnan_tiger/miniconda3/envs/ta-lib-dev/lib/python3.10/site-packages/xgboost/data.py:262: FutureWarning: pandas.Int64Index is deprecated and will be removed from pandas in a future version. Use pandas.Index with the appropriate dtype instead.\n",
      "  elif isinstance(data.columns, (pd.Int64Index, pd.RangeIndex)):\n",
      "/home/adnan_tiger/miniconda3/envs/ta-lib-dev/lib/python3.10/site-packages/xgboost/data.py:262: FutureWarning: pandas.Int64Index is deprecated and will be removed from pandas in a future version. Use pandas.Index with the appropriate dtype instead.\n",
      "  elif isinstance(data.columns, (pd.Int64Index, pd.RangeIndex)):\n"
     ]
    },
    {
     "name": "stdout",
     "output_type": "stream",
     "text": [
      "0.965079334634972\n",
      "{'gamma': 0.03, 'learning_rate': 0.1, 'max_depth': 3, 'min_child_weight': 6, 'n_estimators': 500}\n",
      "CPU times: user 11.4 s, sys: 497 ms, total: 11.9 s\n",
      "Wall time: 3min 51s\n"
     ]
    }
   ],
   "source": [
    "%%time\n",
    "parameters = {\n",
    "   'gamma':[0.03],\n",
    "   'min_child_weight':[6],\n",
    "   'learning_rate':[0.1],\n",
    "   'max_depth':[3],\n",
    "   'n_estimators':[500],\n",
    "}\n",
    "est = XGBRegressor()\n",
    "xgb_grid = GridSearchCV(est,\n",
    "                        parameters,\n",
    "                        cv = 2,\n",
    "                        n_jobs = 4,\n",
    "                        verbose=True)\n",
    "\n",
    "xgb_grid.fit(train_X, train_y)\n",
    "\n",
    "print(xgb_grid.best_score_)\n",
    "print(xgb_grid.best_params_)"
   ]
  },
  {
   "cell_type": "markdown",
   "metadata": {},
   "source": [
    "#### Pipeline Build using the best estimator"
   ]
  },
  {
   "cell_type": "code",
   "execution_count": 146,
   "metadata": {},
   "outputs": [
    {
     "data": {
      "text/html": [
       "<style>#sk-container-id-6 {color: black;background-color: white;}#sk-container-id-6 pre{padding: 0;}#sk-container-id-6 div.sk-toggleable {background-color: white;}#sk-container-id-6 label.sk-toggleable__label {cursor: pointer;display: block;width: 100%;margin-bottom: 0;padding: 0.3em;box-sizing: border-box;text-align: center;}#sk-container-id-6 label.sk-toggleable__label-arrow:before {content: \"▸\";float: left;margin-right: 0.25em;color: #696969;}#sk-container-id-6 label.sk-toggleable__label-arrow:hover:before {color: black;}#sk-container-id-6 div.sk-estimator:hover label.sk-toggleable__label-arrow:before {color: black;}#sk-container-id-6 div.sk-toggleable__content {max-height: 0;max-width: 0;overflow: hidden;text-align: left;background-color: #f0f8ff;}#sk-container-id-6 div.sk-toggleable__content pre {margin: 0.2em;color: black;border-radius: 0.25em;background-color: #f0f8ff;}#sk-container-id-6 input.sk-toggleable__control:checked~div.sk-toggleable__content {max-height: 200px;max-width: 100%;overflow: auto;}#sk-container-id-6 input.sk-toggleable__control:checked~label.sk-toggleable__label-arrow:before {content: \"▾\";}#sk-container-id-6 div.sk-estimator input.sk-toggleable__control:checked~label.sk-toggleable__label {background-color: #d4ebff;}#sk-container-id-6 div.sk-label input.sk-toggleable__control:checked~label.sk-toggleable__label {background-color: #d4ebff;}#sk-container-id-6 input.sk-hidden--visually {border: 0;clip: rect(1px 1px 1px 1px);clip: rect(1px, 1px, 1px, 1px);height: 1px;margin: -1px;overflow: hidden;padding: 0;position: absolute;width: 1px;}#sk-container-id-6 div.sk-estimator {font-family: monospace;background-color: #f0f8ff;border: 1px dotted black;border-radius: 0.25em;box-sizing: border-box;margin-bottom: 0.5em;}#sk-container-id-6 div.sk-estimator:hover {background-color: #d4ebff;}#sk-container-id-6 div.sk-parallel-item::after {content: \"\";width: 100%;border-bottom: 1px solid gray;flex-grow: 1;}#sk-container-id-6 div.sk-label:hover label.sk-toggleable__label {background-color: #d4ebff;}#sk-container-id-6 div.sk-serial::before {content: \"\";position: absolute;border-left: 1px solid gray;box-sizing: border-box;top: 0;bottom: 0;left: 50%;z-index: 0;}#sk-container-id-6 div.sk-serial {display: flex;flex-direction: column;align-items: center;background-color: white;padding-right: 0.2em;padding-left: 0.2em;position: relative;}#sk-container-id-6 div.sk-item {position: relative;z-index: 1;}#sk-container-id-6 div.sk-parallel {display: flex;align-items: stretch;justify-content: center;background-color: white;position: relative;}#sk-container-id-6 div.sk-item::before, #sk-container-id-6 div.sk-parallel-item::before {content: \"\";position: absolute;border-left: 1px solid gray;box-sizing: border-box;top: 0;bottom: 0;left: 50%;z-index: -1;}#sk-container-id-6 div.sk-parallel-item {display: flex;flex-direction: column;z-index: 1;position: relative;background-color: white;}#sk-container-id-6 div.sk-parallel-item:first-child::after {align-self: flex-end;width: 50%;}#sk-container-id-6 div.sk-parallel-item:last-child::after {align-self: flex-start;width: 50%;}#sk-container-id-6 div.sk-parallel-item:only-child::after {width: 0;}#sk-container-id-6 div.sk-dashed-wrapped {border: 1px dashed gray;margin: 0 0.4em 0.5em 0.4em;box-sizing: border-box;padding-bottom: 0.4em;background-color: white;}#sk-container-id-6 div.sk-label label {font-family: monospace;font-weight: bold;display: inline-block;line-height: 1.2em;}#sk-container-id-6 div.sk-label-container {text-align: center;}#sk-container-id-6 div.sk-container {/* jupyter's `normalize.less` sets `[hidden] { display: none; }` but bootstrap.min.css set `[hidden] { display: none !important; }` so we also need the `!important` here to be able to override the default hidden behavior on the sphinx rendered scikit-learn.org. See: https://github.com/scikit-learn/scikit-learn/issues/21755 */display: inline-block !important;position: relative;}#sk-container-id-6 div.sk-text-repr-fallback {display: none;}</style><div id=\"sk-container-id-6\" class=\"sk-top-container\"><div class=\"sk-text-repr-fallback\"><pre>Pipeline(steps=[(&#x27;&#x27;,\n",
       "                 FunctionTransformer(func=&lt;function _custom_data_transform at 0x7f4db718caf0&gt;,\n",
       "                                     kw_args={&#x27;cols2keep&#x27;: [&#x27;sales_dollars_value&#x27;,\n",
       "                                                            &#x27;search_volume&#x27;]})),\n",
       "                (&#x27;XGBoost&#x27;,\n",
       "                 XGBRegressor(base_score=0.5, booster=&#x27;gbtree&#x27;,\n",
       "                              colsample_bylevel=1, colsample_bynode=1,\n",
       "                              colsample_bytree=1, enable_categorical=False,\n",
       "                              gamma=0.03, gpu_id=-1, importance_type=None,\n",
       "                              interaction_constraints=&#x27;&#x27;, learning_rate=0.1,\n",
       "                              max_delta_step=0, max_depth=3, min_child_weight=6,\n",
       "                              missing=nan, monotone_constraints=&#x27;()&#x27;,\n",
       "                              n_estimators=500, n_jobs=8, num_parallel_tree=1,\n",
       "                              predictor=&#x27;auto&#x27;, random_state=0, reg_alpha=0,\n",
       "                              reg_lambda=1, scale_pos_weight=1, subsample=1,\n",
       "                              tree_method=&#x27;exact&#x27;, validate_parameters=1,\n",
       "                              verbosity=None))])</pre><b>In a Jupyter environment, please rerun this cell to show the HTML representation or trust the notebook. <br />On GitHub, the HTML representation is unable to render, please try loading this page with nbviewer.org.</b></div><div class=\"sk-container\" hidden><div class=\"sk-item sk-dashed-wrapped\"><div class=\"sk-label-container\"><div class=\"sk-label sk-toggleable\"><input class=\"sk-toggleable__control sk-hidden--visually\" id=\"sk-estimator-id-14\" type=\"checkbox\" ><label for=\"sk-estimator-id-14\" class=\"sk-toggleable__label sk-toggleable__label-arrow\">Pipeline</label><div class=\"sk-toggleable__content\"><pre>Pipeline(steps=[(&#x27;&#x27;,\n",
       "                 FunctionTransformer(func=&lt;function _custom_data_transform at 0x7f4db718caf0&gt;,\n",
       "                                     kw_args={&#x27;cols2keep&#x27;: [&#x27;sales_dollars_value&#x27;,\n",
       "                                                            &#x27;search_volume&#x27;]})),\n",
       "                (&#x27;XGBoost&#x27;,\n",
       "                 XGBRegressor(base_score=0.5, booster=&#x27;gbtree&#x27;,\n",
       "                              colsample_bylevel=1, colsample_bynode=1,\n",
       "                              colsample_bytree=1, enable_categorical=False,\n",
       "                              gamma=0.03, gpu_id=-1, importance_type=None,\n",
       "                              interaction_constraints=&#x27;&#x27;, learning_rate=0.1,\n",
       "                              max_delta_step=0, max_depth=3, min_child_weight=6,\n",
       "                              missing=nan, monotone_constraints=&#x27;()&#x27;,\n",
       "                              n_estimators=500, n_jobs=8, num_parallel_tree=1,\n",
       "                              predictor=&#x27;auto&#x27;, random_state=0, reg_alpha=0,\n",
       "                              reg_lambda=1, scale_pos_weight=1, subsample=1,\n",
       "                              tree_method=&#x27;exact&#x27;, validate_parameters=1,\n",
       "                              verbosity=None))])</pre></div></div></div><div class=\"sk-serial\"><div class=\"sk-item\"><div class=\"sk-estimator sk-toggleable\"><input class=\"sk-toggleable__control sk-hidden--visually\" id=\"sk-estimator-id-15\" type=\"checkbox\" ><label for=\"sk-estimator-id-15\" class=\"sk-toggleable__label sk-toggleable__label-arrow\">FunctionTransformer</label><div class=\"sk-toggleable__content\"><pre>FunctionTransformer(func=&lt;function _custom_data_transform at 0x7f4db718caf0&gt;,\n",
       "                    kw_args={&#x27;cols2keep&#x27;: [&#x27;sales_dollars_value&#x27;,\n",
       "                                           &#x27;search_volume&#x27;]})</pre></div></div></div><div class=\"sk-item\"><div class=\"sk-estimator sk-toggleable\"><input class=\"sk-toggleable__control sk-hidden--visually\" id=\"sk-estimator-id-16\" type=\"checkbox\" ><label for=\"sk-estimator-id-16\" class=\"sk-toggleable__label sk-toggleable__label-arrow\">XGBRegressor</label><div class=\"sk-toggleable__content\"><pre>XGBRegressor(base_score=0.5, booster=&#x27;gbtree&#x27;, colsample_bylevel=1,\n",
       "             colsample_bynode=1, colsample_bytree=1, enable_categorical=False,\n",
       "             gamma=0.03, gpu_id=-1, importance_type=None,\n",
       "             interaction_constraints=&#x27;&#x27;, learning_rate=0.1, max_delta_step=0,\n",
       "             max_depth=3, min_child_weight=6, missing=nan,\n",
       "             monotone_constraints=&#x27;()&#x27;, n_estimators=500, n_jobs=8,\n",
       "             num_parallel_tree=1, predictor=&#x27;auto&#x27;, random_state=0, reg_alpha=0,\n",
       "             reg_lambda=1, scale_pos_weight=1, subsample=1, tree_method=&#x27;exact&#x27;,\n",
       "             validate_parameters=1, verbosity=None)</pre></div></div></div></div></div></div></div>"
      ],
      "text/plain": [
       "Pipeline(steps=[('',\n",
       "                 FunctionTransformer(func=<function _custom_data_transform at 0x7f4db718caf0>,\n",
       "                                     kw_args={'cols2keep': ['sales_dollars_value',\n",
       "                                                            'search_volume']})),\n",
       "                ('XGBoost',\n",
       "                 XGBRegressor(base_score=0.5, booster='gbtree',\n",
       "                              colsample_bylevel=1, colsample_bynode=1,\n",
       "                              colsample_bytree=1, enable_categorical=False,\n",
       "                              gamma=0.03, gpu_id=-1, importance_type=None,\n",
       "                              interaction_constraints='', learning_rate=0.1,\n",
       "                              max_delta_step=0, max_depth=3, min_child_weight=6,\n",
       "                              missing=nan, monotone_constraints='()',\n",
       "                              n_estimators=500, n_jobs=8, num_parallel_tree=1,\n",
       "                              predictor='auto', random_state=0, reg_alpha=0,\n",
       "                              reg_lambda=1, scale_pos_weight=1, subsample=1,\n",
       "                              tree_method='exact', validate_parameters=1,\n",
       "                              verbosity=None))])"
      ]
     },
     "execution_count": 146,
     "metadata": {},
     "output_type": "execute_result"
    }
   ],
   "source": [
    "xgb_pipeline_final = Pipeline([\n",
    "    ('', FunctionTransformer(_custom_data_transform, kw_args={'cols2keep':imp_features})),\n",
    "    ('XGBoost', xgb_grid.best_estimator_)\n",
    "])\n",
    "xgb_pipeline_final.fit(train_X, train_y)"
   ]
  },
  {
   "cell_type": "code",
   "execution_count": 147,
   "metadata": {},
   "outputs": [],
   "source": [
    "reg_tree_report = RegressionReport(model=xgb_pipeline_final, x_train=train_X, y_train=train_y, x_test= test_X, y_test= test_y)\n",
    "reg_tree_report.get_report(include_shap=False, file_path='regression_tree_model_report')"
   ]
  },
  {
   "cell_type": "markdown",
   "metadata": {},
   "source": [
    "The Regression report containing the feature importances are available [here](https://drive.google.com/file/d/1JBfL3uxPcxBfl0amweXBFmLr7CSHFBUO/view?usp=sharing)"
   ]
  },
  {
   "cell_type": "markdown",
   "metadata": {},
   "source": [
    "# 5 Model Comparison"
   ]
  },
  {
   "cell_type": "markdown",
   "metadata": {},
   "source": [
    "Now, a comparison report of the  linear (vs) tree -based model  approach can be generated as follows.\n",
    "\n",
    "This code will not be part of the production code."
   ]
  },
  {
   "cell_type": "code",
   "execution_count": 148,
   "metadata": {},
   "outputs": [
    {
     "ename": "ValueError",
     "evalue": "Shape of passed values is (5527, 1), indices imply (5527, 4)",
     "output_type": "error",
     "traceback": [
      "\u001b[0;31m---------------------------------------------------------------------------\u001b[0m",
      "\u001b[0;31mValueError\u001b[0m                                Traceback (most recent call last)",
      "Input \u001b[0;32mIn [148]\u001b[0m, in \u001b[0;36m<cell line: 3>\u001b[0;34m()\u001b[0m\n\u001b[1;32m      1\u001b[0m model_pipelines \u001b[38;5;241m=\u001b[39m [reg_ppln, xgb_pipeline_final]\n\u001b[1;32m      2\u001b[0m model_comparison_report \u001b[38;5;241m=\u001b[39m RegressionComparison(models\u001b[38;5;241m=\u001b[39mmodel_pipelines,x\u001b[38;5;241m=\u001b[39mtrain_X, y\u001b[38;5;241m=\u001b[39mtrain_y)\n\u001b[0;32m----> 3\u001b[0m metrics \u001b[38;5;241m=\u001b[39m \u001b[43mmodel_comparison_report\u001b[49m\u001b[38;5;241;43m.\u001b[39;49m\u001b[43mget_report\u001b[49m\u001b[43m(\u001b[49m\u001b[43mfile_path\u001b[49m\u001b[38;5;241;43m=\u001b[39;49m\u001b[38;5;124;43m'\u001b[39;49m\u001b[38;5;124;43mregression_comparison\u001b[39;49m\u001b[38;5;124;43m'\u001b[39;49m\u001b[43m)\u001b[49m\n",
      "File \u001b[0;32m~/case_study/case_study_lht/src/ta_lib/_vendor/tigerml/model_eval/comparison.py:523\u001b[0m, in \u001b[0;36mRegressionComparison.get_report\u001b[0;34m(self, file_path, format, **kwargs)\u001b[0m\n\u001b[1;32m    520\u001b[0m \u001b[38;5;28;01mif\u001b[39;00m \u001b[38;5;129;01mnot\u001b[39;00m file_path:\n\u001b[1;32m    521\u001b[0m     file_path \u001b[38;5;241m=\u001b[39m \u001b[38;5;124mf\u001b[39m\u001b[38;5;124m'\u001b[39m\u001b[38;5;124mregression_comparison_report_at_\u001b[39m\u001b[38;5;132;01m{\u001b[39;00mdatetime\u001b[38;5;241m.\u001b[39mnow()\u001b[38;5;241m.\u001b[39mstrftime(\u001b[38;5;124m\"\u001b[39m\u001b[38;5;124m%\u001b[39m\u001b[38;5;124mY-\u001b[39m\u001b[38;5;124m%\u001b[39m\u001b[38;5;124mm-\u001b[39m\u001b[38;5;132;01m%d\u001b[39;00m\u001b[38;5;124m_\u001b[39m\u001b[38;5;124m%\u001b[39m\u001b[38;5;124mH-\u001b[39m\u001b[38;5;124m%\u001b[39m\u001b[38;5;124mM-\u001b[39m\u001b[38;5;124m%\u001b[39m\u001b[38;5;124mS\u001b[39m\u001b[38;5;124m\"\u001b[39m)\u001b[38;5;132;01m}\u001b[39;00m\u001b[38;5;124m'\u001b[39m\n\u001b[0;32m--> 523\u001b[0m \u001b[38;5;28;43msuper\u001b[39;49m\u001b[43m(\u001b[49m\u001b[43m)\u001b[49m\u001b[38;5;241;43m.\u001b[39;49m\u001b[43m_get_report\u001b[49m\u001b[43m(\u001b[49m\u001b[43mfile_path\u001b[49m\u001b[38;5;241;43m=\u001b[39;49m\u001b[43mfile_path\u001b[49m\u001b[43m,\u001b[49m\u001b[43m \u001b[49m\u001b[38;5;28;43mformat\u001b[39;49m\u001b[38;5;241;43m=\u001b[39;49m\u001b[38;5;28;43mformat\u001b[39;49m\u001b[43m,\u001b[49m\u001b[43m \u001b[49m\u001b[38;5;241;43m*\u001b[39;49m\u001b[38;5;241;43m*\u001b[39;49m\u001b[43mkwargs\u001b[49m\u001b[43m)\u001b[49m\n",
      "File \u001b[0;32m~/case_study/case_study_lht/src/ta_lib/_vendor/tigerml/model_eval/comparison.py:248\u001b[0m, in \u001b[0;36mMultiModelReport._get_report\u001b[0;34m(self, file_path, cutoff_value, format, **kwargs)\u001b[0m\n\u001b[1;32m    246\u001b[0m \u001b[38;5;28;01mif\u001b[39;00m \u001b[38;5;28mself\u001b[39m\u001b[38;5;241m.\u001b[39mmulti_class:\n\u001b[1;32m    247\u001b[0m     interpret_dict \u001b[38;5;241m=\u001b[39m {}\n\u001b[0;32m--> 248\u001b[0m     interpret_dict[\u001b[38;5;124m\"\u001b[39m\u001b[38;5;124mfeature_importances\u001b[39m\u001b[38;5;124m\"\u001b[39m] \u001b[38;5;241m=\u001b[39m \u001b[38;5;28;43mself\u001b[39;49m\u001b[38;5;241;43m.\u001b[39;49m\u001b[43mshap_summary_plots\u001b[49m\u001b[43m(\u001b[49m\u001b[43m)\u001b[49m\n\u001b[1;32m    249\u001b[0m     \u001b[38;5;28mself\u001b[39m\u001b[38;5;241m.\u001b[39melement_tree[\u001b[38;5;124m\"\u001b[39m\u001b[38;5;124minterpretation\u001b[39m\u001b[38;5;124m\"\u001b[39m] \u001b[38;5;241m=\u001b[39m interpret_dict\n\u001b[1;32m    250\u001b[0m \u001b[38;5;28;01melse\u001b[39;00m:\n",
      "File \u001b[0;32m~/case_study/case_study_lht/src/ta_lib/_vendor/tigerml/model_eval/comparison.py:209\u001b[0m, in \u001b[0;36mMultiModelReport.shap_summary_plots\u001b[0;34m(self)\u001b[0m\n\u001b[1;32m    207\u001b[0m     model \u001b[38;5;241m=\u001b[39m \u001b[38;5;28mself\u001b[39m\u001b[38;5;241m.\u001b[39mreporters[model_name]\u001b[38;5;241m.\u001b[39mmodel\n\u001b[1;32m    208\u001b[0m     X \u001b[38;5;241m=\u001b[39m \u001b[38;5;28mself\u001b[39m\u001b[38;5;241m.\u001b[39mreporters[model_name]\u001b[38;5;241m.\u001b[39mx_train\n\u001b[0;32m--> 209\u001b[0m     shap_fe \u001b[38;5;241m=\u001b[39m \u001b[43mget_shap_summary_plot\u001b[49m\u001b[43m(\u001b[49m\u001b[43mmodel\u001b[49m\u001b[43m,\u001b[49m\u001b[43m \u001b[49m\u001b[43mX\u001b[49m\u001b[43m,\u001b[49m\u001b[43m \u001b[49m\u001b[43mnative_plot\u001b[49m\u001b[38;5;241;43m=\u001b[39;49m\u001b[38;5;28;43;01mFalse\u001b[39;49;00m\u001b[43m)\u001b[49m\n\u001b[1;32m    210\u001b[0m     shap_summ_plots[model_name] \u001b[38;5;241m=\u001b[39m [shap_fe]\n\u001b[1;32m    211\u001b[0m \u001b[38;5;28;01mreturn\u001b[39;00m shap_summ_plots\n",
      "File \u001b[0;32m~/case_study/case_study_lht/src/ta_lib/_vendor/tigerml/model_eval/plotters/interpretation.py:355\u001b[0m, in \u001b[0;36mget_shap_summary_plot\u001b[0;34m(model, X, model_type, native_plot, feature_names, class_names)\u001b[0m\n\u001b[1;32m    353\u001b[0m shap_values_matrix \u001b[38;5;241m=\u001b[39m np\u001b[38;5;241m.\u001b[39marray(shap_values)\n\u001b[1;32m    354\u001b[0m mean_abs_shap_values \u001b[38;5;241m=\u001b[39m np\u001b[38;5;241m.\u001b[39mmean(np\u001b[38;5;241m.\u001b[39mabs(shap_values_matrix), axis\u001b[38;5;241m=\u001b[39m\u001b[38;5;241m1\u001b[39m)\n\u001b[0;32m--> 355\u001b[0m plot_df \u001b[38;5;241m=\u001b[39m \u001b[43mpd\u001b[49m\u001b[38;5;241;43m.\u001b[39;49m\u001b[43mDataFrame\u001b[49m\u001b[43m(\u001b[49m\n\u001b[1;32m    356\u001b[0m \u001b[43m    \u001b[49m\u001b[43mmean_abs_shap_values\u001b[49m\u001b[43m,\u001b[49m\u001b[43m \u001b[49m\u001b[43mindex\u001b[49m\u001b[38;5;241;43m=\u001b[39;49m\u001b[43mclass_names\u001b[49m\u001b[43m,\u001b[49m\u001b[43m \u001b[49m\u001b[43mcolumns\u001b[49m\u001b[38;5;241;43m=\u001b[39;49m\u001b[43mfeature_names\u001b[49m\n\u001b[1;32m    357\u001b[0m \u001b[43m\u001b[49m\u001b[43m)\u001b[49m\n\u001b[1;32m    358\u001b[0m plot_df \u001b[38;5;241m=\u001b[39m plot_df\u001b[38;5;241m.\u001b[39mT\n\u001b[1;32m    359\u001b[0m plot_df[\u001b[38;5;124m\"\u001b[39m\u001b[38;5;124m_row_sum\u001b[39m\u001b[38;5;124m\"\u001b[39m] \u001b[38;5;241m=\u001b[39m plot_df\u001b[38;5;241m.\u001b[39msum(axis\u001b[38;5;241m=\u001b[39m\u001b[38;5;241m1\u001b[39m)\n",
      "File \u001b[0;32m~/miniconda3/envs/ta-lib-dev/lib/python3.10/site-packages/pandas/core/frame.py:694\u001b[0m, in \u001b[0;36mDataFrame.__init__\u001b[0;34m(self, data, index, columns, dtype, copy)\u001b[0m\n\u001b[1;32m    684\u001b[0m         mgr \u001b[38;5;241m=\u001b[39m dict_to_mgr(\n\u001b[1;32m    685\u001b[0m             \u001b[38;5;66;03m# error: Item \"ndarray\" of \"Union[ndarray, Series, Index]\" has no\u001b[39;00m\n\u001b[1;32m    686\u001b[0m             \u001b[38;5;66;03m# attribute \"name\"\u001b[39;00m\n\u001b[0;32m   (...)\u001b[0m\n\u001b[1;32m    691\u001b[0m             typ\u001b[38;5;241m=\u001b[39mmanager,\n\u001b[1;32m    692\u001b[0m         )\n\u001b[1;32m    693\u001b[0m     \u001b[38;5;28;01melse\u001b[39;00m:\n\u001b[0;32m--> 694\u001b[0m         mgr \u001b[38;5;241m=\u001b[39m \u001b[43mndarray_to_mgr\u001b[49m\u001b[43m(\u001b[49m\n\u001b[1;32m    695\u001b[0m \u001b[43m            \u001b[49m\u001b[43mdata\u001b[49m\u001b[43m,\u001b[49m\n\u001b[1;32m    696\u001b[0m \u001b[43m            \u001b[49m\u001b[43mindex\u001b[49m\u001b[43m,\u001b[49m\n\u001b[1;32m    697\u001b[0m \u001b[43m            \u001b[49m\u001b[43mcolumns\u001b[49m\u001b[43m,\u001b[49m\n\u001b[1;32m    698\u001b[0m \u001b[43m            \u001b[49m\u001b[43mdtype\u001b[49m\u001b[38;5;241;43m=\u001b[39;49m\u001b[43mdtype\u001b[49m\u001b[43m,\u001b[49m\n\u001b[1;32m    699\u001b[0m \u001b[43m            \u001b[49m\u001b[43mcopy\u001b[49m\u001b[38;5;241;43m=\u001b[39;49m\u001b[43mcopy\u001b[49m\u001b[43m,\u001b[49m\n\u001b[1;32m    700\u001b[0m \u001b[43m            \u001b[49m\u001b[43mtyp\u001b[49m\u001b[38;5;241;43m=\u001b[39;49m\u001b[43mmanager\u001b[49m\u001b[43m,\u001b[49m\n\u001b[1;32m    701\u001b[0m \u001b[43m        \u001b[49m\u001b[43m)\u001b[49m\n\u001b[1;32m    703\u001b[0m \u001b[38;5;66;03m# For data is list-like, or Iterable (will consume into list)\u001b[39;00m\n\u001b[1;32m    704\u001b[0m \u001b[38;5;28;01melif\u001b[39;00m is_list_like(data):\n",
      "File \u001b[0;32m~/miniconda3/envs/ta-lib-dev/lib/python3.10/site-packages/pandas/core/internals/construction.py:351\u001b[0m, in \u001b[0;36mndarray_to_mgr\u001b[0;34m(values, index, columns, dtype, copy, typ)\u001b[0m\n\u001b[1;32m    346\u001b[0m \u001b[38;5;66;03m# _prep_ndarray ensures that values.ndim == 2 at this point\u001b[39;00m\n\u001b[1;32m    347\u001b[0m index, columns \u001b[38;5;241m=\u001b[39m _get_axes(\n\u001b[1;32m    348\u001b[0m     values\u001b[38;5;241m.\u001b[39mshape[\u001b[38;5;241m0\u001b[39m], values\u001b[38;5;241m.\u001b[39mshape[\u001b[38;5;241m1\u001b[39m], index\u001b[38;5;241m=\u001b[39mindex, columns\u001b[38;5;241m=\u001b[39mcolumns\n\u001b[1;32m    349\u001b[0m )\n\u001b[0;32m--> 351\u001b[0m \u001b[43m_check_values_indices_shape_match\u001b[49m\u001b[43m(\u001b[49m\u001b[43mvalues\u001b[49m\u001b[43m,\u001b[49m\u001b[43m \u001b[49m\u001b[43mindex\u001b[49m\u001b[43m,\u001b[49m\u001b[43m \u001b[49m\u001b[43mcolumns\u001b[49m\u001b[43m)\u001b[49m\n\u001b[1;32m    353\u001b[0m \u001b[38;5;28;01mif\u001b[39;00m typ \u001b[38;5;241m==\u001b[39m \u001b[38;5;124m\"\u001b[39m\u001b[38;5;124marray\u001b[39m\u001b[38;5;124m\"\u001b[39m:\n\u001b[1;32m    355\u001b[0m     \u001b[38;5;28;01mif\u001b[39;00m \u001b[38;5;28missubclass\u001b[39m(values\u001b[38;5;241m.\u001b[39mdtype\u001b[38;5;241m.\u001b[39mtype, \u001b[38;5;28mstr\u001b[39m):\n",
      "File \u001b[0;32m~/miniconda3/envs/ta-lib-dev/lib/python3.10/site-packages/pandas/core/internals/construction.py:422\u001b[0m, in \u001b[0;36m_check_values_indices_shape_match\u001b[0;34m(values, index, columns)\u001b[0m\n\u001b[1;32m    420\u001b[0m passed \u001b[38;5;241m=\u001b[39m values\u001b[38;5;241m.\u001b[39mshape\n\u001b[1;32m    421\u001b[0m implied \u001b[38;5;241m=\u001b[39m (\u001b[38;5;28mlen\u001b[39m(index), \u001b[38;5;28mlen\u001b[39m(columns))\n\u001b[0;32m--> 422\u001b[0m \u001b[38;5;28;01mraise\u001b[39;00m \u001b[38;5;167;01mValueError\u001b[39;00m(\u001b[38;5;124mf\u001b[39m\u001b[38;5;124m\"\u001b[39m\u001b[38;5;124mShape of passed values is \u001b[39m\u001b[38;5;132;01m{\u001b[39;00mpassed\u001b[38;5;132;01m}\u001b[39;00m\u001b[38;5;124m, indices imply \u001b[39m\u001b[38;5;132;01m{\u001b[39;00mimplied\u001b[38;5;132;01m}\u001b[39;00m\u001b[38;5;124m\"\u001b[39m)\n",
      "\u001b[0;31mValueError\u001b[0m: Shape of passed values is (5527, 1), indices imply (5527, 4)"
     ]
    }
   ],
   "source": [
    "model_pipelines = [reg_ppln, xgb_pipeline_final]\n",
    "model_comparison_report = RegressionComparison(models=model_pipelines,x=train_X, y=train_y)\n",
    "metrics = model_comparison_report.get_report(file_path='regression_comparison')"
   ]
  },
  {
   "cell_type": "code",
   "execution_count": 149,
   "metadata": {},
   "outputs": [
    {
     "data": {
      "text/html": [
       "<div>\n",
       "<style scoped>\n",
       "    .dataframe tbody tr th:only-of-type {\n",
       "        vertical-align: middle;\n",
       "    }\n",
       "\n",
       "    .dataframe tbody tr th {\n",
       "        vertical-align: top;\n",
       "    }\n",
       "\n",
       "    .dataframe thead th {\n",
       "        text-align: right;\n",
       "    }\n",
       "</style>\n",
       "<table border=\"1\" class=\"dataframe\">\n",
       "  <thead>\n",
       "    <tr style=\"text-align: right;\">\n",
       "      <th>metric</th>\n",
       "      <th>MAPE</th>\n",
       "      <th>WMAPE</th>\n",
       "      <th>MAE</th>\n",
       "      <th>RMSE</th>\n",
       "      <th>R^2</th>\n",
       "    </tr>\n",
       "  </thead>\n",
       "  <tbody>\n",
       "    <tr>\n",
       "      <th>, Linear Regression</th>\n",
       "      <td>1143.2732</td>\n",
       "      <td>0.5584</td>\n",
       "      <td>700292.8971</td>\n",
       "      <td>1.248915e+06</td>\n",
       "      <td>0.8297</td>\n",
       "    </tr>\n",
       "    <tr>\n",
       "      <th>, XGBoost</th>\n",
       "      <td>42.5429</td>\n",
       "      <td>0.2317</td>\n",
       "      <td>290539.4703</td>\n",
       "      <td>6.547473e+05</td>\n",
       "      <td>0.9532</td>\n",
       "    </tr>\n",
       "  </tbody>\n",
       "</table>\n",
       "</div>"
      ],
      "text/plain": [
       "metric                    MAPE   WMAPE          MAE          RMSE     R^2\n",
       ", Linear Regression  1143.2732  0.5584  700292.8971  1.248915e+06  0.8297\n",
       ", XGBoost              42.5429  0.2317  290539.4703  6.547473e+05  0.9532"
      ]
     },
     "execution_count": 149,
     "metadata": {},
     "output_type": "execute_result"
    }
   ],
   "source": [
    "model_comparison_report.performance_metrics"
   ]
  },
  {
   "cell_type": "markdown",
   "metadata": {},
   "source": [
    "A report comparing the performance, metrics between Linear model and Tree model are available [here](https://drive.google.com/file/d/1LDibiFap9K4DKME-Y0S0mtI_05lTdaJF/view?usp=sharing)"
   ]
  },
  {
   "cell_type": "markdown",
   "metadata": {},
   "source": [
    "**Dev NOTES**\n",
    "<details>\n",
    "\n",
    "the above metrics are absolute nos and not %ges"
   ]
  },
  {
   "cell_type": "markdown",
   "metadata": {},
   "source": [
    "In this example we are choosing LM model for pipelining. General criteria for choosing production models is:\n",
    "\n",
    "- Parametric models (aka whitebox models) such as Linear Regression are easier to explain to non-technical audience.\n",
    "- Generally these are accepted fast and adoption is quicker.\n",
    "- If the downstream calls for optimization using these models parametric models are easier to implement.\n",
    "- When accuracy is primary goal without explainability, the above two takes a backseat"
   ]
  },
  {
   "cell_type": "code",
   "execution_count": null,
   "metadata": {},
   "outputs": [],
   "source": []
  },
  {
   "cell_type": "code",
   "execution_count": null,
   "metadata": {},
   "outputs": [],
   "source": []
  }
 ],
 "metadata": {
  "kernelspec": {
   "display_name": "Python 3 (ipykernel)",
   "language": "python",
   "name": "python3"
  },
  "language_info": {
   "codemirror_mode": {
    "name": "ipython",
    "version": 3
   },
   "file_extension": ".py",
   "mimetype": "text/x-python",
   "name": "python",
   "nbconvert_exporter": "python",
   "pygments_lexer": "ipython3",
   "version": "3.10.13"
  }
 },
 "nbformat": 4,
 "nbformat_minor": 4
}
